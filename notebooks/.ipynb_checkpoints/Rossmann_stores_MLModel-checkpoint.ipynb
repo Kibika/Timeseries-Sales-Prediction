{
 "cells": [
  {
   "cell_type": "code",
   "execution_count": 1,
   "metadata": {},
   "outputs": [
    {
     "name": "stderr",
     "output_type": "stream",
     "text": [
      "In C:\\Users\\Stella\\Anaconda3\\lib\\site-packages\\matplotlib\\mpl-data\\stylelib\\_classic_test.mplstyle: \n",
      "The text.latex.preview rcparam was deprecated in Matplotlib 3.3 and will be removed two minor releases later.\n",
      "In C:\\Users\\Stella\\Anaconda3\\lib\\site-packages\\matplotlib\\mpl-data\\stylelib\\_classic_test.mplstyle: \n",
      "The mathtext.fallback_to_cm rcparam was deprecated in Matplotlib 3.3 and will be removed two minor releases later.\n",
      "In C:\\Users\\Stella\\Anaconda3\\lib\\site-packages\\matplotlib\\mpl-data\\stylelib\\_classic_test.mplstyle: Support for setting the 'mathtext.fallback_to_cm' rcParam is deprecated since 3.3 and will be removed two minor releases later; use 'mathtext.fallback : 'cm' instead.\n",
      "In C:\\Users\\Stella\\Anaconda3\\lib\\site-packages\\matplotlib\\mpl-data\\stylelib\\_classic_test.mplstyle: \n",
      "The validate_bool_maybe_none function was deprecated in Matplotlib 3.3 and will be removed two minor releases later.\n",
      "In C:\\Users\\Stella\\Anaconda3\\lib\\site-packages\\matplotlib\\mpl-data\\stylelib\\_classic_test.mplstyle: \n",
      "The savefig.jpeg_quality rcparam was deprecated in Matplotlib 3.3 and will be removed two minor releases later.\n",
      "In C:\\Users\\Stella\\Anaconda3\\lib\\site-packages\\matplotlib\\mpl-data\\stylelib\\_classic_test.mplstyle: \n",
      "The keymap.all_axes rcparam was deprecated in Matplotlib 3.3 and will be removed two minor releases later.\n",
      "In C:\\Users\\Stella\\Anaconda3\\lib\\site-packages\\matplotlib\\mpl-data\\stylelib\\_classic_test.mplstyle: \n",
      "The animation.avconv_path rcparam was deprecated in Matplotlib 3.3 and will be removed two minor releases later.\n",
      "In C:\\Users\\Stella\\Anaconda3\\lib\\site-packages\\matplotlib\\mpl-data\\stylelib\\_classic_test.mplstyle: \n",
      "The animation.avconv_args rcparam was deprecated in Matplotlib 3.3 and will be removed two minor releases later.\n",
      "Using TensorFlow backend.\n"
     ]
    }
   ],
   "source": [
    "import pandas as pd\n",
    "import numpy as np\n",
    "import logging\n",
    "import plotly.express as px\n",
    "import matplotlib.pyplot as plt\n",
    "import seaborn as sns\n",
    "from sklearn.preprocessing import LabelEncoder\n",
    "from statsmodels.tsa.stattools import adfuller\n",
    "from sklearn.ensemble import RandomForestRegressor\n",
    "from sklearn.preprocessing import StandardScaler\n",
    "from sklearn.feature_selection import VarianceThreshold\n",
    "from sklearn.pipeline import Pipeline\n",
    "from keras.models import model_from_json\n",
    "from sklearn.preprocessing import MinMaxScaler\n",
    "import tensorflow as tf\n",
    "from tensorflow.keras.models import Sequential\n",
    "from tensorflow.keras.layers import Dense\n",
    "from tensorflow.keras.layers import LSTM\n",
    "from sklearn import metrics\n"
   ]
  },
  {
   "cell_type": "code",
   "execution_count": 2,
   "metadata": {},
   "outputs": [],
   "source": [
    "#Specify logging level and parameters\n",
    "\n",
    "logger = logging.getLogger(__name__)\n",
    "logger.setLevel(logging.INFO)\n",
    "\n",
    "formatter = logging.Formatter('%(asctime)s:%(name)s:%(message)s')\n",
    "\n",
    "file_handler = logging.FileHandler('EDA.log')\n",
    "#file_handler.setLevel(logging.ERROR)\n",
    "file_handler.setFormatter(formatter)\n",
    "\n",
    "#stream_handler = logging.StreamHandler()\n",
    "#stream_handler.setFormatter(formatter)\n",
    "\n",
    "logger.addHandler(file_handler)\n",
    "#logger.addHandler(stream_handler)"
   ]
  },
  {
   "cell_type": "code",
   "execution_count": 3,
   "metadata": {},
   "outputs": [
    {
     "name": "stderr",
     "output_type": "stream",
     "text": [
      "C:\\Users\\Stella\\Anaconda3\\lib\\site-packages\\IPython\\core\\interactiveshell.py:3326: DtypeWarning:\n",
      "\n",
      "Columns (7) have mixed types.Specify dtype option on import or set low_memory=False.\n",
      "\n"
     ]
    }
   ],
   "source": [
    "pd.set_option('max_column', None)\n",
    "# load the datasets\n",
    "store_data=pd.read_csv('D:/Stella/Documents/10_Academy/Week_3/sales_prediction/data/store.csv')   #describes the characteristics of a store\n",
    "train_data=pd.read_csv('D:/Stella/Documents/10_Academy/Week_3/sales_prediction/data/train.csv')\n",
    "test_data=pd.read_csv('D:/Stella/Documents/10_Academy/Week_3/sales_prediction/data/test.csv')"
   ]
  },
  {
   "cell_type": "code",
   "execution_count": 4,
   "metadata": {},
   "outputs": [],
   "source": [
    "# create a copy of each dataset\n",
    "store=store_data.copy()\n",
    "train=train_data.copy()\n",
    "test=test_data.copy()"
   ]
  },
  {
   "cell_type": "code",
   "execution_count": 5,
   "metadata": {},
   "outputs": [],
   "source": [
    "#convert date column to date type and make it an index\n",
    "def date_type(df):\n",
    "    df['Date']=pd.to_datetime(df['Date'], format='%Y-%m-%d')\n",
    "    df['Year'] = df['Date'].dt.year\n",
    "    df['Month'] = df['Date'].dt.month\n",
    "    df['Day'] = df['Date'].dt.day\n",
    "    df['WeekOfYear'] = df['Date'].dt.weekofyear\n",
    "    return df"
   ]
  },
  {
   "cell_type": "code",
   "execution_count": 6,
   "metadata": {},
   "outputs": [
    {
     "name": "stderr",
     "output_type": "stream",
     "text": [
      "C:\\Users\\Stella\\Anaconda3\\lib\\site-packages\\ipykernel_launcher.py:7: FutureWarning:\n",
      "\n",
      "Series.dt.weekofyear and Series.dt.week have been deprecated.  Please use Series.dt.isocalendar().week instead.\n",
      "\n"
     ]
    },
    {
     "data": {
      "text/html": [
       "<div>\n",
       "<style scoped>\n",
       "    .dataframe tbody tr th:only-of-type {\n",
       "        vertical-align: middle;\n",
       "    }\n",
       "\n",
       "    .dataframe tbody tr th {\n",
       "        vertical-align: top;\n",
       "    }\n",
       "\n",
       "    .dataframe thead th {\n",
       "        text-align: right;\n",
       "    }\n",
       "</style>\n",
       "<table border=\"1\" class=\"dataframe\">\n",
       "  <thead>\n",
       "    <tr style=\"text-align: right;\">\n",
       "      <th></th>\n",
       "      <th>Store</th>\n",
       "      <th>DayOfWeek</th>\n",
       "      <th>Date</th>\n",
       "      <th>Sales</th>\n",
       "      <th>Customers</th>\n",
       "      <th>Open</th>\n",
       "      <th>Promo</th>\n",
       "      <th>StateHoliday</th>\n",
       "      <th>SchoolHoliday</th>\n",
       "      <th>StoreType</th>\n",
       "      <th>Assortment</th>\n",
       "      <th>CompetitionDistance</th>\n",
       "      <th>CompetitionOpenSinceMonth</th>\n",
       "      <th>CompetitionOpenSinceYear</th>\n",
       "      <th>Promo2</th>\n",
       "      <th>Promo2SinceWeek</th>\n",
       "      <th>Promo2SinceYear</th>\n",
       "      <th>PromoInterval</th>\n",
       "      <th>Year</th>\n",
       "      <th>Month</th>\n",
       "      <th>Day</th>\n",
       "      <th>WeekOfYear</th>\n",
       "    </tr>\n",
       "  </thead>\n",
       "  <tbody>\n",
       "    <tr>\n",
       "      <th>1017204</th>\n",
       "      <td>1115</td>\n",
       "      <td>6</td>\n",
       "      <td>2013-01-05</td>\n",
       "      <td>4771</td>\n",
       "      <td>339</td>\n",
       "      <td>1</td>\n",
       "      <td>0</td>\n",
       "      <td>0</td>\n",
       "      <td>1</td>\n",
       "      <td>d</td>\n",
       "      <td>c</td>\n",
       "      <td>5350.0</td>\n",
       "      <td>0.0</td>\n",
       "      <td>0.0</td>\n",
       "      <td>1</td>\n",
       "      <td>22.0</td>\n",
       "      <td>2012.0</td>\n",
       "      <td>Mar,Jun,Sept,Dec</td>\n",
       "      <td>2013</td>\n",
       "      <td>1</td>\n",
       "      <td>5</td>\n",
       "      <td>1</td>\n",
       "    </tr>\n",
       "    <tr>\n",
       "      <th>1017205</th>\n",
       "      <td>1115</td>\n",
       "      <td>5</td>\n",
       "      <td>2013-01-04</td>\n",
       "      <td>4540</td>\n",
       "      <td>326</td>\n",
       "      <td>1</td>\n",
       "      <td>0</td>\n",
       "      <td>0</td>\n",
       "      <td>1</td>\n",
       "      <td>d</td>\n",
       "      <td>c</td>\n",
       "      <td>5350.0</td>\n",
       "      <td>0.0</td>\n",
       "      <td>0.0</td>\n",
       "      <td>1</td>\n",
       "      <td>22.0</td>\n",
       "      <td>2012.0</td>\n",
       "      <td>Mar,Jun,Sept,Dec</td>\n",
       "      <td>2013</td>\n",
       "      <td>1</td>\n",
       "      <td>4</td>\n",
       "      <td>1</td>\n",
       "    </tr>\n",
       "    <tr>\n",
       "      <th>1017206</th>\n",
       "      <td>1115</td>\n",
       "      <td>4</td>\n",
       "      <td>2013-01-03</td>\n",
       "      <td>4297</td>\n",
       "      <td>300</td>\n",
       "      <td>1</td>\n",
       "      <td>0</td>\n",
       "      <td>0</td>\n",
       "      <td>1</td>\n",
       "      <td>d</td>\n",
       "      <td>c</td>\n",
       "      <td>5350.0</td>\n",
       "      <td>0.0</td>\n",
       "      <td>0.0</td>\n",
       "      <td>1</td>\n",
       "      <td>22.0</td>\n",
       "      <td>2012.0</td>\n",
       "      <td>Mar,Jun,Sept,Dec</td>\n",
       "      <td>2013</td>\n",
       "      <td>1</td>\n",
       "      <td>3</td>\n",
       "      <td>1</td>\n",
       "    </tr>\n",
       "    <tr>\n",
       "      <th>1017207</th>\n",
       "      <td>1115</td>\n",
       "      <td>3</td>\n",
       "      <td>2013-01-02</td>\n",
       "      <td>3697</td>\n",
       "      <td>305</td>\n",
       "      <td>1</td>\n",
       "      <td>0</td>\n",
       "      <td>0</td>\n",
       "      <td>1</td>\n",
       "      <td>d</td>\n",
       "      <td>c</td>\n",
       "      <td>5350.0</td>\n",
       "      <td>0.0</td>\n",
       "      <td>0.0</td>\n",
       "      <td>1</td>\n",
       "      <td>22.0</td>\n",
       "      <td>2012.0</td>\n",
       "      <td>Mar,Jun,Sept,Dec</td>\n",
       "      <td>2013</td>\n",
       "      <td>1</td>\n",
       "      <td>2</td>\n",
       "      <td>1</td>\n",
       "    </tr>\n",
       "    <tr>\n",
       "      <th>1017208</th>\n",
       "      <td>1115</td>\n",
       "      <td>2</td>\n",
       "      <td>2013-01-01</td>\n",
       "      <td>0</td>\n",
       "      <td>0</td>\n",
       "      <td>0</td>\n",
       "      <td>0</td>\n",
       "      <td>a</td>\n",
       "      <td>1</td>\n",
       "      <td>d</td>\n",
       "      <td>c</td>\n",
       "      <td>5350.0</td>\n",
       "      <td>0.0</td>\n",
       "      <td>0.0</td>\n",
       "      <td>1</td>\n",
       "      <td>22.0</td>\n",
       "      <td>2012.0</td>\n",
       "      <td>Mar,Jun,Sept,Dec</td>\n",
       "      <td>2013</td>\n",
       "      <td>1</td>\n",
       "      <td>1</td>\n",
       "      <td>1</td>\n",
       "    </tr>\n",
       "  </tbody>\n",
       "</table>\n",
       "</div>"
      ],
      "text/plain": [
       "         Store  DayOfWeek       Date  Sales  Customers  Open  Promo  \\\n",
       "1017204   1115          6 2013-01-05   4771        339     1      0   \n",
       "1017205   1115          5 2013-01-04   4540        326     1      0   \n",
       "1017206   1115          4 2013-01-03   4297        300     1      0   \n",
       "1017207   1115          3 2013-01-02   3697        305     1      0   \n",
       "1017208   1115          2 2013-01-01      0          0     0      0   \n",
       "\n",
       "        StateHoliday  SchoolHoliday StoreType Assortment  CompetitionDistance  \\\n",
       "1017204            0              1         d          c               5350.0   \n",
       "1017205            0              1         d          c               5350.0   \n",
       "1017206            0              1         d          c               5350.0   \n",
       "1017207            0              1         d          c               5350.0   \n",
       "1017208            a              1         d          c               5350.0   \n",
       "\n",
       "         CompetitionOpenSinceMonth  CompetitionOpenSinceYear  Promo2  \\\n",
       "1017204                        0.0                       0.0       1   \n",
       "1017205                        0.0                       0.0       1   \n",
       "1017206                        0.0                       0.0       1   \n",
       "1017207                        0.0                       0.0       1   \n",
       "1017208                        0.0                       0.0       1   \n",
       "\n",
       "         Promo2SinceWeek  Promo2SinceYear     PromoInterval  Year  Month  Day  \\\n",
       "1017204             22.0           2012.0  Mar,Jun,Sept,Dec  2013      1    5   \n",
       "1017205             22.0           2012.0  Mar,Jun,Sept,Dec  2013      1    4   \n",
       "1017206             22.0           2012.0  Mar,Jun,Sept,Dec  2013      1    3   \n",
       "1017207             22.0           2012.0  Mar,Jun,Sept,Dec  2013      1    2   \n",
       "1017208             22.0           2012.0  Mar,Jun,Sept,Dec  2013      1    1   \n",
       "\n",
       "         WeekOfYear  \n",
       "1017204           1  \n",
       "1017205           1  \n",
       "1017206           1  \n",
       "1017207           1  \n",
       "1017208           1  "
      ]
     },
     "execution_count": 6,
     "metadata": {},
     "output_type": "execute_result"
    }
   ],
   "source": [
    "#merge the training data with store data\n",
    "full_train=train.merge(store,on=[\"Store\"],how=\"outer\")\n",
    "full_train=full_train.fillna(0)\n",
    "full_train=date_type(full_train)\n",
    "full_train.tail()"
   ]
  },
  {
   "cell_type": "code",
   "execution_count": 7,
   "metadata": {},
   "outputs": [
    {
     "name": "stdout",
     "output_type": "stream",
     "text": [
      "<class 'pandas.core.frame.DataFrame'>\n",
      "Int64Index: 1017209 entries, 0 to 1017208\n",
      "Data columns (total 22 columns):\n",
      " #   Column                     Non-Null Count    Dtype         \n",
      "---  ------                     --------------    -----         \n",
      " 0   Store                      1017209 non-null  int64         \n",
      " 1   DayOfWeek                  1017209 non-null  int64         \n",
      " 2   Date                       1017209 non-null  datetime64[ns]\n",
      " 3   Sales                      1017209 non-null  int64         \n",
      " 4   Customers                  1017209 non-null  int64         \n",
      " 5   Open                       1017209 non-null  int64         \n",
      " 6   Promo                      1017209 non-null  int64         \n",
      " 7   StateHoliday               1017209 non-null  object        \n",
      " 8   SchoolHoliday              1017209 non-null  int64         \n",
      " 9   StoreType                  1017209 non-null  object        \n",
      " 10  Assortment                 1017209 non-null  object        \n",
      " 11  CompetitionDistance        1017209 non-null  float64       \n",
      " 12  CompetitionOpenSinceMonth  1017209 non-null  float64       \n",
      " 13  CompetitionOpenSinceYear   1017209 non-null  float64       \n",
      " 14  Promo2                     1017209 non-null  int64         \n",
      " 15  Promo2SinceWeek            1017209 non-null  float64       \n",
      " 16  Promo2SinceYear            1017209 non-null  float64       \n",
      " 17  PromoInterval              1017209 non-null  object        \n",
      " 18  Year                       1017209 non-null  int64         \n",
      " 19  Month                      1017209 non-null  int64         \n",
      " 20  Day                        1017209 non-null  int64         \n",
      " 21  WeekOfYear                 1017209 non-null  int64         \n",
      "dtypes: datetime64[ns](1), float64(5), int64(12), object(4)\n",
      "memory usage: 178.5+ MB\n"
     ]
    }
   ],
   "source": [
    "full_train.info()"
   ]
  },
  {
   "cell_type": "code",
   "execution_count": 8,
   "metadata": {},
   "outputs": [
    {
     "name": "stderr",
     "output_type": "stream",
     "text": [
      "C:\\Users\\Stella\\Anaconda3\\lib\\site-packages\\ipykernel_launcher.py:7: FutureWarning:\n",
      "\n",
      "Series.dt.weekofyear and Series.dt.week have been deprecated.  Please use Series.dt.isocalendar().week instead.\n",
      "\n"
     ]
    },
    {
     "data": {
      "text/html": [
       "<div>\n",
       "<style scoped>\n",
       "    .dataframe tbody tr th:only-of-type {\n",
       "        vertical-align: middle;\n",
       "    }\n",
       "\n",
       "    .dataframe tbody tr th {\n",
       "        vertical-align: top;\n",
       "    }\n",
       "\n",
       "    .dataframe thead th {\n",
       "        text-align: right;\n",
       "    }\n",
       "</style>\n",
       "<table border=\"1\" class=\"dataframe\">\n",
       "  <thead>\n",
       "    <tr style=\"text-align: right;\">\n",
       "      <th></th>\n",
       "      <th>Id</th>\n",
       "      <th>Store</th>\n",
       "      <th>DayOfWeek</th>\n",
       "      <th>Date</th>\n",
       "      <th>Open</th>\n",
       "      <th>Promo</th>\n",
       "      <th>StateHoliday</th>\n",
       "      <th>SchoolHoliday</th>\n",
       "      <th>StoreType</th>\n",
       "      <th>Assortment</th>\n",
       "      <th>CompetitionDistance</th>\n",
       "      <th>CompetitionOpenSinceMonth</th>\n",
       "      <th>CompetitionOpenSinceYear</th>\n",
       "      <th>Promo2</th>\n",
       "      <th>Promo2SinceWeek</th>\n",
       "      <th>Promo2SinceYear</th>\n",
       "      <th>PromoInterval</th>\n",
       "      <th>Year</th>\n",
       "      <th>Month</th>\n",
       "      <th>Day</th>\n",
       "      <th>WeekOfYear</th>\n",
       "    </tr>\n",
       "  </thead>\n",
       "  <tbody>\n",
       "    <tr>\n",
       "      <th>0</th>\n",
       "      <td>1.0</td>\n",
       "      <td>1</td>\n",
       "      <td>4.0</td>\n",
       "      <td>2015-09-17</td>\n",
       "      <td>1.0</td>\n",
       "      <td>1.0</td>\n",
       "      <td>0</td>\n",
       "      <td>0.0</td>\n",
       "      <td>c</td>\n",
       "      <td>a</td>\n",
       "      <td>1270.0</td>\n",
       "      <td>9.0</td>\n",
       "      <td>2008.0</td>\n",
       "      <td>0</td>\n",
       "      <td>0.0</td>\n",
       "      <td>0.0</td>\n",
       "      <td>0</td>\n",
       "      <td>2015</td>\n",
       "      <td>9</td>\n",
       "      <td>17</td>\n",
       "      <td>38</td>\n",
       "    </tr>\n",
       "    <tr>\n",
       "      <th>1</th>\n",
       "      <td>857.0</td>\n",
       "      <td>1</td>\n",
       "      <td>3.0</td>\n",
       "      <td>2015-09-16</td>\n",
       "      <td>1.0</td>\n",
       "      <td>1.0</td>\n",
       "      <td>0</td>\n",
       "      <td>0.0</td>\n",
       "      <td>c</td>\n",
       "      <td>a</td>\n",
       "      <td>1270.0</td>\n",
       "      <td>9.0</td>\n",
       "      <td>2008.0</td>\n",
       "      <td>0</td>\n",
       "      <td>0.0</td>\n",
       "      <td>0.0</td>\n",
       "      <td>0</td>\n",
       "      <td>2015</td>\n",
       "      <td>9</td>\n",
       "      <td>16</td>\n",
       "      <td>38</td>\n",
       "    </tr>\n",
       "    <tr>\n",
       "      <th>2</th>\n",
       "      <td>1713.0</td>\n",
       "      <td>1</td>\n",
       "      <td>2.0</td>\n",
       "      <td>2015-09-15</td>\n",
       "      <td>1.0</td>\n",
       "      <td>1.0</td>\n",
       "      <td>0</td>\n",
       "      <td>0.0</td>\n",
       "      <td>c</td>\n",
       "      <td>a</td>\n",
       "      <td>1270.0</td>\n",
       "      <td>9.0</td>\n",
       "      <td>2008.0</td>\n",
       "      <td>0</td>\n",
       "      <td>0.0</td>\n",
       "      <td>0.0</td>\n",
       "      <td>0</td>\n",
       "      <td>2015</td>\n",
       "      <td>9</td>\n",
       "      <td>15</td>\n",
       "      <td>38</td>\n",
       "    </tr>\n",
       "    <tr>\n",
       "      <th>3</th>\n",
       "      <td>2569.0</td>\n",
       "      <td>1</td>\n",
       "      <td>1.0</td>\n",
       "      <td>2015-09-14</td>\n",
       "      <td>1.0</td>\n",
       "      <td>1.0</td>\n",
       "      <td>0</td>\n",
       "      <td>0.0</td>\n",
       "      <td>c</td>\n",
       "      <td>a</td>\n",
       "      <td>1270.0</td>\n",
       "      <td>9.0</td>\n",
       "      <td>2008.0</td>\n",
       "      <td>0</td>\n",
       "      <td>0.0</td>\n",
       "      <td>0.0</td>\n",
       "      <td>0</td>\n",
       "      <td>2015</td>\n",
       "      <td>9</td>\n",
       "      <td>14</td>\n",
       "      <td>38</td>\n",
       "    </tr>\n",
       "    <tr>\n",
       "      <th>4</th>\n",
       "      <td>3425.0</td>\n",
       "      <td>1</td>\n",
       "      <td>7.0</td>\n",
       "      <td>2015-09-13</td>\n",
       "      <td>0.0</td>\n",
       "      <td>0.0</td>\n",
       "      <td>0</td>\n",
       "      <td>0.0</td>\n",
       "      <td>c</td>\n",
       "      <td>a</td>\n",
       "      <td>1270.0</td>\n",
       "      <td>9.0</td>\n",
       "      <td>2008.0</td>\n",
       "      <td>0</td>\n",
       "      <td>0.0</td>\n",
       "      <td>0.0</td>\n",
       "      <td>0</td>\n",
       "      <td>2015</td>\n",
       "      <td>9</td>\n",
       "      <td>13</td>\n",
       "      <td>37</td>\n",
       "    </tr>\n",
       "  </tbody>\n",
       "</table>\n",
       "</div>"
      ],
      "text/plain": [
       "       Id  Store  DayOfWeek       Date  Open  Promo StateHoliday  \\\n",
       "0     1.0      1        4.0 2015-09-17   1.0    1.0            0   \n",
       "1   857.0      1        3.0 2015-09-16   1.0    1.0            0   \n",
       "2  1713.0      1        2.0 2015-09-15   1.0    1.0            0   \n",
       "3  2569.0      1        1.0 2015-09-14   1.0    1.0            0   \n",
       "4  3425.0      1        7.0 2015-09-13   0.0    0.0            0   \n",
       "\n",
       "   SchoolHoliday StoreType Assortment  CompetitionDistance  \\\n",
       "0            0.0         c          a               1270.0   \n",
       "1            0.0         c          a               1270.0   \n",
       "2            0.0         c          a               1270.0   \n",
       "3            0.0         c          a               1270.0   \n",
       "4            0.0         c          a               1270.0   \n",
       "\n",
       "   CompetitionOpenSinceMonth  CompetitionOpenSinceYear  Promo2  \\\n",
       "0                        9.0                    2008.0       0   \n",
       "1                        9.0                    2008.0       0   \n",
       "2                        9.0                    2008.0       0   \n",
       "3                        9.0                    2008.0       0   \n",
       "4                        9.0                    2008.0       0   \n",
       "\n",
       "   Promo2SinceWeek  Promo2SinceYear PromoInterval  Year  Month  Day  \\\n",
       "0              0.0              0.0             0  2015      9   17   \n",
       "1              0.0              0.0             0  2015      9   16   \n",
       "2              0.0              0.0             0  2015      9   15   \n",
       "3              0.0              0.0             0  2015      9   14   \n",
       "4              0.0              0.0             0  2015      9   13   \n",
       "\n",
       "   WeekOfYear  \n",
       "0          38  \n",
       "1          38  \n",
       "2          38  \n",
       "3          38  \n",
       "4          37  "
      ]
     },
     "execution_count": 8,
     "metadata": {},
     "output_type": "execute_result"
    }
   ],
   "source": [
    "#merge test data with store data\n",
    "full_test=test.merge(store,on=[\"Store\"],how=\"outer\")\n",
    "full_test = full_test.dropna(subset=['Id']).reset_index(drop=True)\n",
    "full_test = full_test.drop(full_test[(full_test['Open'].isnull() == True) & (full_test['Promo'] == 0.0)].index)\n",
    "full_test['Open'] = full_test['Open'].fillna(1)\n",
    "full_test=date_type(full_test)\n",
    "full_test=full_test.fillna(0)\n",
    "full_test.head()"
   ]
  },
  {
   "cell_type": "code",
   "execution_count": 9,
   "metadata": {},
   "outputs": [
    {
     "name": "stdout",
     "output_type": "stream",
     "text": [
      "<class 'pandas.core.frame.DataFrame'>\n",
      "Int64Index: 41081 entries, 0 to 41087\n",
      "Data columns (total 21 columns):\n",
      " #   Column                     Non-Null Count  Dtype         \n",
      "---  ------                     --------------  -----         \n",
      " 0   Id                         41081 non-null  float64       \n",
      " 1   Store                      41081 non-null  int64         \n",
      " 2   DayOfWeek                  41081 non-null  float64       \n",
      " 3   Date                       41081 non-null  datetime64[ns]\n",
      " 4   Open                       41081 non-null  float64       \n",
      " 5   Promo                      41081 non-null  float64       \n",
      " 6   StateHoliday               41081 non-null  object        \n",
      " 7   SchoolHoliday              41081 non-null  float64       \n",
      " 8   StoreType                  41081 non-null  object        \n",
      " 9   Assortment                 41081 non-null  object        \n",
      " 10  CompetitionDistance        41081 non-null  float64       \n",
      " 11  CompetitionOpenSinceMonth  41081 non-null  float64       \n",
      " 12  CompetitionOpenSinceYear   41081 non-null  float64       \n",
      " 13  Promo2                     41081 non-null  int64         \n",
      " 14  Promo2SinceWeek            41081 non-null  float64       \n",
      " 15  Promo2SinceYear            41081 non-null  float64       \n",
      " 16  PromoInterval              41081 non-null  object        \n",
      " 17  Year                       41081 non-null  int64         \n",
      " 18  Month                      41081 non-null  int64         \n",
      " 19  Day                        41081 non-null  int64         \n",
      " 20  WeekOfYear                 41081 non-null  int64         \n",
      "dtypes: datetime64[ns](1), float64(10), int64(6), object(4)\n",
      "memory usage: 6.9+ MB\n"
     ]
    }
   ],
   "source": [
    "full_test.info()"
   ]
  },
  {
   "cell_type": "code",
   "execution_count": 10,
   "metadata": {},
   "outputs": [],
   "source": [
    "#get competition duration and drop columns for CompetitionOpenSinceYear and CompetitionOpenSinceMonth\n",
    "def competition_duration(df):\n",
    "    df['CompetitionOpen '] = 12 * (df['Year'] - df['CompetitionOpenSinceYear']) + (df['Month'] - df['CompetitionOpenSinceMonth'])\n",
    "    df=df.drop(['CompetitionOpenSinceYear','CompetitionOpenSinceMonth'],axis=1)\n",
    "    return df"
   ]
  },
  {
   "cell_type": "code",
   "execution_count": 11,
   "metadata": {},
   "outputs": [],
   "source": [
    "full_train=competition_duration(full_train)\n",
    "full_test=competition_duration(full_test)"
   ]
  },
  {
   "cell_type": "code",
   "execution_count": 12,
   "metadata": {},
   "outputs": [],
   "source": [
    "#get promotion duration and drop columns for Promo2SinceWeek and Promo2SinceYear\n",
    "def promotion_duration(df):\n",
    "    df['PromoOpen'] = 12 * (df['Year'] - df['Promo2SinceYear']) + (df['WeekOfYear'] - df['Promo2SinceWeek']) / 4.0\n",
    "    df=df.drop(['Promo2SinceYear','Promo2SinceWeek'],axis=1)\n",
    "    return df"
   ]
  },
  {
   "cell_type": "code",
   "execution_count": 13,
   "metadata": {
    "scrolled": true
   },
   "outputs": [],
   "source": [
    "full_train=promotion_duration(full_train)\n",
    "full_test=promotion_duration(full_test)"
   ]
  },
  {
   "cell_type": "code",
   "execution_count": 14,
   "metadata": {},
   "outputs": [],
   "source": [
    "#get promotion intervals and drop PromoInterval column\n",
    "def promotion_interval(df):\n",
    "    s = df['PromoInterval'].str.split(',', n = 3, expand = True)\n",
    "    s.columns = ['PromoInterval0', 'PromoInterval1', 'PromoInterval2', 'PromoInterval3']\n",
    "    df = df.join(s)\n",
    "\n",
    "\n",
    "    #Converting Promointerval columns to numerical.\n",
    "    month_to_num_dict = {\n",
    "                        'Jan' : 1,\n",
    "                        'Feb' : 2,\n",
    "                        'Mar' : 3,\n",
    "                        'Apr' : 4,\n",
    "                        'May' : 5,\n",
    "                        'Jun' : 6,\n",
    "                        'Jul' : 7,\n",
    "                        'Aug' : 8,\n",
    "                        'Sept' : 9, \n",
    "                        'Oct' : 10,\n",
    "                        'Nov' : 11,\n",
    "                        'Dec' : 12,\n",
    "                        'nan' : np.NaN\n",
    "                        }\n",
    "\n",
    "\n",
    "    df['PromoInterval0'] = df['PromoInterval0'].map(month_to_num_dict)\n",
    "    df['PromoInterval1'] = df['PromoInterval1'].map(month_to_num_dict)\n",
    "    df['PromoInterval2'] = df['PromoInterval2'].map(month_to_num_dict)\n",
    "    df['PromoInterval3'] = df['PromoInterval3'].map(month_to_num_dict)\n",
    "    df=df.drop(['PromoInterval'],axis=1)\n",
    "    return df"
   ]
  },
  {
   "cell_type": "code",
   "execution_count": 15,
   "metadata": {},
   "outputs": [],
   "source": [
    "full_train=promotion_interval(full_train)\n",
    "full_test=promotion_interval(full_test)"
   ]
  },
  {
   "cell_type": "code",
   "execution_count": 16,
   "metadata": {},
   "outputs": [],
   "source": [
    "#make date column index\n",
    "full_train.set_index('Date', inplace=True)\n",
    "full_test.set_index('Date', inplace=True)"
   ]
  },
  {
   "cell_type": "code",
   "execution_count": 18,
   "metadata": {},
   "outputs": [],
   "source": [
    "#fill NA values with zero to indicate that the variable has not occured for the store\n",
    "full_train=full_train.fillna(0)\n",
    "full_test=full_test.fillna(0)"
   ]
  },
  {
   "cell_type": "code",
   "execution_count": 19,
   "metadata": {},
   "outputs": [
    {
     "name": "stdout",
     "output_type": "stream",
     "text": [
      "<class 'pandas.core.frame.DataFrame'>\n",
      "DatetimeIndex: 1017209 entries, 2015-07-31 to 2013-01-01\n",
      "Data columns (total 22 columns):\n",
      " #   Column               Non-Null Count    Dtype  \n",
      "---  ------               --------------    -----  \n",
      " 0   Store                1017209 non-null  int64  \n",
      " 1   DayOfWeek            1017209 non-null  int64  \n",
      " 2   Sales                1017209 non-null  int64  \n",
      " 3   Customers            1017209 non-null  int64  \n",
      " 4   Open                 1017209 non-null  int64  \n",
      " 5   Promo                1017209 non-null  int64  \n",
      " 6   StateHoliday         1017209 non-null  object \n",
      " 7   SchoolHoliday        1017209 non-null  int64  \n",
      " 8   StoreType            1017209 non-null  object \n",
      " 9   Assortment           1017209 non-null  object \n",
      " 10  CompetitionDistance  1017209 non-null  float64\n",
      " 11  Promo2               1017209 non-null  int64  \n",
      " 12  Year                 1017209 non-null  int64  \n",
      " 13  Month                1017209 non-null  int64  \n",
      " 14  Day                  1017209 non-null  int64  \n",
      " 15  WeekOfYear           1017209 non-null  int64  \n",
      " 16  CompetitionOpen      1017209 non-null  float64\n",
      " 17  PromoOpen            1017209 non-null  float64\n",
      " 18  PromoInterval0       1017209 non-null  float64\n",
      " 19  PromoInterval1       1017209 non-null  float64\n",
      " 20  PromoInterval2       1017209 non-null  float64\n",
      " 21  PromoInterval3       1017209 non-null  float64\n",
      "dtypes: float64(7), int64(12), object(3)\n",
      "memory usage: 178.5+ MB\n"
     ]
    }
   ],
   "source": [
    "full_train.info()"
   ]
  },
  {
   "cell_type": "code",
   "execution_count": 20,
   "metadata": {
    "scrolled": false
   },
   "outputs": [
    {
     "name": "stdout",
     "output_type": "stream",
     "text": [
      "<class 'pandas.core.frame.DataFrame'>\n",
      "DatetimeIndex: 41081 entries, 2015-09-17 to 2015-08-01\n",
      "Data columns (total 21 columns):\n",
      " #   Column               Non-Null Count  Dtype  \n",
      "---  ------               --------------  -----  \n",
      " 0   Id                   41081 non-null  float64\n",
      " 1   Store                41081 non-null  int64  \n",
      " 2   DayOfWeek            41081 non-null  float64\n",
      " 3   Open                 41081 non-null  float64\n",
      " 4   Promo                41081 non-null  float64\n",
      " 5   StateHoliday         41081 non-null  object \n",
      " 6   SchoolHoliday        41081 non-null  float64\n",
      " 7   StoreType            41081 non-null  object \n",
      " 8   Assortment           41081 non-null  object \n",
      " 9   CompetitionDistance  41081 non-null  float64\n",
      " 10  Promo2               41081 non-null  int64  \n",
      " 11  Year                 41081 non-null  int64  \n",
      " 12  Month                41081 non-null  int64  \n",
      " 13  Day                  41081 non-null  int64  \n",
      " 14  WeekOfYear           41081 non-null  int64  \n",
      " 15  CompetitionOpen      41081 non-null  float64\n",
      " 16  PromoOpen            41081 non-null  float64\n",
      " 17  PromoInterval0       41081 non-null  float64\n",
      " 18  PromoInterval1       41081 non-null  float64\n",
      " 19  PromoInterval2       41081 non-null  float64\n",
      " 20  PromoInterval3       41081 non-null  float64\n",
      "dtypes: float64(12), int64(6), object(3)\n",
      "memory usage: 6.9+ MB\n"
     ]
    }
   ],
   "source": [
    "full_test.info()"
   ]
  },
  {
   "cell_type": "code",
   "execution_count": 22,
   "metadata": {},
   "outputs": [
    {
     "data": {
      "text/html": [
       "<div>\n",
       "<style scoped>\n",
       "    .dataframe tbody tr th:only-of-type {\n",
       "        vertical-align: middle;\n",
       "    }\n",
       "\n",
       "    .dataframe tbody tr th {\n",
       "        vertical-align: top;\n",
       "    }\n",
       "\n",
       "    .dataframe thead th {\n",
       "        text-align: right;\n",
       "    }\n",
       "</style>\n",
       "<table border=\"1\" class=\"dataframe\">\n",
       "  <thead>\n",
       "    <tr style=\"text-align: right;\">\n",
       "      <th></th>\n",
       "      <th>Store</th>\n",
       "      <th>DayOfWeek</th>\n",
       "      <th>Sales</th>\n",
       "      <th>Customers</th>\n",
       "      <th>Open</th>\n",
       "      <th>Promo</th>\n",
       "      <th>StateHoliday</th>\n",
       "      <th>SchoolHoliday</th>\n",
       "      <th>StoreType</th>\n",
       "      <th>Assortment</th>\n",
       "      <th>CompetitionDistance</th>\n",
       "      <th>Promo2</th>\n",
       "      <th>Year</th>\n",
       "      <th>Month</th>\n",
       "      <th>Day</th>\n",
       "      <th>WeekOfYear</th>\n",
       "      <th>CompetitionOpen</th>\n",
       "      <th>PromoOpen</th>\n",
       "      <th>PromoInterval0</th>\n",
       "      <th>PromoInterval1</th>\n",
       "      <th>PromoInterval2</th>\n",
       "      <th>PromoInterval3</th>\n",
       "    </tr>\n",
       "    <tr>\n",
       "      <th>Date</th>\n",
       "      <th></th>\n",
       "      <th></th>\n",
       "      <th></th>\n",
       "      <th></th>\n",
       "      <th></th>\n",
       "      <th></th>\n",
       "      <th></th>\n",
       "      <th></th>\n",
       "      <th></th>\n",
       "      <th></th>\n",
       "      <th></th>\n",
       "      <th></th>\n",
       "      <th></th>\n",
       "      <th></th>\n",
       "      <th></th>\n",
       "      <th></th>\n",
       "      <th></th>\n",
       "      <th></th>\n",
       "      <th></th>\n",
       "      <th></th>\n",
       "      <th></th>\n",
       "      <th></th>\n",
       "    </tr>\n",
       "  </thead>\n",
       "  <tbody>\n",
       "    <tr>\n",
       "      <th>2015-07-31</th>\n",
       "      <td>1</td>\n",
       "      <td>5</td>\n",
       "      <td>5263</td>\n",
       "      <td>555</td>\n",
       "      <td>1</td>\n",
       "      <td>1</td>\n",
       "      <td>0</td>\n",
       "      <td>1</td>\n",
       "      <td>c</td>\n",
       "      <td>a</td>\n",
       "      <td>1270.0</td>\n",
       "      <td>0</td>\n",
       "      <td>2015</td>\n",
       "      <td>7</td>\n",
       "      <td>31</td>\n",
       "      <td>31</td>\n",
       "      <td>82.0</td>\n",
       "      <td>24187.75</td>\n",
       "      <td>0.0</td>\n",
       "      <td>0.0</td>\n",
       "      <td>0.0</td>\n",
       "      <td>0.0</td>\n",
       "    </tr>\n",
       "  </tbody>\n",
       "</table>\n",
       "</div>"
      ],
      "text/plain": [
       "            Store  DayOfWeek  Sales  Customers  Open  Promo StateHoliday  \\\n",
       "Date                                                                       \n",
       "2015-07-31      1          5   5263        555     1      1            0   \n",
       "\n",
       "            SchoolHoliday StoreType Assortment  CompetitionDistance  Promo2  \\\n",
       "Date                                                                          \n",
       "2015-07-31              1         c          a               1270.0       0   \n",
       "\n",
       "            Year  Month  Day  WeekOfYear  CompetitionOpen   PromoOpen  \\\n",
       "Date                                                                    \n",
       "2015-07-31  2015      7   31          31              82.0   24187.75   \n",
       "\n",
       "            PromoInterval0  PromoInterval1  PromoInterval2  PromoInterval3  \n",
       "Date                                                                        \n",
       "2015-07-31             0.0             0.0             0.0             0.0  "
      ]
     },
     "execution_count": 22,
     "metadata": {},
     "output_type": "execute_result"
    }
   ],
   "source": [
    "full_train.head(1)"
   ]
  },
  {
   "cell_type": "code",
   "execution_count": 23,
   "metadata": {},
   "outputs": [
    {
     "data": {
      "text/plain": [
       "<AxesSubplot:xlabel='CompetitionDistance'>"
      ]
     },
     "execution_count": 23,
     "metadata": {},
     "output_type": "execute_result"
    },
    {
     "data": {
      "image/png": "[encoded data removed]",
      "text/plain": [
       "<Figure size 432x288 with 1 Axes>"
      ]
     },
     "metadata": {
      "needs_background": "light"
     },
     "output_type": "display_data"
    }
   ],
   "source": [
    "sns.boxplot(full_train['CompetitionDistance'],data=full_train)"
   ]
  },
  {
   "cell_type": "code",
   "execution_count": 24,
   "metadata": {},
   "outputs": [],
   "source": [
    "#outlier detection and replacement by median\n",
    "def outlier(df):\n",
    "    column_name=['Sales','CompetitionDistance']\n",
    "    for i in column_name:\n",
    "        upper_quartile=df[i].quantile(0.75)\n",
    "        lower_quartile=df[i].quantile(0.25)\n",
    "        df[i]=np.where(df[i]>upper_quartile,df[i].mean(),np.where(df[i]<lower_quartile,df[i].median(),df[i]))\n",
    "    return df"
   ]
  },
  {
   "cell_type": "code",
   "execution_count": 25,
   "metadata": {},
   "outputs": [
    {
     "data": {
      "text/plain": [
       "<AxesSubplot:xlabel='CompetitionDistance'>"
      ]
     },
     "execution_count": 25,
     "metadata": {},
     "output_type": "execute_result"
    },
    {
     "data": {
      "image/png": "[encoded data removed]",
      "text/plain": [
       "<Figure size 432x288 with 1 Axes>"
      ]
     },
     "metadata": {
      "needs_background": "light"
     },
     "output_type": "display_data"
    }
   ],
   "source": [
    "sns.boxplot(full_train['CompetitionDistance'],data=outlier(full_train))"
   ]
  },
  {
   "cell_type": "code",
   "execution_count": 26,
   "metadata": {},
   "outputs": [],
   "source": [
    "#use dataframes without outliers\n",
    "full_train=outlier(full_train)\n",
    "#full_test=outlier(full_test)"
   ]
  },
  {
   "cell_type": "markdown",
   "metadata": {},
   "source": [
    "Encode the non-numeric columns; StateHoliday,StoreType,Assortment"
   ]
  },
  {
   "cell_type": "code",
   "execution_count": 27,
   "metadata": {},
   "outputs": [],
   "source": [
    "full_train['StateHoliday']=full_train['StateHoliday'].astype('str')\n",
    "full_test['StateHoliday']=full_test['StateHoliday'].astype('str')"
   ]
  },
  {
   "cell_type": "code",
   "execution_count": 28,
   "metadata": {},
   "outputs": [],
   "source": [
    "lb_make = LabelEncoder()\n",
    "full_train['StateHoliday'] = lb_make.fit_transform(full_train['StateHoliday'])\n",
    "full_train['StoreType'] = lb_make.fit_transform(full_train['StoreType'])\n",
    "full_train['Assortment'] = lb_make.fit_transform(full_train['Assortment'])"
   ]
  },
  {
   "cell_type": "code",
   "execution_count": 29,
   "metadata": {},
   "outputs": [],
   "source": [
    "lb_make = LabelEncoder()\n",
    "full_test['StateHoliday'] = lb_make.fit_transform(full_test['StateHoliday'])\n",
    "full_test['StoreType'] = lb_make.fit_transform(full_test['StoreType'])\n",
    "full_test['Assortment'] = lb_make.fit_transform(full_test['Assortment'])"
   ]
  },
  {
   "cell_type": "code",
   "execution_count": 30,
   "metadata": {},
   "outputs": [
    {
     "data": {
      "text/html": [
       "<div>\n",
       "<style scoped>\n",
       "    .dataframe tbody tr th:only-of-type {\n",
       "        vertical-align: middle;\n",
       "    }\n",
       "\n",
       "    .dataframe tbody tr th {\n",
       "        vertical-align: top;\n",
       "    }\n",
       "\n",
       "    .dataframe thead th {\n",
       "        text-align: right;\n",
       "    }\n",
       "</style>\n",
       "<table border=\"1\" class=\"dataframe\">\n",
       "  <thead>\n",
       "    <tr style=\"text-align: right;\">\n",
       "      <th></th>\n",
       "      <th>Store</th>\n",
       "      <th>DayOfWeek</th>\n",
       "      <th>Sales</th>\n",
       "      <th>Customers</th>\n",
       "      <th>Open</th>\n",
       "      <th>Promo</th>\n",
       "      <th>StateHoliday</th>\n",
       "      <th>SchoolHoliday</th>\n",
       "      <th>StoreType</th>\n",
       "      <th>Assortment</th>\n",
       "      <th>CompetitionDistance</th>\n",
       "      <th>Promo2</th>\n",
       "      <th>Year</th>\n",
       "      <th>Month</th>\n",
       "      <th>Day</th>\n",
       "      <th>WeekOfYear</th>\n",
       "      <th>CompetitionOpen</th>\n",
       "      <th>PromoOpen</th>\n",
       "      <th>PromoInterval0</th>\n",
       "      <th>PromoInterval1</th>\n",
       "      <th>PromoInterval2</th>\n",
       "      <th>PromoInterval3</th>\n",
       "    </tr>\n",
       "    <tr>\n",
       "      <th>Date</th>\n",
       "      <th></th>\n",
       "      <th></th>\n",
       "      <th></th>\n",
       "      <th></th>\n",
       "      <th></th>\n",
       "      <th></th>\n",
       "      <th></th>\n",
       "      <th></th>\n",
       "      <th></th>\n",
       "      <th></th>\n",
       "      <th></th>\n",
       "      <th></th>\n",
       "      <th></th>\n",
       "      <th></th>\n",
       "      <th></th>\n",
       "      <th></th>\n",
       "      <th></th>\n",
       "      <th></th>\n",
       "      <th></th>\n",
       "      <th></th>\n",
       "      <th></th>\n",
       "      <th></th>\n",
       "    </tr>\n",
       "  </thead>\n",
       "  <tbody>\n",
       "    <tr>\n",
       "      <th>2015-07-31</th>\n",
       "      <td>1</td>\n",
       "      <td>5</td>\n",
       "      <td>5744.000000</td>\n",
       "      <td>555</td>\n",
       "      <td>1</td>\n",
       "      <td>1</td>\n",
       "      <td>0</td>\n",
       "      <td>1</td>\n",
       "      <td>2</td>\n",
       "      <td>0</td>\n",
       "      <td>2320.0</td>\n",
       "      <td>0</td>\n",
       "      <td>2015</td>\n",
       "      <td>7</td>\n",
       "      <td>31</td>\n",
       "      <td>31</td>\n",
       "      <td>82.0</td>\n",
       "      <td>24187.75</td>\n",
       "      <td>0.0</td>\n",
       "      <td>0.0</td>\n",
       "      <td>0.0</td>\n",
       "      <td>0.0</td>\n",
       "    </tr>\n",
       "    <tr>\n",
       "      <th>2015-07-30</th>\n",
       "      <td>1</td>\n",
       "      <td>4</td>\n",
       "      <td>5744.000000</td>\n",
       "      <td>546</td>\n",
       "      <td>1</td>\n",
       "      <td>1</td>\n",
       "      <td>0</td>\n",
       "      <td>1</td>\n",
       "      <td>2</td>\n",
       "      <td>0</td>\n",
       "      <td>2320.0</td>\n",
       "      <td>0</td>\n",
       "      <td>2015</td>\n",
       "      <td>7</td>\n",
       "      <td>30</td>\n",
       "      <td>31</td>\n",
       "      <td>82.0</td>\n",
       "      <td>24187.75</td>\n",
       "      <td>0.0</td>\n",
       "      <td>0.0</td>\n",
       "      <td>0.0</td>\n",
       "      <td>0.0</td>\n",
       "    </tr>\n",
       "    <tr>\n",
       "      <th>2015-07-29</th>\n",
       "      <td>1</td>\n",
       "      <td>3</td>\n",
       "      <td>5744.000000</td>\n",
       "      <td>523</td>\n",
       "      <td>1</td>\n",
       "      <td>1</td>\n",
       "      <td>0</td>\n",
       "      <td>1</td>\n",
       "      <td>2</td>\n",
       "      <td>0</td>\n",
       "      <td>2320.0</td>\n",
       "      <td>0</td>\n",
       "      <td>2015</td>\n",
       "      <td>7</td>\n",
       "      <td>29</td>\n",
       "      <td>31</td>\n",
       "      <td>82.0</td>\n",
       "      <td>24187.75</td>\n",
       "      <td>0.0</td>\n",
       "      <td>0.0</td>\n",
       "      <td>0.0</td>\n",
       "      <td>0.0</td>\n",
       "    </tr>\n",
       "    <tr>\n",
       "      <th>2015-07-28</th>\n",
       "      <td>1</td>\n",
       "      <td>2</td>\n",
       "      <td>5744.000000</td>\n",
       "      <td>560</td>\n",
       "      <td>1</td>\n",
       "      <td>1</td>\n",
       "      <td>0</td>\n",
       "      <td>1</td>\n",
       "      <td>2</td>\n",
       "      <td>0</td>\n",
       "      <td>2320.0</td>\n",
       "      <td>0</td>\n",
       "      <td>2015</td>\n",
       "      <td>7</td>\n",
       "      <td>28</td>\n",
       "      <td>31</td>\n",
       "      <td>82.0</td>\n",
       "      <td>24187.75</td>\n",
       "      <td>0.0</td>\n",
       "      <td>0.0</td>\n",
       "      <td>0.0</td>\n",
       "      <td>0.0</td>\n",
       "    </tr>\n",
       "    <tr>\n",
       "      <th>2015-07-27</th>\n",
       "      <td>1</td>\n",
       "      <td>1</td>\n",
       "      <td>5763.204236</td>\n",
       "      <td>612</td>\n",
       "      <td>1</td>\n",
       "      <td>1</td>\n",
       "      <td>0</td>\n",
       "      <td>1</td>\n",
       "      <td>2</td>\n",
       "      <td>0</td>\n",
       "      <td>2320.0</td>\n",
       "      <td>0</td>\n",
       "      <td>2015</td>\n",
       "      <td>7</td>\n",
       "      <td>27</td>\n",
       "      <td>31</td>\n",
       "      <td>82.0</td>\n",
       "      <td>24187.75</td>\n",
       "      <td>0.0</td>\n",
       "      <td>0.0</td>\n",
       "      <td>0.0</td>\n",
       "      <td>0.0</td>\n",
       "    </tr>\n",
       "  </tbody>\n",
       "</table>\n",
       "</div>"
      ],
      "text/plain": [
       "            Store  DayOfWeek        Sales  Customers  Open  Promo  \\\n",
       "Date                                                                \n",
       "2015-07-31      1          5  5744.000000        555     1      1   \n",
       "2015-07-30      1          4  5744.000000        546     1      1   \n",
       "2015-07-29      1          3  5744.000000        523     1      1   \n",
       "2015-07-28      1          2  5744.000000        560     1      1   \n",
       "2015-07-27      1          1  5763.204236        612     1      1   \n",
       "\n",
       "            StateHoliday  SchoolHoliday  StoreType  Assortment  \\\n",
       "Date                                                             \n",
       "2015-07-31             0              1          2           0   \n",
       "2015-07-30             0              1          2           0   \n",
       "2015-07-29             0              1          2           0   \n",
       "2015-07-28             0              1          2           0   \n",
       "2015-07-27             0              1          2           0   \n",
       "\n",
       "            CompetitionDistance  Promo2  Year  Month  Day  WeekOfYear  \\\n",
       "Date                                                                    \n",
       "2015-07-31               2320.0       0  2015      7   31          31   \n",
       "2015-07-30               2320.0       0  2015      7   30          31   \n",
       "2015-07-29               2320.0       0  2015      7   29          31   \n",
       "2015-07-28               2320.0       0  2015      7   28          31   \n",
       "2015-07-27               2320.0       0  2015      7   27          31   \n",
       "\n",
       "            CompetitionOpen   PromoOpen  PromoInterval0  PromoInterval1  \\\n",
       "Date                                                                      \n",
       "2015-07-31              82.0   24187.75             0.0             0.0   \n",
       "2015-07-30              82.0   24187.75             0.0             0.0   \n",
       "2015-07-29              82.0   24187.75             0.0             0.0   \n",
       "2015-07-28              82.0   24187.75             0.0             0.0   \n",
       "2015-07-27              82.0   24187.75             0.0             0.0   \n",
       "\n",
       "            PromoInterval2  PromoInterval3  \n",
       "Date                                        \n",
       "2015-07-31             0.0             0.0  \n",
       "2015-07-30             0.0             0.0  \n",
       "2015-07-29             0.0             0.0  \n",
       "2015-07-28             0.0             0.0  \n",
       "2015-07-27             0.0             0.0  "
      ]
     },
     "execution_count": 30,
     "metadata": {},
     "output_type": "execute_result"
    }
   ],
   "source": [
    "full_train.head()"
   ]
  },
  {
   "cell_type": "code",
   "execution_count": 31,
   "metadata": {},
   "outputs": [],
   "source": [
    "#work with a subset of the data due to memory limitations\n",
    "full_train=full_train[:200000]"
   ]
  },
  {
   "cell_type": "markdown",
   "metadata": {},
   "source": [
    "# PROPHET MODEL\n",
    "This is an curve fitting model that uses the additive model of time series where there is the base model and the trend and seasonality are added to it. The prophet model also allows the effect of holidays to be included in the model."
   ]
  },
  {
   "cell_type": "code",
   "execution_count": null,
   "metadata": {},
   "outputs": [],
   "source": [
    "# from fbprophet import Prophet\n",
    "# from fbprophet.plot import add_changepoints_to_plot, plot_cross_validation_metric\n",
    "# from fbprophet.diagnostics import cross_validation, performance_metrics"
   ]
  },
  {
   "cell_type": "code",
   "execution_count": null,
   "metadata": {},
   "outputs": [],
   "source": [
    "# #rename columns to use Prophet convention\n",
    "# prophet_df = [full_train[\"Date\"], full_train[\"Sales\"]]\n",
    "\n",
    "# headers = [\"ds\", \"y\"]\n",
    "# prophet_df = pd.concat(prophet_df, axis=1, keys=headers)\n",
    "# prophet_df.ds = pd.Series([v.to_pydatetime() for v in prophet_df.ds], dtype=object)\n",
    "# prophet_df.head()"
   ]
  },
  {
   "cell_type": "code",
   "execution_count": null,
   "metadata": {},
   "outputs": [],
   "source": [
    "# # Make the prophet model and fit on the data\n",
    "# # prophet_df['ds'] = prophet_df.index\n",
    "\n",
    "# model = (Prophet(changepoint_prior_scale=0.001, \n",
    "#                     seasonality_prior_scale=1.0, \n",
    "#                     interval_width=0.95, \n",
    "#                     daily_seasonality=True, \n",
    "#                     weekly_seasonality=True, \n",
    "#                     yearly_seasonality=False).add_seasonality(name='monthly', period=30.5, fourier_order=5))\n",
    "# model.fit(prophet_df)\n",
    "# future = model.make_future_dataframe(periods=10)\n",
    "# forecast = model.predict(future)"
   ]
  },
  {
   "cell_type": "code",
   "execution_count": null,
   "metadata": {},
   "outputs": [],
   "source": [
    "# components = model.plot_components(forecast)\n",
    "# components"
   ]
  },
  {
   "cell_type": "code",
   "execution_count": null,
   "metadata": {},
   "outputs": [],
   "source": [
    "# forecast.ds = pd.Series([v.to_pydatetime() for v in forecast.ds], dtype=object)\n",
    "\n",
    "# split = 0.8\n",
    "# threshold_date_train = prophet_df.ds[ int(len(tsdf.ds)*0.8) ]\n",
    "# threshold_date_forecast = forecast.ds[ int(len(forecast.ds)*0.8) ]\n",
    "\n",
    "# forecast_train = forecast[ threshold_date_forecast >= forecast.ds ]\n",
    "# forecast_test = forecast[ threshold_date_forecast < forecast.ds ]\n",
    "# df_train = prophet_df[ threshold_date_train >= prophet_df.ds ]\n",
    "# df_test = prophet_df[ threshold_date_train < prophet_df.ds ]\n",
    "\n",
    "# fig, ax = plt.subplots(figsize=(20,10))\n",
    "# sns.set_style('darkgrid', {'axes.facecolor': '.9'})\n",
    "# sns.set_palette(palette='deep')\n",
    "# sns_c = sns.color_palette(palette='deep')\n",
    "\n",
    "# ax.fill_between( x=forecast['ds'], y1=forecast['yhat_lower'], y2=forecast['yhat_upper'],\n",
    "#     color=sns_c[2], alpha=0.25, label=r'0.95 credible_interval')\n",
    "\n",
    "# sns.scatterplot(x='ds', y='y', label='real historic data', data=df_train, ax=ax, color='black')\n",
    "# sns.scatterplot(x='ds', y='y', label='real test data', data=df_test, ax=ax, color = 'red')\n",
    "# sns.lineplot(x='ds', y='yhat', label='historic fit', data=forecast_train, ax=ax, color = 'blue')\n",
    "# sns.lineplot(x='ds', y='yhat', label='future prediction', data=forecast_test, ax=ax, color = 'orange')\n",
    "# ax.axvline(threshold_date_train, color=sns_c[3], linestyle='--', label='80% train-test data split')\n",
    "# ax.legend(loc='upper left')\n",
    "# ax.set_xlabel('Date')\n",
    "# ax.set_ylabel('Sales')\n",
    "# ax.tick_params(axis='x', rotation=45)\n",
    "# ax.set(title='Sales model fit & prediction')"
   ]
  },
  {
   "cell_type": "markdown",
   "metadata": {},
   "source": [
    "# Random Forest Model\n",
    "The random forest model will be used to extract the most important feature and predict on the test dataset.\n",
    "\n",
    "The graph for feature importance shows that promotions are the most important feature in the dataset.\n",
    "\n",
    "The first step will be to check for stationarity and make any variables that ar not stationary, stationary. The Dickey-Fuller test will be used to test for stationarity.\n",
    "Stationarity is a property used for modelling time series data and it ensures that the properties of the series such as mean and standard deviation remain the same over time."
   ]
  },
  {
   "cell_type": "markdown",
   "metadata": {},
   "source": [
    "All the columns are stationary apart from the 'Store' variable. This variable will not be differenced because it is not used in the training model."
   ]
  },
  {
   "cell_type": "code",
   "execution_count": null,
   "metadata": {},
   "outputs": [],
   "source": [
    "#check for stationarity\n",
    "def adfuller_test(series, signif=0.05, name='', verbose=False):\n",
    "    \"\"\"Perform ADFuller to test for Stationarity of given series and print report\"\"\"\n",
    "    r = adfuller(series, autolag='AIC')\n",
    "    output = {'test_statistic':round(r[0], 4), 'pvalue':round(r[1], 4), 'n_lags':round(r[2], 4), 'n_obs':r[3]}\n",
    "    p_value = output['pvalue'] \n",
    "    def adjust(val, length= 6): return str(val).ljust(length)\n",
    "\n",
    "    # Print Summary\n",
    "    print(f'    Augmented Dickey-Fuller Test on \"{name}\"', \"\\n   \", '-'*47)\n",
    "    print(f' Null Hypothesis: Data has unit root. Non-Stationary.')\n",
    "    print(f' Significance Level    = {signif}')\n",
    "    print(f' Test Statistic        = {output[\"test_statistic\"]}')\n",
    "    print(f' No. Lags Chosen       = {output[\"n_lags\"]}')\n",
    "\n",
    "    for key,val in r[4].items():\n",
    "        print(f' Critical value {adjust(key)} = {round(val, 3)}')\n",
    "\n",
    "    if p_value <= signif:\n",
    "        print(f\" => P-Value = {p_value}. Rejecting Null Hypothesis.\")\n",
    "        print(f\" => Series is Stationary.\")\n",
    "    else:\n",
    "        print(f\" => P-Value = {p_value}. Weak evidence to reject the Null Hypothesis.\")\n",
    "        print(f\" => Series is Non-Stationary.\")"
   ]
  },
  {
   "cell_type": "code",
   "execution_count": null,
   "metadata": {
    "scrolled": true
   },
   "outputs": [],
   "source": [
    "for name, column in full_train.iteritems():\n",
    "    adfuller_test(column, name=column.name)\n",
    "    print('\\n')"
   ]
  },
  {
   "cell_type": "code",
   "execution_count": 32,
   "metadata": {},
   "outputs": [
    {
     "name": "stdout",
     "output_type": "stream",
     "text": [
      "Observations: 200000\n",
      "Training Observations: 160000\n",
      "Testing Observations: 40000\n"
     ]
    }
   ],
   "source": [
    "#split dataset into train and test sets\n",
    "train_size = int(len(full_train) * 0.8)\n",
    "train, test = full_train[0:train_size], full_train[train_size:len(full_train)]\n",
    "print('Observations: %d' % (len(full_train)))\n",
    "print('Training Observations: %d' % (len(train)))\n",
    "print('Testing Observations: %d' % (len(test)))"
   ]
  },
  {
   "cell_type": "code",
   "execution_count": 33,
   "metadata": {},
   "outputs": [],
   "source": [
    "#separate inout and output features\n",
    "y_train,y_test=(train['Sales'],test['Sales'])\n",
    "x_train,x_test=(train.drop(['Sales','Store','Customers'], axis=1),test.drop(['Sales','Store','Customers'], axis=1))"
   ]
  },
  {
   "cell_type": "code",
   "execution_count": 34,
   "metadata": {},
   "outputs": [],
   "source": [
    "pipe = Pipeline([('scaler', StandardScaler()),\n",
    "        ('selector', VarianceThreshold()),\n",
    "        ('classifier', RandomForestRegressor(n_estimators = 100, random_state = 100))\n",
    "        ])"
   ]
  },
  {
   "cell_type": "code",
   "execution_count": 38,
   "metadata": {
    "scrolled": true
   },
   "outputs": [
    {
     "data": {
      "text/plain": [
       "Pipeline(memory=None,\n",
       "         steps=[('scaler',\n",
       "                 StandardScaler(copy=True, with_mean=True, with_std=True)),\n",
       "                ('selector', VarianceThreshold(threshold=0.0)),\n",
       "                ('classifier',\n",
       "                 RandomForestRegressor(bootstrap=True, ccp_alpha=0.0,\n",
       "                                       criterion='mse', max_depth=None,\n",
       "                                       max_features='auto', max_leaf_nodes=None,\n",
       "                                       max_samples=None,\n",
       "                                       min_impurity_decrease=0.0,\n",
       "                                       min_impurity_split=None,\n",
       "                                       min_samples_leaf=1, min_samples_split=2,\n",
       "                                       min_weight_fraction_leaf=0.0,\n",
       "                                       n_estimators=100, n_jobs=None,\n",
       "                                       oob_score=False, random_state=100,\n",
       "                                       verbose=0, warm_start=False))],\n",
       "         verbose=False)"
      ]
     },
     "execution_count": 38,
     "metadata": {},
     "output_type": "execute_result"
    }
   ],
   "source": [
    "pipe.fit(x_train,y_train)"
   ]
  },
  {
   "cell_type": "code",
   "execution_count": 39,
   "metadata": {},
   "outputs": [],
   "source": [
    "predictions = list(pipe.predict(x_test))"
   ]
  },
  {
   "cell_type": "code",
   "execution_count": 43,
   "metadata": {},
   "outputs": [
    {
     "name": "stdout",
     "output_type": "stream",
     "text": [
      "RMSE: 12.474\n"
     ]
    }
   ],
   "source": [
    "import math\n",
    "import sklearn.metrics\n",
    "#loss function\n",
    "rmse = math.sqrt(metrics.mean_squared_error(y_test, predictions))\n",
    "print('RMSE: %.3f' % rmse)"
   ]
  },
  {
   "cell_type": "code",
   "execution_count": 48,
   "metadata": {},
   "outputs": [
    {
     "data": {
      "image/png": "[encoded data removed]",
      "text/plain": [
       "<Figure size 432x288 with 1 Axes>"
      ]
     },
     "metadata": {},
     "output_type": "display_data"
    }
   ],
   "source": [
    "important = pipe.named_steps['classifier']\n",
    "importances=important.feature_importances_\n",
    "labels = pd.DataFrame(x_train).columns\n",
    "feature_df = pd.DataFrame(list(zip(labels, importances)), columns=[\"feature\", \"importance\"])\n",
    "feature_df = feature_df.sort_values(by='importance', ascending=False, )\n",
    "# image formatting\n",
    "axis_fs = 18  # fontsize\n",
    "title_fs = 22  # fontsize\n",
    "sns.set(style=\"whitegrid\")\n",
    "\n",
    "ax = sns.barplot(x=\"importance\", y=\"feature\", data=feature_df)\n",
    "ax.set_xlabel('Importance', fontsize=axis_fs)\n",
    "ax.set_ylabel('Feature', fontsize=axis_fs)  # ylabel\n",
    "ax.set_title('Random Forest feature importance', fontsize=title_fs)\n",
    "\n",
    "plt.tight_layout()\n",
    "#plt.savefig(\"feature_importance.png\", dpi=120)\n",
    "plt.show()"
   ]
  },
  {
   "cell_type": "code",
   "execution_count": 78,
   "metadata": {
    "scrolled": true
   },
   "outputs": [],
   "source": [
    "#predict sales for test data\n",
    "test_pred=list(pipe.predict(full_test.drop(['Id','Store'],axis=1)))\n",
    "test_pred=pd.DataFrame(test_pred)\n",
    "test_pred.columns = ['Sales']\n",
    "#test_pred.to_csv('D:/Stella/Documents/10_Academy/Week_3/sales_prediction/submission.csv')\n",
    "#test_pred.reset_index().plot.line(x='index',y='Sales')\n"
   ]
  },
  {
   "cell_type": "markdown",
   "metadata": {},
   "source": [
    "# LSTM\n",
    "The LSTM is a deep learning method that can be used to predict multivariate time series for multiple steps. The dataset here is multivariate and the sales need to be predicted six weeks ahead. The sliding window is used to achieve this.\n",
    "\n",
    "One feature of time series data is lags, and the most recent lags will contain more information than information collected earlier. The sliding window method allows us to choose the lag we would like to use and predict for a horizon of our own choice. The dataset is a daily dataset so the horizon chosen to predict 6 week prior is 42 days.(Weekend have been included because some stores open on weekends)."
   ]
  },
  {
   "cell_type": "code",
   "execution_count": 79,
   "metadata": {},
   "outputs": [],
   "source": [
    "X_scaler = MinMaxScaler()\n",
    "Y_scaler = MinMaxScaler()\n",
    "X_data = X_scaler.fit_transform(full_train.drop(['Sales','Store','Customers'], axis=1))\n",
    "Y_data = Y_scaler.fit_transform(full_train[['Sales']])"
   ]
  },
  {
   "cell_type": "code",
   "execution_count": 80,
   "metadata": {},
   "outputs": [],
   "source": [
    "validate = full_train.tail(42)"
   ]
  },
  {
   "cell_type": "code",
   "execution_count": 81,
   "metadata": {},
   "outputs": [],
   "source": [
    "def custom_ts_multi_data_prep(dataset, target, start, end, window, horizon):\n",
    "    X = []\n",
    "    y = []\n",
    "    start = start + window\n",
    "    if end is None:\n",
    "        end = len(dataset) - horizon\n",
    "    for i in range(start, end):\n",
    "        indices = range(i-window, i)\n",
    "        X.append(dataset[indices])\n",
    "        indicey = range(i+1, i+1+horizon)\n",
    "        y.append(target[indicey])\n",
    "    return np.array(X), np.array(y)"
   ]
  },
  {
   "cell_type": "code",
   "execution_count": 82,
   "metadata": {},
   "outputs": [],
   "source": [
    "hist_window = 100 # use the last 100 values in the dataset for prediction\n",
    "horizon = 42  #i.e 6weeks*7days\n",
    "TRAIN_SPLIT = 160000\n",
    "x_train, y_train = custom_ts_multi_data_prep(X_data, Y_data, 0, TRAIN_SPLIT, hist_window, horizon)\n",
    "x_vali, y_vali = custom_ts_multi_data_prep(X_data, Y_data, TRAIN_SPLIT, None, hist_window, horizon)"
   ]
  },
  {
   "cell_type": "code",
   "execution_count": 83,
   "metadata": {},
   "outputs": [
    {
     "name": "stdout",
     "output_type": "stream",
     "text": [
      "Multiple window of past history\n",
      "\n",
      "[[0.66666667 1.         1.         ... 0.         0.         0.        ]\n",
      " [0.5        1.         1.         ... 0.         0.         0.        ]\n",
      " [0.33333333 1.         1.         ... 0.         0.         0.        ]\n",
      " ...\n",
      " [0.83333333 1.         0.         ... 0.         0.         0.        ]\n",
      " [0.66666667 1.         0.         ... 0.         0.         0.        ]\n",
      " [0.5        1.         0.         ... 0.         0.         0.        ]]\n",
      "\n",
      " Target horizon\n",
      "\n",
      "[[0.03244755]\n",
      " [0.03244755]\n",
      " [0.03244755]\n",
      " [0.03244755]\n",
      " [0.03244755]\n",
      " [0.03244755]\n",
      " [0.03244755]\n",
      " [0.03244755]\n",
      " [0.03244755]\n",
      " [0.03244755]\n",
      " [0.03244755]\n",
      " [0.03244755]\n",
      " [0.03244755]\n",
      " [0.03244755]\n",
      " [0.03244755]\n",
      " [0.03244755]\n",
      " [0.03244755]\n",
      " [0.65557786]\n",
      " [0.03244755]\n",
      " [0.65557786]\n",
      " [0.65557786]\n",
      " [0.65557786]\n",
      " [0.65557786]\n",
      " [0.03244755]\n",
      " [0.03244755]\n",
      " [0.03244755]\n",
      " [0.03244755]\n",
      " [0.03244755]\n",
      " [0.03244755]\n",
      " [0.03244755]\n",
      " [0.03244755]\n",
      " [0.03244755]\n",
      " [0.03244755]\n",
      " [0.03244755]\n",
      " [0.03244755]\n",
      " [0.03244755]\n",
      " [0.03244755]\n",
      " [0.03244755]\n",
      " [0.03244755]\n",
      " [0.03244755]\n",
      " [0.03244755]\n",
      " [0.03244755]]\n"
     ]
    }
   ],
   "source": [
    "print ('Multiple window of past history\\n')\n",
    "print(x_train[0])\n",
    "print ('\\n Target horizon\\n')\n",
    "print (y_train[0]) "
   ]
  },
  {
   "cell_type": "code",
   "execution_count": 84,
   "metadata": {},
   "outputs": [],
   "source": [
    "batch_size = 256\n",
    "buffer_size = 150\n",
    "train_data = tf.data.Dataset.from_tensor_slices((x_train, y_train))\n",
    "train_data = train_data.cache().shuffle(buffer_size).batch(batch_size).repeat()\n",
    "val_data = tf.data.Dataset.from_tensor_slices((x_vali, y_vali))\n",
    "val_data = val_data.batch(batch_size).repeat()"
   ]
  },
  {
   "cell_type": "code",
   "execution_count": 85,
   "metadata": {},
   "outputs": [
    {
     "name": "stdout",
     "output_type": "stream",
     "text": [
      "Model: \"sequential\"\n",
      "_________________________________________________________________\n",
      "Layer (type)                 Output Shape              Param #   \n",
      "=================================================================\n",
      "bidirectional (Bidirectional (None, 100, 400)          352000    \n",
      "_________________________________________________________________\n",
      "dense (Dense)                (None, 100, 20)           8020      \n",
      "_________________________________________________________________\n",
      "bidirectional_1 (Bidirection (None, 300)               205200    \n",
      "_________________________________________________________________\n",
      "dense_1 (Dense)              (None, 20)                6020      \n",
      "_________________________________________________________________\n",
      "dense_2 (Dense)              (None, 20)                420       \n",
      "_________________________________________________________________\n",
      "dropout (Dropout)            (None, 20)                0         \n",
      "_________________________________________________________________\n",
      "dense_3 (Dense)              (None, 42)                882       \n",
      "=================================================================\n",
      "Total params: 572,542\n",
      "Trainable params: 572,542\n",
      "Non-trainable params: 0\n",
      "_________________________________________________________________\n"
     ]
    }
   ],
   "source": [
    "lstm_model = tf.keras.models.Sequential([\n",
    "tf.keras.layers.Bidirectional(tf.keras.layers.LSTM(200, return_sequences=True), \n",
    "                            input_shape=x_train.shape[-2:]),\n",
    " tf.keras.layers.Dense(20, activation='tanh'),\n",
    " tf.keras.layers.Bidirectional(tf.keras.layers.LSTM(150)),\n",
    " tf.keras.layers.Dense(20, activation='tanh'),\n",
    " tf.keras.layers.Dense(20, activation='tanh'),\n",
    " tf.keras.layers.Dropout(0.25),\n",
    " tf.keras.layers.Dense(units=horizon),\n",
    "])\n",
    "lstm_model.compile(optimizer='adam', loss='mse')\n",
    "lstm_model.summary() "
   ]
  },
  {
   "cell_type": "code",
   "execution_count": 86,
   "metadata": {},
   "outputs": [],
   "source": [
    "model_path = 'Bidirectional_LSTM_Multivariate.h5'\n",
    "early_stopings = tf.keras.callbacks.EarlyStopping(monitor='val_loss', min_delta=0, patience=10, verbose=1, mode='min')\n",
    "checkpoint =  tf.keras.callbacks.ModelCheckpoint(model_path, monitor='val_loss', save_best_only=True, mode='min', verbose=0)\n",
    "callbacks=[early_stopings,checkpoint] "
   ]
  },
  {
   "cell_type": "code",
   "execution_count": 87,
   "metadata": {},
   "outputs": [
    {
     "name": "stdout",
     "output_type": "stream",
     "text": [
      "Train for 5 steps, validate for 50 steps\n",
      "Epoch 1/10\n",
      "5/5 [==============================] - 420s 84s/step - loss: 0.0844 - val_loss: 0.3059\n",
      "Epoch 2/10\n",
      "5/5 [==============================] - 183s 37s/step - loss: 0.2411 - val_loss: 0.2624\n",
      "Epoch 3/10\n",
      "5/5 [==============================] - 243s 49s/step - loss: 0.4503 - val_loss: 0.2410\n",
      "Epoch 4/10\n",
      "5/5 [==============================] - 303s 61s/step - loss: 0.1909 - val_loss: 0.2936\n",
      "Epoch 5/10\n",
      "5/5 [==============================] - 383s 77s/step - loss: 0.3857 - val_loss: 0.2093\n",
      "Epoch 6/10\n",
      "5/5 [==============================] - 438s 88s/step - loss: 0.2089 - val_loss: 0.2150\n",
      "Epoch 7/10\n",
      "5/5 [==============================] - 471s 94s/step - loss: 0.1587 - val_loss: 0.2063\n",
      "Epoch 8/10\n",
      "5/5 [==============================] - 436s 87s/step - loss: 0.2204 - val_loss: 0.1881\n",
      "Epoch 9/10\n",
      "5/5 [==============================] - 180s 36s/step - loss: 0.2359 - val_loss: 0.1818\n",
      "Epoch 10/10\n",
      "5/5 [==============================] - 192s 38s/step - loss: 0.1585 - val_loss: 0.2231\n"
     ]
    }
   ],
   "source": [
    "history = lstm_model.fit(train_data,epochs=10,steps_per_epoch=5,validation_data=val_data,validation_steps=50,verbose=1,callbacks=callbacks)"
   ]
  },
  {
   "cell_type": "code",
   "execution_count": 88,
   "metadata": {},
   "outputs": [
    {
     "data": {
      "image/png": "[encoded data removed]",
      "text/plain": [
       "<Figure size 1152x648 with 1 Axes>"
      ]
     },
     "metadata": {},
     "output_type": "display_data"
    }
   ],
   "source": [
    "plt.figure(figsize=(16,9))\n",
    "plt.plot(history.history['loss'])\n",
    "plt.plot(history.history['val_loss'])\n",
    "plt.title('Model loss')\n",
    "plt.ylabel('loss')\n",
    "plt.xlabel('epoch')\n",
    "plt.legend(['train loss', 'validation loss'])\n",
    "plt.show() "
   ]
  },
  {
   "cell_type": "code",
   "execution_count": 98,
   "metadata": {},
   "outputs": [
    {
     "data": {
      "text/plain": [
       "array([[5748.338 , 5754.4956, 5751.9595, 5749.5435, 5752.9287, 5744.6133,\n",
       "        5744.334 , 5753.5967, 5748.5146, 5746.147 , 5749.8984, 5750.2593,\n",
       "        5749.9634, 5749.2627, 5749.407 , 5746.2017, 5748.841 , 5745.7827,\n",
       "        5750.42  , 5747.6567, 5745.328 , 5749.614 , 5750.2705, 5747.678 ,\n",
       "        5754.761 , 5748.2637, 5754.206 , 5744.599 , 5751.421 , 5744.9316,\n",
       "        5743.7754, 5747.206 , 5753.864 , 5749.592 , 5752.045 , 5745.457 ,\n",
       "        5747.3896, 5747.368 , 5744.1504, 5748.4316, 5745.672 , 5747.5317]],\n",
       "      dtype=float32)"
      ]
     },
     "execution_count": 98,
     "metadata": {},
     "output_type": "execute_result"
    }
   ],
   "source": [
    "data_val = X_scaler.fit_transform(full_train.drop(['Sales','Customers','Store'], axis=1).tail(100))\n",
    "val_rescaled = data_val.reshape(1, data_val.shape[0], data_val.shape[1])\n",
    "pred = lstm_model.predict(val_rescaled)\n",
    "pred_Inverse = Y_scaler.inverse_transform(pred)\n",
    "pred_Inverse"
   ]
  },
  {
   "cell_type": "code",
   "execution_count": 99,
   "metadata": {},
   "outputs": [],
   "source": [
    "def timeseries_evaluation_metrics_func(y_true, y_pred):\n",
    "    def mean_absolute_percentage_error(y_true, y_pred): \n",
    "        y_true, y_pred = np.array(y_true), np.array(y_pred)\n",
    "        return np.mean(np.abs((y_true - y_pred) / y_true)) * 100\n",
    "    print('Evaluation metric results:-')\n",
    "    print(f'MSE is : {metrics.mean_squared_error(y_true, y_pred)}')\n",
    "    print(f'MAE is : {metrics.mean_absolute_error(y_true, y_pred)}')\n",
    "    print(f'RMSE is : {np.sqrt(metrics.mean_squared_error(y_true, y_pred))}')\n",
    "    print(f'MAPE is : {mean_absolute_percentage_error(y_true, y_pred)}')\n",
    "    print(f'R2 is : {metrics.r2_score(y_true, y_pred)}',end='\\n\\n')"
   ]
  },
  {
   "cell_type": "code",
   "execution_count": 100,
   "metadata": {},
   "outputs": [
    {
     "name": "stdout",
     "output_type": "stream",
     "text": [
      "Evaluation metric results:-\n",
      "MSE is : 63.72578026063229\n",
      "MAE is : 6.42024450852014\n",
      "RMSE is : 7.982842868341597\n",
      "MAPE is : 0.11157936957325999\n",
      "R2 is : 0.07518164128244431\n",
      "\n"
     ]
    }
   ],
   "source": [
    "timeseries_evaluation_metrics_func(validate['Sales'],pred_Inverse[0])"
   ]
  },
  {
   "cell_type": "code",
   "execution_count": 101,
   "metadata": {},
   "outputs": [
    {
     "data": {
      "image/png": "[encoded data removed]",
      "text/plain": [
       "<Figure size 1152x648 with 1 Axes>"
      ]
     },
     "metadata": {},
     "output_type": "display_data"
    }
   ],
   "source": [
    "plt.figure(figsize=(16,9))\n",
    "plt.plot( list(validate['Sales']))\n",
    "plt.plot( list(pred_Inverse[0]))\n",
    "plt.title(\"Actual vs Predicted\")\n",
    "plt.ylabel(\"Sales\")\n",
    "plt.legend(('Actual','predicted'))\n",
    "plt.show()"
   ]
  },
  {
   "cell_type": "code",
   "execution_count": 102,
   "metadata": {},
   "outputs": [],
   "source": [
    "from keras.models import load_model\n",
    "# Save model as pickle file\n",
    "#joblib.dump(history, \"D:/Stella/Documents/10_Academy/Week_3/sales_prediction/history.pkl\")\n",
    "lstm_model.save('D:/Stella/Documents/10_Academy/Week_3/sales_prediction/lstm_model.h5')"
   ]
  },
  {
   "cell_type": "code",
   "execution_count": 106,
   "metadata": {},
   "outputs": [],
   "source": [
    "loaded_model = tf.keras.models.load_model('D:/Stella/Documents/10_Academy/Week_3/sales_prediction/lstm_model.h5')\n",
    "assert np.allclose(lstm_model.predict(val_rescaled), loaded_model.predict(val_rescaled))"
   ]
  },
  {
   "cell_type": "code",
   "execution_count": null,
   "metadata": {},
   "outputs": [],
   "source": []
  },
  {
   "cell_type": "code",
   "execution_count": null,
   "metadata": {},
   "outputs": [],
   "source": [
    "#pd.DataFrame((pred_Inverse).T,columns=['Sales'])"
   ]
  },
  {
   "cell_type": "code",
   "execution_count": 108,
   "metadata": {},
   "outputs": [
    {
     "data": {
      "text/plain": [
       "array([[5745.244 , 5753.0693, 5752.9956, 5749.7554, 5751.541 , 5743.8223,\n",
       "        5744.1484, 5752.971 , 5748.1333, 5746.4365, 5748.353 , 5750.551 ,\n",
       "        5750.2905, 5748.4653, 5748.356 , 5746.2993, 5746.8945, 5745.543 ,\n",
       "        5752.1523, 5748.361 , 5746.8555, 5751.973 , 5751.0293, 5747.0854,\n",
       "        5754.7163, 5748.634 , 5753.4546, 5745.0034, 5750.5737, 5744.374 ,\n",
       "        5743.616 , 5747.5874, 5754.39  , 5750.46  , 5751.857 , 5745.9272,\n",
       "        5747.553 , 5747.087 , 5744.5146, 5749.142 , 5744.944 , 5749.0293]],\n",
       "      dtype=float32)"
      ]
     },
     "execution_count": 108,
     "metadata": {},
     "output_type": "execute_result"
    }
   ],
   "source": [
    "#predict the next 42 day from the train set\n",
    "data_val_test   = X_scaler.fit_transform(full_test.drop(['Id','Store'],axis=1).tail(100))\n",
    "val_rescaled_test = data_val_test.reshape(1, data_val_test.shape[0], data_val_test.shape[1])\n",
    "pred_test = loaded_model.predict(val_rescaled_test)\n",
    "pred_Inverse_test = Y_scaler.inverse_transform(pred_test)\n",
    "pred_Inverse_test"
   ]
  },
  {
   "cell_type": "code",
   "execution_count": 109,
   "metadata": {},
   "outputs": [
    {
     "data": {
      "text/plain": [
       "[<matplotlib.lines.Line2D at 0x224c5038488>]"
      ]
     },
     "execution_count": 109,
     "metadata": {},
     "output_type": "execute_result"
    },
    {
     "data": {
      "image/png": "[encoded data removed]",
      "text/plain": [
       "<Figure size 432x288 with 1 Axes>"
      ]
     },
     "metadata": {},
     "output_type": "display_data"
    }
   ],
   "source": [
    "plt.plot( list(pred_Inverse_test[0]))"
   ]
  },
  {
   "cell_type": "code",
   "execution_count": null,
   "metadata": {},
   "outputs": [],
   "source": []
  },
  {
   "cell_type": "code",
   "execution_count": null,
   "metadata": {},
   "outputs": [],
   "source": []
  },
  {
   "cell_type": "code",
   "execution_count": null,
   "metadata": {},
   "outputs": [],
   "source": []
  },
  {
   "cell_type": "code",
   "execution_count": 110,
   "metadata": {},
   "outputs": [],
   "source": [
    "class train1:\n",
    "    def __init__(self,df,store):\n",
    "        self.df=df\n",
    "        self.store=store\n",
    "        \n",
    "\n",
    "    def get_df(self):\n",
    "        return self.df\n",
    "\n",
    "    def set_df(self, new_df):\n",
    "        self.df = new_df\n",
    "\n",
    "   \n",
    "    def clean(self):\n",
    "        df = self.df\n",
    "        store=self.store\n",
    "\n",
    "        df = df.merge(store, on=[\"Store\"], how=\"outer\")\n",
    "        df = df.fillna(0)\n",
    "        df = date_type(df)\n",
    "        self.set_df(df)\n",
    "        #print(df)\n",
    "\n",
    "    def competition_duration(self):\n",
    "        df = self.df\n",
    "        df['CompetitionOpen '] = 12 * (df['Year'] - df['CompetitionOpenSinceYear']) + (\n",
    "                    df['Month'] - df['CompetitionOpenSinceMonth'])\n",
    "        df = df.drop(['CompetitionOpenSinceYear', 'CompetitionOpenSinceMonth'], axis=1)\n",
    "        self.set_df(df)\n",
    "        #print(df)\n",
    "\n",
    "    def promotion_duration(self):\n",
    "        df=self.df\n",
    "        df['PromoOpen'] = 12 * (df['Year'] - df['Promo2SinceYear']) + (df['WeekOfYear'] - df['Promo2SinceWeek']) / 4.0\n",
    "        df = df.drop(['Promo2SinceYear', 'Promo2SinceWeek'], axis=1)\n",
    "        self.set_df(df)\n",
    "        print(df)\n",
    "\n",
    "    def promotion_interval(self):\n",
    "        df=self.df\n",
    "        s = df['PromoInterval'].str.split(',', n=3, expand=True)\n",
    "        s.columns = ['PromoInterval0', 'PromoInterval1', 'PromoInterval2', 'PromoInterval3']\n",
    "        df = df.join(s)\n",
    "\n",
    "        # Converting Promointerval columns to numerical.\n",
    "        month_to_num_dict = {\n",
    "            'Jan': 1,\n",
    "            'Feb': 2,\n",
    "            'Mar': 3,\n",
    "            'Apr': 4,\n",
    "            'May': 5,\n",
    "            'Jun': 6,\n",
    "            'Jul': 7,\n",
    "            'Aug': 8,\n",
    "            'Sept': 9,\n",
    "            'Oct': 10,\n",
    "            'Nov': 11,\n",
    "            'Dec': 12,\n",
    "            'nan': np.NaN\n",
    "        }\n",
    "\n",
    "        df['PromoInterval0'] = df['PromoInterval0'].map(month_to_num_dict)\n",
    "        df['PromoInterval1'] = df['PromoInterval1'].map(month_to_num_dict)\n",
    "        df['PromoInterval2'] = df['PromoInterval2'].map(month_to_num_dict)\n",
    "        df['PromoInterval3'] = df['PromoInterval3'].map(month_to_num_dict)\n",
    "        df = df.drop(['PromoInterval'], axis=1)\n",
    "        df = df.fillna(0)\n",
    "        self.set_df(df)\n",
    "\n",
    "    def outlier(self):\n",
    "        df=self.df\n",
    "        df = outlier(df)\n",
    "        self.set_df(df)\n",
    "        #print(df)\n",
    "        \n",
    "    def encode(self):\n",
    "        df=self.df\n",
    "        df['StateHoliday']=df['StateHoliday'].astype('str')\n",
    "        df['StateHoliday']=df['StateHoliday'].astype('str')\n",
    "        lb_make = LabelEncoder()\n",
    "        df['StateHoliday'] = lb_make.fit_transform(df['StateHoliday'])\n",
    "        df['StoreType'] = lb_make.fit_transform(df['StoreType'])\n",
    "        df['Assortment'] = lb_make.fit_transform(df['Assortment'])\n",
    "        return df"
   ]
  },
  {
   "cell_type": "code",
   "execution_count": 111,
   "metadata": {},
   "outputs": [],
   "source": [
    "m=train1(train,store)"
   ]
  },
  {
   "cell_type": "code",
   "execution_count": 119,
   "metadata": {},
   "outputs": [],
   "source": [
    "m.clean()"
   ]
  },
  {
   "cell_type": "code",
   "execution_count": null,
   "metadata": {},
   "outputs": [],
   "source": [
    "m.competition_duration()"
   ]
  },
  {
   "cell_type": "code",
   "execution_count": null,
   "metadata": {},
   "outputs": [],
   "source": [
    "m.promotion_duration()"
   ]
  },
  {
   "cell_type": "code",
   "execution_count": null,
   "metadata": {},
   "outputs": [],
   "source": [
    "m.promotion_interval()"
   ]
  },
  {
   "cell_type": "code",
   "execution_count": null,
   "metadata": {},
   "outputs": [],
   "source": [
    "m.outlier()"
   ]
  },
  {
   "cell_type": "code",
   "execution_count": null,
   "metadata": {},
   "outputs": [],
   "source": [
    "m.encode()"
   ]
  },
  {
   "cell_type": "code",
   "execution_count": 116,
   "metadata": {},
   "outputs": [],
   "source": [
    "class predict1:\n",
    "    def __init__(self, df):\n",
    "        self.df = df\n",
    "        self.loaded_model = loaded_model\n",
    "\n",
    "    def get_df(self):\n",
    "        return self.df\n",
    "\n",
    "    def set_df(self, new_df):\n",
    "        self.df = new_df\n",
    "\n",
    "    def deep_model(self):\n",
    "        df = self.df\n",
    "        loaded_model = self.loaded_model\n",
    "        data_val = X_scaler.fit_transform(df.drop(['Id','Store'],axis=1).tail(100))\n",
    "        val_rescaled = data_val.reshape(1, data_val.shape[0], data_val.shape[1])\n",
    "        pred = loaded_model.predict(val_rescaled)\n",
    "        pred_Inverse = Y_scaler.inverse_transform(pred)\n",
    "        return pd.DataFrame((pred_Inverse).T, columns=['Sales'])"
   ]
  },
  {
   "cell_type": "code",
   "execution_count": 117,
   "metadata": {},
   "outputs": [],
   "source": [
    "m1=predict1(full_test)"
   ]
  },
  {
   "cell_type": "code",
   "execution_count": 118,
   "metadata": {},
   "outputs": [
    {
     "data": {
      "text/html": [
       "<div>\n",
       "<style scoped>\n",
       "    .dataframe tbody tr th:only-of-type {\n",
       "        vertical-align: middle;\n",
       "    }\n",
       "\n",
       "    .dataframe tbody tr th {\n",
       "        vertical-align: top;\n",
       "    }\n",
       "\n",
       "    .dataframe thead th {\n",
       "        text-align: right;\n",
       "    }\n",
       "</style>\n",
       "<table border=\"1\" class=\"dataframe\">\n",
       "  <thead>\n",
       "    <tr style=\"text-align: right;\">\n",
       "      <th></th>\n",
       "      <th>Sales</th>\n",
       "    </tr>\n",
       "  </thead>\n",
       "  <tbody>\n",
       "    <tr>\n",
       "      <th>0</th>\n",
       "      <td>5745.244141</td>\n",
       "    </tr>\n",
       "    <tr>\n",
       "      <th>1</th>\n",
       "      <td>5753.069336</td>\n",
       "    </tr>\n",
       "    <tr>\n",
       "      <th>2</th>\n",
       "      <td>5752.995605</td>\n",
       "    </tr>\n",
       "    <tr>\n",
       "      <th>3</th>\n",
       "      <td>5749.755371</td>\n",
       "    </tr>\n",
       "    <tr>\n",
       "      <th>4</th>\n",
       "      <td>5751.541016</td>\n",
       "    </tr>\n",
       "    <tr>\n",
       "      <th>5</th>\n",
       "      <td>5743.822266</td>\n",
       "    </tr>\n",
       "    <tr>\n",
       "      <th>6</th>\n",
       "      <td>5744.148438</td>\n",
       "    </tr>\n",
       "    <tr>\n",
       "      <th>7</th>\n",
       "      <td>5752.971191</td>\n",
       "    </tr>\n",
       "    <tr>\n",
       "      <th>8</th>\n",
       "      <td>5748.133301</td>\n",
       "    </tr>\n",
       "    <tr>\n",
       "      <th>9</th>\n",
       "      <td>5746.436523</td>\n",
       "    </tr>\n",
       "    <tr>\n",
       "      <th>10</th>\n",
       "      <td>5748.353027</td>\n",
       "    </tr>\n",
       "    <tr>\n",
       "      <th>11</th>\n",
       "      <td>5750.550781</td>\n",
       "    </tr>\n",
       "    <tr>\n",
       "      <th>12</th>\n",
       "      <td>5750.290527</td>\n",
       "    </tr>\n",
       "    <tr>\n",
       "      <th>13</th>\n",
       "      <td>5748.465332</td>\n",
       "    </tr>\n",
       "    <tr>\n",
       "      <th>14</th>\n",
       "      <td>5748.355957</td>\n",
       "    </tr>\n",
       "    <tr>\n",
       "      <th>15</th>\n",
       "      <td>5746.299316</td>\n",
       "    </tr>\n",
       "    <tr>\n",
       "      <th>16</th>\n",
       "      <td>5746.894531</td>\n",
       "    </tr>\n",
       "    <tr>\n",
       "      <th>17</th>\n",
       "      <td>5745.542969</td>\n",
       "    </tr>\n",
       "    <tr>\n",
       "      <th>18</th>\n",
       "      <td>5752.152344</td>\n",
       "    </tr>\n",
       "    <tr>\n",
       "      <th>19</th>\n",
       "      <td>5748.360840</td>\n",
       "    </tr>\n",
       "    <tr>\n",
       "      <th>20</th>\n",
       "      <td>5746.855469</td>\n",
       "    </tr>\n",
       "    <tr>\n",
       "      <th>21</th>\n",
       "      <td>5751.973145</td>\n",
       "    </tr>\n",
       "    <tr>\n",
       "      <th>22</th>\n",
       "      <td>5751.029297</td>\n",
       "    </tr>\n",
       "    <tr>\n",
       "      <th>23</th>\n",
       "      <td>5747.085449</td>\n",
       "    </tr>\n",
       "    <tr>\n",
       "      <th>24</th>\n",
       "      <td>5754.716309</td>\n",
       "    </tr>\n",
       "    <tr>\n",
       "      <th>25</th>\n",
       "      <td>5748.633789</td>\n",
       "    </tr>\n",
       "    <tr>\n",
       "      <th>26</th>\n",
       "      <td>5753.454590</td>\n",
       "    </tr>\n",
       "    <tr>\n",
       "      <th>27</th>\n",
       "      <td>5745.003418</td>\n",
       "    </tr>\n",
       "    <tr>\n",
       "      <th>28</th>\n",
       "      <td>5750.573730</td>\n",
       "    </tr>\n",
       "    <tr>\n",
       "      <th>29</th>\n",
       "      <td>5744.374023</td>\n",
       "    </tr>\n",
       "    <tr>\n",
       "      <th>30</th>\n",
       "      <td>5743.616211</td>\n",
       "    </tr>\n",
       "    <tr>\n",
       "      <th>31</th>\n",
       "      <td>5747.587402</td>\n",
       "    </tr>\n",
       "    <tr>\n",
       "      <th>32</th>\n",
       "      <td>5754.390137</td>\n",
       "    </tr>\n",
       "    <tr>\n",
       "      <th>33</th>\n",
       "      <td>5750.459961</td>\n",
       "    </tr>\n",
       "    <tr>\n",
       "      <th>34</th>\n",
       "      <td>5751.856934</td>\n",
       "    </tr>\n",
       "    <tr>\n",
       "      <th>35</th>\n",
       "      <td>5745.927246</td>\n",
       "    </tr>\n",
       "    <tr>\n",
       "      <th>36</th>\n",
       "      <td>5747.553223</td>\n",
       "    </tr>\n",
       "    <tr>\n",
       "      <th>37</th>\n",
       "      <td>5747.086914</td>\n",
       "    </tr>\n",
       "    <tr>\n",
       "      <th>38</th>\n",
       "      <td>5744.514648</td>\n",
       "    </tr>\n",
       "    <tr>\n",
       "      <th>39</th>\n",
       "      <td>5749.142090</td>\n",
       "    </tr>\n",
       "    <tr>\n",
       "      <th>40</th>\n",
       "      <td>5744.943848</td>\n",
       "    </tr>\n",
       "    <tr>\n",
       "      <th>41</th>\n",
       "      <td>5749.029297</td>\n",
       "    </tr>\n",
       "  </tbody>\n",
       "</table>\n",
       "</div>"
      ],
      "text/plain": [
       "          Sales\n",
       "0   5745.244141\n",
       "1   5753.069336\n",
       "2   5752.995605\n",
       "3   5749.755371\n",
       "4   5751.541016\n",
       "5   5743.822266\n",
       "6   5744.148438\n",
       "7   5752.971191\n",
       "8   5748.133301\n",
       "9   5746.436523\n",
       "10  5748.353027\n",
       "11  5750.550781\n",
       "12  5750.290527\n",
       "13  5748.465332\n",
       "14  5748.355957\n",
       "15  5746.299316\n",
       "16  5746.894531\n",
       "17  5745.542969\n",
       "18  5752.152344\n",
       "19  5748.360840\n",
       "20  5746.855469\n",
       "21  5751.973145\n",
       "22  5751.029297\n",
       "23  5747.085449\n",
       "24  5754.716309\n",
       "25  5748.633789\n",
       "26  5753.454590\n",
       "27  5745.003418\n",
       "28  5750.573730\n",
       "29  5744.374023\n",
       "30  5743.616211\n",
       "31  5747.587402\n",
       "32  5754.390137\n",
       "33  5750.459961\n",
       "34  5751.856934\n",
       "35  5745.927246\n",
       "36  5747.553223\n",
       "37  5747.086914\n",
       "38  5744.514648\n",
       "39  5749.142090\n",
       "40  5744.943848\n",
       "41  5749.029297"
      ]
     },
     "execution_count": 118,
     "metadata": {},
     "output_type": "execute_result"
    }
   ],
   "source": [
    "m1.deep_model()"
   ]
  }
 ],
 "metadata": {
  "kernelspec": {
   "display_name": "Python 3",
   "language": "python",
   "name": "python3"
  },
  "language_info": {
   "codemirror_mode": {
    "name": "ipython",
    "version": 3
   },
   "file_extension": ".py",
   "mimetype": "text/x-python",
   "name": "python",
   "nbconvert_exporter": "python",
   "pygments_lexer": "ipython3",
   "version": "3.7.4"
  }
 },
 "nbformat": 4,
 "nbformat_minor": 2
}
