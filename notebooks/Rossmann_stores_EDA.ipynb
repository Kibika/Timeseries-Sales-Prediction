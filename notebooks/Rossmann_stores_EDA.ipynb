{
 "cells": [
  {
   "cell_type": "markdown",
   "metadata": {},
   "source": [
    "# Time series analysis and prediction of Rossmannstore sales dataset.\n",
    "\n",
    "The analysis seeks to analyse the trend of sales in different stores, the factors affecting the sales and predict sales in the different stores.\n",
    "\n",
    "The Rossmann company has many stores across different cities that use four different models, a,b,c and d.The stores also have three different types of assortments, a,b and c.\n",
    "\n",
    "The data team identified factors such as promotions, competition, school and state holidays, seasonality, and locality as necessary for predicting the sales across the various stores, machine learning and deep learning algorithms will be used to determine the impact of these factors and train the model for prediction."
   ]
  },
  {
   "cell_type": "code",
   "execution_count": 1,
   "metadata": {},
   "outputs": [],
   "source": [
    "import pandas as pd\n",
    "import numpy as np\n",
    "import logging\n",
    "import plotly.express as px\n",
    "import matplotlib.pyplot as plt\n",
    "import seaborn as sns\n"
   ]
  },
  {
   "cell_type": "code",
   "execution_count": 2,
   "metadata": {},
   "outputs": [],
   "source": [
    "#Specify logging level and parameters\n",
    "\n",
    "logger = logging.getLogger(__name__)\n",
    "logger.setLevel(logging.INFO)\n",
    "\n",
    "formatter = logging.Formatter('%(asctime)s:%(name)s:%(message)s')\n",
    "\n",
    "file_handler = logging.FileHandler('EDA.log')\n",
    "#file_handler.setLevel(logging.ERROR)\n",
    "file_handler.setFormatter(formatter)\n",
    "\n",
    "#stream_handler = logging.StreamHandler()\n",
    "#stream_handler.setFormatter(formatter)\n",
    "\n",
    "logger.addHandler(file_handler)\n",
    "#logger.addHandler(stream_handler)"
   ]
  },
  {
   "cell_type": "code",
   "execution_count": 3,
   "metadata": {},
   "outputs": [
    {
     "name": "stderr",
     "output_type": "stream",
     "text": [
      "C:\\Users\\Stella\\Anaconda3\\lib\\site-packages\\IPython\\core\\interactiveshell.py:3058: DtypeWarning:\n",
      "\n",
      "Columns (7) have mixed types.Specify dtype option on import or set low_memory=False.\n",
      "\n"
     ]
    }
   ],
   "source": [
    "pd.set_option('max_column', None)\n",
    "# load the datasets\n",
    "store_data=pd.read_csv('sales_prediction/data/store.csv')   #describes the characteristics of a store\n",
    "train_data=pd.read_csv('sales_prediction/data/train.csv')\n",
    "test_data=pd.read_csv('sales_prediction/data/test.csv')"
   ]
  },
  {
   "cell_type": "code",
   "execution_count": 4,
   "metadata": {},
   "outputs": [],
   "source": [
    "# create a copy of each dataset\n",
    "store=store_data.copy()\n",
    "train=train_data.copy()\n",
    "test=test_data.copy()"
   ]
  },
  {
   "cell_type": "markdown",
   "metadata": {},
   "source": [
    "# Univariate EDA\n",
    "The first part will look at each variable in the train and test set to see the trends that exist.\n",
    "\n",
    "Begin by looking at what is in the dataset, use correct datatypes for each variable and make the date column the index"
   ]
  },
  {
   "cell_type": "code",
   "execution_count": 5,
   "metadata": {},
   "outputs": [
    {
     "data": {
      "text/html": [
       "<div>\n",
       "<style scoped>\n",
       "    .dataframe tbody tr th:only-of-type {\n",
       "        vertical-align: middle;\n",
       "    }\n",
       "\n",
       "    .dataframe tbody tr th {\n",
       "        vertical-align: top;\n",
       "    }\n",
       "\n",
       "    .dataframe thead th {\n",
       "        text-align: right;\n",
       "    }\n",
       "</style>\n",
       "<table border=\"1\" class=\"dataframe\">\n",
       "  <thead>\n",
       "    <tr style=\"text-align: right;\">\n",
       "      <th></th>\n",
       "      <th>Store</th>\n",
       "      <th>StoreType</th>\n",
       "      <th>Assortment</th>\n",
       "      <th>CompetitionDistance</th>\n",
       "      <th>CompetitionOpenSinceMonth</th>\n",
       "      <th>CompetitionOpenSinceYear</th>\n",
       "      <th>Promo2</th>\n",
       "      <th>Promo2SinceWeek</th>\n",
       "      <th>Promo2SinceYear</th>\n",
       "      <th>PromoInterval</th>\n",
       "    </tr>\n",
       "  </thead>\n",
       "  <tbody>\n",
       "    <tr>\n",
       "      <th>0</th>\n",
       "      <td>1</td>\n",
       "      <td>c</td>\n",
       "      <td>a</td>\n",
       "      <td>1270.0</td>\n",
       "      <td>9.0</td>\n",
       "      <td>2008.0</td>\n",
       "      <td>0</td>\n",
       "      <td>NaN</td>\n",
       "      <td>NaN</td>\n",
       "      <td>NaN</td>\n",
       "    </tr>\n",
       "    <tr>\n",
       "      <th>1</th>\n",
       "      <td>2</td>\n",
       "      <td>a</td>\n",
       "      <td>a</td>\n",
       "      <td>570.0</td>\n",
       "      <td>11.0</td>\n",
       "      <td>2007.0</td>\n",
       "      <td>1</td>\n",
       "      <td>13.0</td>\n",
       "      <td>2010.0</td>\n",
       "      <td>Jan,Apr,Jul,Oct</td>\n",
       "    </tr>\n",
       "    <tr>\n",
       "      <th>2</th>\n",
       "      <td>3</td>\n",
       "      <td>a</td>\n",
       "      <td>a</td>\n",
       "      <td>14130.0</td>\n",
       "      <td>12.0</td>\n",
       "      <td>2006.0</td>\n",
       "      <td>1</td>\n",
       "      <td>14.0</td>\n",
       "      <td>2011.0</td>\n",
       "      <td>Jan,Apr,Jul,Oct</td>\n",
       "    </tr>\n",
       "    <tr>\n",
       "      <th>3</th>\n",
       "      <td>4</td>\n",
       "      <td>c</td>\n",
       "      <td>c</td>\n",
       "      <td>620.0</td>\n",
       "      <td>9.0</td>\n",
       "      <td>2009.0</td>\n",
       "      <td>0</td>\n",
       "      <td>NaN</td>\n",
       "      <td>NaN</td>\n",
       "      <td>NaN</td>\n",
       "    </tr>\n",
       "    <tr>\n",
       "      <th>4</th>\n",
       "      <td>5</td>\n",
       "      <td>a</td>\n",
       "      <td>a</td>\n",
       "      <td>29910.0</td>\n",
       "      <td>4.0</td>\n",
       "      <td>2015.0</td>\n",
       "      <td>0</td>\n",
       "      <td>NaN</td>\n",
       "      <td>NaN</td>\n",
       "      <td>NaN</td>\n",
       "    </tr>\n",
       "  </tbody>\n",
       "</table>\n",
       "</div>"
      ],
      "text/plain": [
       "   Store StoreType Assortment  CompetitionDistance  CompetitionOpenSinceMonth  \\\n",
       "0      1         c          a               1270.0                        9.0   \n",
       "1      2         a          a                570.0                       11.0   \n",
       "2      3         a          a              14130.0                       12.0   \n",
       "3      4         c          c                620.0                        9.0   \n",
       "4      5         a          a              29910.0                        4.0   \n",
       "\n",
       "   CompetitionOpenSinceYear  Promo2  Promo2SinceWeek  Promo2SinceYear  \\\n",
       "0                    2008.0       0              NaN              NaN   \n",
       "1                    2007.0       1             13.0           2010.0   \n",
       "2                    2006.0       1             14.0           2011.0   \n",
       "3                    2009.0       0              NaN              NaN   \n",
       "4                    2015.0       0              NaN              NaN   \n",
       "\n",
       "     PromoInterval  \n",
       "0              NaN  \n",
       "1  Jan,Apr,Jul,Oct  \n",
       "2  Jan,Apr,Jul,Oct  \n",
       "3              NaN  \n",
       "4              NaN  "
      ]
     },
     "execution_count": 5,
     "metadata": {},
     "output_type": "execute_result"
    }
   ],
   "source": [
    "store.head()"
   ]
  },
  {
   "cell_type": "code",
   "execution_count": 6,
   "metadata": {},
   "outputs": [
    {
     "data": {
      "text/html": [
       "<div>\n",
       "<style scoped>\n",
       "    .dataframe tbody tr th:only-of-type {\n",
       "        vertical-align: middle;\n",
       "    }\n",
       "\n",
       "    .dataframe tbody tr th {\n",
       "        vertical-align: top;\n",
       "    }\n",
       "\n",
       "    .dataframe thead th {\n",
       "        text-align: right;\n",
       "    }\n",
       "</style>\n",
       "<table border=\"1\" class=\"dataframe\">\n",
       "  <thead>\n",
       "    <tr style=\"text-align: right;\">\n",
       "      <th></th>\n",
       "      <th>Store</th>\n",
       "      <th>DayOfWeek</th>\n",
       "      <th>Date</th>\n",
       "      <th>Sales</th>\n",
       "      <th>Customers</th>\n",
       "      <th>Open</th>\n",
       "      <th>Promo</th>\n",
       "      <th>StateHoliday</th>\n",
       "      <th>SchoolHoliday</th>\n",
       "    </tr>\n",
       "  </thead>\n",
       "  <tbody>\n",
       "    <tr>\n",
       "      <th>0</th>\n",
       "      <td>1</td>\n",
       "      <td>5</td>\n",
       "      <td>2015-07-31</td>\n",
       "      <td>5263</td>\n",
       "      <td>555</td>\n",
       "      <td>1</td>\n",
       "      <td>1</td>\n",
       "      <td>0</td>\n",
       "      <td>1</td>\n",
       "    </tr>\n",
       "    <tr>\n",
       "      <th>1</th>\n",
       "      <td>2</td>\n",
       "      <td>5</td>\n",
       "      <td>2015-07-31</td>\n",
       "      <td>6064</td>\n",
       "      <td>625</td>\n",
       "      <td>1</td>\n",
       "      <td>1</td>\n",
       "      <td>0</td>\n",
       "      <td>1</td>\n",
       "    </tr>\n",
       "    <tr>\n",
       "      <th>2</th>\n",
       "      <td>3</td>\n",
       "      <td>5</td>\n",
       "      <td>2015-07-31</td>\n",
       "      <td>8314</td>\n",
       "      <td>821</td>\n",
       "      <td>1</td>\n",
       "      <td>1</td>\n",
       "      <td>0</td>\n",
       "      <td>1</td>\n",
       "    </tr>\n",
       "    <tr>\n",
       "      <th>3</th>\n",
       "      <td>4</td>\n",
       "      <td>5</td>\n",
       "      <td>2015-07-31</td>\n",
       "      <td>13995</td>\n",
       "      <td>1498</td>\n",
       "      <td>1</td>\n",
       "      <td>1</td>\n",
       "      <td>0</td>\n",
       "      <td>1</td>\n",
       "    </tr>\n",
       "    <tr>\n",
       "      <th>4</th>\n",
       "      <td>5</td>\n",
       "      <td>5</td>\n",
       "      <td>2015-07-31</td>\n",
       "      <td>4822</td>\n",
       "      <td>559</td>\n",
       "      <td>1</td>\n",
       "      <td>1</td>\n",
       "      <td>0</td>\n",
       "      <td>1</td>\n",
       "    </tr>\n",
       "  </tbody>\n",
       "</table>\n",
       "</div>"
      ],
      "text/plain": [
       "   Store  DayOfWeek        Date  Sales  Customers  Open  Promo StateHoliday  \\\n",
       "0      1          5  2015-07-31   5263        555     1      1            0   \n",
       "1      2          5  2015-07-31   6064        625     1      1            0   \n",
       "2      3          5  2015-07-31   8314        821     1      1            0   \n",
       "3      4          5  2015-07-31  13995       1498     1      1            0   \n",
       "4      5          5  2015-07-31   4822        559     1      1            0   \n",
       "\n",
       "   SchoolHoliday  \n",
       "0              1  \n",
       "1              1  \n",
       "2              1  \n",
       "3              1  \n",
       "4              1  "
      ]
     },
     "execution_count": 6,
     "metadata": {},
     "output_type": "execute_result"
    }
   ],
   "source": [
    "train.head()"
   ]
  },
  {
   "cell_type": "code",
   "execution_count": 7,
   "metadata": {},
   "outputs": [
    {
     "data": {
      "text/html": [
       "<div>\n",
       "<style scoped>\n",
       "    .dataframe tbody tr th:only-of-type {\n",
       "        vertical-align: middle;\n",
       "    }\n",
       "\n",
       "    .dataframe tbody tr th {\n",
       "        vertical-align: top;\n",
       "    }\n",
       "\n",
       "    .dataframe thead th {\n",
       "        text-align: right;\n",
       "    }\n",
       "</style>\n",
       "<table border=\"1\" class=\"dataframe\">\n",
       "  <thead>\n",
       "    <tr style=\"text-align: right;\">\n",
       "      <th></th>\n",
       "      <th>Id</th>\n",
       "      <th>Store</th>\n",
       "      <th>DayOfWeek</th>\n",
       "      <th>Date</th>\n",
       "      <th>Open</th>\n",
       "      <th>Promo</th>\n",
       "      <th>StateHoliday</th>\n",
       "      <th>SchoolHoliday</th>\n",
       "    </tr>\n",
       "  </thead>\n",
       "  <tbody>\n",
       "    <tr>\n",
       "      <th>0</th>\n",
       "      <td>1</td>\n",
       "      <td>1</td>\n",
       "      <td>4</td>\n",
       "      <td>2015-09-17</td>\n",
       "      <td>1.0</td>\n",
       "      <td>1</td>\n",
       "      <td>0</td>\n",
       "      <td>0</td>\n",
       "    </tr>\n",
       "    <tr>\n",
       "      <th>1</th>\n",
       "      <td>2</td>\n",
       "      <td>3</td>\n",
       "      <td>4</td>\n",
       "      <td>2015-09-17</td>\n",
       "      <td>1.0</td>\n",
       "      <td>1</td>\n",
       "      <td>0</td>\n",
       "      <td>0</td>\n",
       "    </tr>\n",
       "    <tr>\n",
       "      <th>2</th>\n",
       "      <td>3</td>\n",
       "      <td>7</td>\n",
       "      <td>4</td>\n",
       "      <td>2015-09-17</td>\n",
       "      <td>1.0</td>\n",
       "      <td>1</td>\n",
       "      <td>0</td>\n",
       "      <td>0</td>\n",
       "    </tr>\n",
       "    <tr>\n",
       "      <th>3</th>\n",
       "      <td>4</td>\n",
       "      <td>8</td>\n",
       "      <td>4</td>\n",
       "      <td>2015-09-17</td>\n",
       "      <td>1.0</td>\n",
       "      <td>1</td>\n",
       "      <td>0</td>\n",
       "      <td>0</td>\n",
       "    </tr>\n",
       "    <tr>\n",
       "      <th>4</th>\n",
       "      <td>5</td>\n",
       "      <td>9</td>\n",
       "      <td>4</td>\n",
       "      <td>2015-09-17</td>\n",
       "      <td>1.0</td>\n",
       "      <td>1</td>\n",
       "      <td>0</td>\n",
       "      <td>0</td>\n",
       "    </tr>\n",
       "  </tbody>\n",
       "</table>\n",
       "</div>"
      ],
      "text/plain": [
       "   Id  Store  DayOfWeek        Date  Open  Promo StateHoliday  SchoolHoliday\n",
       "0   1      1          4  2015-09-17   1.0      1            0              0\n",
       "1   2      3          4  2015-09-17   1.0      1            0              0\n",
       "2   3      7          4  2015-09-17   1.0      1            0              0\n",
       "3   4      8          4  2015-09-17   1.0      1            0              0\n",
       "4   5      9          4  2015-09-17   1.0      1            0              0"
      ]
     },
     "execution_count": 7,
     "metadata": {},
     "output_type": "execute_result"
    }
   ],
   "source": [
    "test.head()"
   ]
  },
  {
   "cell_type": "code",
   "execution_count": 8,
   "metadata": {},
   "outputs": [],
   "source": [
    "#determine shape of each dataset:\n",
    "def df_shape(df):\n",
    "    print(f\" There are {df.shape[0]} rows and {df.shape[1]} columns\")"
   ]
  },
  {
   "cell_type": "code",
   "execution_count": 9,
   "metadata": {},
   "outputs": [
    {
     "name": "stdout",
     "output_type": "stream",
     "text": [
      " There are 1115 rows and 10 columns\n"
     ]
    }
   ],
   "source": [
    "#shape of store dataset\n",
    "df_shape(store)"
   ]
  },
  {
   "cell_type": "code",
   "execution_count": 10,
   "metadata": {
    "scrolled": true
   },
   "outputs": [
    {
     "name": "stdout",
     "output_type": "stream",
     "text": [
      " There are 1017209 rows and 9 columns\n"
     ]
    }
   ],
   "source": [
    "#shape of train dataset\n",
    "df_shape(train)"
   ]
  },
  {
   "cell_type": "code",
   "execution_count": 11,
   "metadata": {},
   "outputs": [
    {
     "name": "stdout",
     "output_type": "stream",
     "text": [
      " There are 41088 rows and 8 columns\n"
     ]
    }
   ],
   "source": [
    "#shape of test dataset\n",
    "df_shape(test)"
   ]
  },
  {
   "cell_type": "code",
   "execution_count": 12,
   "metadata": {},
   "outputs": [
    {
     "name": "stdout",
     "output_type": "stream",
     "text": [
      "<class 'pandas.core.frame.DataFrame'>\n",
      "RangeIndex: 1115 entries, 0 to 1114\n",
      "Data columns (total 10 columns):\n",
      " #   Column                     Non-Null Count  Dtype  \n",
      "---  ------                     --------------  -----  \n",
      " 0   Store                      1115 non-null   int64  \n",
      " 1   StoreType                  1115 non-null   object \n",
      " 2   Assortment                 1115 non-null   object \n",
      " 3   CompetitionDistance        1112 non-null   float64\n",
      " 4   CompetitionOpenSinceMonth  761 non-null    float64\n",
      " 5   CompetitionOpenSinceYear   761 non-null    float64\n",
      " 6   Promo2                     1115 non-null   int64  \n",
      " 7   Promo2SinceWeek            571 non-null    float64\n",
      " 8   Promo2SinceYear            571 non-null    float64\n",
      " 9   PromoInterval              571 non-null    object \n",
      "dtypes: float64(5), int64(2), object(3)\n",
      "memory usage: 87.2+ KB\n"
     ]
    }
   ],
   "source": [
    "#store datatypes\n",
    "store.info()"
   ]
  },
  {
   "cell_type": "code",
   "execution_count": 13,
   "metadata": {},
   "outputs": [
    {
     "name": "stdout",
     "output_type": "stream",
     "text": [
      "<class 'pandas.core.frame.DataFrame'>\n",
      "RangeIndex: 1017209 entries, 0 to 1017208\n",
      "Data columns (total 9 columns):\n",
      " #   Column         Non-Null Count    Dtype \n",
      "---  ------         --------------    ----- \n",
      " 0   Store          1017209 non-null  int64 \n",
      " 1   DayOfWeek      1017209 non-null  int64 \n",
      " 2   Date           1017209 non-null  object\n",
      " 3   Sales          1017209 non-null  int64 \n",
      " 4   Customers      1017209 non-null  int64 \n",
      " 5   Open           1017209 non-null  int64 \n",
      " 6   Promo          1017209 non-null  int64 \n",
      " 7   StateHoliday   1017209 non-null  object\n",
      " 8   SchoolHoliday  1017209 non-null  int64 \n",
      "dtypes: int64(7), object(2)\n",
      "memory usage: 69.8+ MB\n"
     ]
    }
   ],
   "source": [
    "#train datatypes\n",
    "train.info()"
   ]
  },
  {
   "cell_type": "code",
   "execution_count": 14,
   "metadata": {},
   "outputs": [
    {
     "name": "stdout",
     "output_type": "stream",
     "text": [
      "<class 'pandas.core.frame.DataFrame'>\n",
      "RangeIndex: 41088 entries, 0 to 41087\n",
      "Data columns (total 8 columns):\n",
      " #   Column         Non-Null Count  Dtype  \n",
      "---  ------         --------------  -----  \n",
      " 0   Id             41088 non-null  int64  \n",
      " 1   Store          41088 non-null  int64  \n",
      " 2   DayOfWeek      41088 non-null  int64  \n",
      " 3   Date           41088 non-null  object \n",
      " 4   Open           41077 non-null  float64\n",
      " 5   Promo          41088 non-null  int64  \n",
      " 6   StateHoliday   41088 non-null  object \n",
      " 7   SchoolHoliday  41088 non-null  int64  \n",
      "dtypes: float64(1), int64(5), object(2)\n",
      "memory usage: 2.5+ MB\n"
     ]
    }
   ],
   "source": [
    "#test datatypes\n",
    "test.info()"
   ]
  },
  {
   "cell_type": "code",
   "execution_count": 15,
   "metadata": {},
   "outputs": [],
   "source": [
    "#convert date column to date type and make it an index\n",
    "def date_type(df):\n",
    "    df['Date']=pd.to_datetime(df['Date'], format='%Y-%m-%d')\n",
    "    df['Year'] = df['Date'].dt.year\n",
    "    df['Month'] = df['Date'].dt.month\n",
    "    df['Day'] = df['Date'].dt.day\n",
    "    df['WeekOfYear'] = df['Date'].dt.isocalendar().week\n",
    "    return df"
   ]
  },
  {
   "cell_type": "markdown",
   "metadata": {},
   "source": [
    "Merge store data and train data"
   ]
  },
  {
   "cell_type": "code",
   "execution_count": 16,
   "metadata": {},
   "outputs": [
    {
     "data": {
      "text/html": [
       "<div>\n",
       "<style scoped>\n",
       "    .dataframe tbody tr th:only-of-type {\n",
       "        vertical-align: middle;\n",
       "    }\n",
       "\n",
       "    .dataframe tbody tr th {\n",
       "        vertical-align: top;\n",
       "    }\n",
       "\n",
       "    .dataframe thead th {\n",
       "        text-align: right;\n",
       "    }\n",
       "</style>\n",
       "<table border=\"1\" class=\"dataframe\">\n",
       "  <thead>\n",
       "    <tr style=\"text-align: right;\">\n",
       "      <th></th>\n",
       "      <th>Store</th>\n",
       "      <th>DayOfWeek</th>\n",
       "      <th>Date</th>\n",
       "      <th>Sales</th>\n",
       "      <th>Customers</th>\n",
       "      <th>Open</th>\n",
       "      <th>Promo</th>\n",
       "      <th>StateHoliday</th>\n",
       "      <th>SchoolHoliday</th>\n",
       "      <th>StoreType</th>\n",
       "      <th>Assortment</th>\n",
       "      <th>CompetitionDistance</th>\n",
       "      <th>CompetitionOpenSinceMonth</th>\n",
       "      <th>CompetitionOpenSinceYear</th>\n",
       "      <th>Promo2</th>\n",
       "      <th>Promo2SinceWeek</th>\n",
       "      <th>Promo2SinceYear</th>\n",
       "      <th>PromoInterval</th>\n",
       "    </tr>\n",
       "  </thead>\n",
       "  <tbody>\n",
       "    <tr>\n",
       "      <th>0</th>\n",
       "      <td>1</td>\n",
       "      <td>5</td>\n",
       "      <td>2015-07-31</td>\n",
       "      <td>5263</td>\n",
       "      <td>555</td>\n",
       "      <td>1</td>\n",
       "      <td>1</td>\n",
       "      <td>0</td>\n",
       "      <td>1</td>\n",
       "      <td>c</td>\n",
       "      <td>a</td>\n",
       "      <td>1270.0</td>\n",
       "      <td>9.0</td>\n",
       "      <td>2008.0</td>\n",
       "      <td>0</td>\n",
       "      <td>NaN</td>\n",
       "      <td>NaN</td>\n",
       "      <td>NaN</td>\n",
       "    </tr>\n",
       "    <tr>\n",
       "      <th>1</th>\n",
       "      <td>1</td>\n",
       "      <td>4</td>\n",
       "      <td>2015-07-30</td>\n",
       "      <td>5020</td>\n",
       "      <td>546</td>\n",
       "      <td>1</td>\n",
       "      <td>1</td>\n",
       "      <td>0</td>\n",
       "      <td>1</td>\n",
       "      <td>c</td>\n",
       "      <td>a</td>\n",
       "      <td>1270.0</td>\n",
       "      <td>9.0</td>\n",
       "      <td>2008.0</td>\n",
       "      <td>0</td>\n",
       "      <td>NaN</td>\n",
       "      <td>NaN</td>\n",
       "      <td>NaN</td>\n",
       "    </tr>\n",
       "    <tr>\n",
       "      <th>2</th>\n",
       "      <td>1</td>\n",
       "      <td>3</td>\n",
       "      <td>2015-07-29</td>\n",
       "      <td>4782</td>\n",
       "      <td>523</td>\n",
       "      <td>1</td>\n",
       "      <td>1</td>\n",
       "      <td>0</td>\n",
       "      <td>1</td>\n",
       "      <td>c</td>\n",
       "      <td>a</td>\n",
       "      <td>1270.0</td>\n",
       "      <td>9.0</td>\n",
       "      <td>2008.0</td>\n",
       "      <td>0</td>\n",
       "      <td>NaN</td>\n",
       "      <td>NaN</td>\n",
       "      <td>NaN</td>\n",
       "    </tr>\n",
       "    <tr>\n",
       "      <th>3</th>\n",
       "      <td>1</td>\n",
       "      <td>2</td>\n",
       "      <td>2015-07-28</td>\n",
       "      <td>5011</td>\n",
       "      <td>560</td>\n",
       "      <td>1</td>\n",
       "      <td>1</td>\n",
       "      <td>0</td>\n",
       "      <td>1</td>\n",
       "      <td>c</td>\n",
       "      <td>a</td>\n",
       "      <td>1270.0</td>\n",
       "      <td>9.0</td>\n",
       "      <td>2008.0</td>\n",
       "      <td>0</td>\n",
       "      <td>NaN</td>\n",
       "      <td>NaN</td>\n",
       "      <td>NaN</td>\n",
       "    </tr>\n",
       "    <tr>\n",
       "      <th>4</th>\n",
       "      <td>1</td>\n",
       "      <td>1</td>\n",
       "      <td>2015-07-27</td>\n",
       "      <td>6102</td>\n",
       "      <td>612</td>\n",
       "      <td>1</td>\n",
       "      <td>1</td>\n",
       "      <td>0</td>\n",
       "      <td>1</td>\n",
       "      <td>c</td>\n",
       "      <td>a</td>\n",
       "      <td>1270.0</td>\n",
       "      <td>9.0</td>\n",
       "      <td>2008.0</td>\n",
       "      <td>0</td>\n",
       "      <td>NaN</td>\n",
       "      <td>NaN</td>\n",
       "      <td>NaN</td>\n",
       "    </tr>\n",
       "    <tr>\n",
       "      <th>5</th>\n",
       "      <td>1</td>\n",
       "      <td>7</td>\n",
       "      <td>2015-07-26</td>\n",
       "      <td>0</td>\n",
       "      <td>0</td>\n",
       "      <td>0</td>\n",
       "      <td>0</td>\n",
       "      <td>0</td>\n",
       "      <td>0</td>\n",
       "      <td>c</td>\n",
       "      <td>a</td>\n",
       "      <td>1270.0</td>\n",
       "      <td>9.0</td>\n",
       "      <td>2008.0</td>\n",
       "      <td>0</td>\n",
       "      <td>NaN</td>\n",
       "      <td>NaN</td>\n",
       "      <td>NaN</td>\n",
       "    </tr>\n",
       "    <tr>\n",
       "      <th>6</th>\n",
       "      <td>1</td>\n",
       "      <td>6</td>\n",
       "      <td>2015-07-25</td>\n",
       "      <td>4364</td>\n",
       "      <td>500</td>\n",
       "      <td>1</td>\n",
       "      <td>0</td>\n",
       "      <td>0</td>\n",
       "      <td>0</td>\n",
       "      <td>c</td>\n",
       "      <td>a</td>\n",
       "      <td>1270.0</td>\n",
       "      <td>9.0</td>\n",
       "      <td>2008.0</td>\n",
       "      <td>0</td>\n",
       "      <td>NaN</td>\n",
       "      <td>NaN</td>\n",
       "      <td>NaN</td>\n",
       "    </tr>\n",
       "    <tr>\n",
       "      <th>7</th>\n",
       "      <td>1</td>\n",
       "      <td>5</td>\n",
       "      <td>2015-07-24</td>\n",
       "      <td>3706</td>\n",
       "      <td>459</td>\n",
       "      <td>1</td>\n",
       "      <td>0</td>\n",
       "      <td>0</td>\n",
       "      <td>0</td>\n",
       "      <td>c</td>\n",
       "      <td>a</td>\n",
       "      <td>1270.0</td>\n",
       "      <td>9.0</td>\n",
       "      <td>2008.0</td>\n",
       "      <td>0</td>\n",
       "      <td>NaN</td>\n",
       "      <td>NaN</td>\n",
       "      <td>NaN</td>\n",
       "    </tr>\n",
       "    <tr>\n",
       "      <th>8</th>\n",
       "      <td>1</td>\n",
       "      <td>4</td>\n",
       "      <td>2015-07-23</td>\n",
       "      <td>3769</td>\n",
       "      <td>503</td>\n",
       "      <td>1</td>\n",
       "      <td>0</td>\n",
       "      <td>0</td>\n",
       "      <td>0</td>\n",
       "      <td>c</td>\n",
       "      <td>a</td>\n",
       "      <td>1270.0</td>\n",
       "      <td>9.0</td>\n",
       "      <td>2008.0</td>\n",
       "      <td>0</td>\n",
       "      <td>NaN</td>\n",
       "      <td>NaN</td>\n",
       "      <td>NaN</td>\n",
       "    </tr>\n",
       "    <tr>\n",
       "      <th>9</th>\n",
       "      <td>1</td>\n",
       "      <td>3</td>\n",
       "      <td>2015-07-22</td>\n",
       "      <td>3464</td>\n",
       "      <td>463</td>\n",
       "      <td>1</td>\n",
       "      <td>0</td>\n",
       "      <td>0</td>\n",
       "      <td>0</td>\n",
       "      <td>c</td>\n",
       "      <td>a</td>\n",
       "      <td>1270.0</td>\n",
       "      <td>9.0</td>\n",
       "      <td>2008.0</td>\n",
       "      <td>0</td>\n",
       "      <td>NaN</td>\n",
       "      <td>NaN</td>\n",
       "      <td>NaN</td>\n",
       "    </tr>\n",
       "  </tbody>\n",
       "</table>\n",
       "</div>"
      ],
      "text/plain": [
       "   Store  DayOfWeek        Date  Sales  Customers  Open  Promo StateHoliday  \\\n",
       "0      1          5  2015-07-31   5263        555     1      1            0   \n",
       "1      1          4  2015-07-30   5020        546     1      1            0   \n",
       "2      1          3  2015-07-29   4782        523     1      1            0   \n",
       "3      1          2  2015-07-28   5011        560     1      1            0   \n",
       "4      1          1  2015-07-27   6102        612     1      1            0   \n",
       "5      1          7  2015-07-26      0          0     0      0            0   \n",
       "6      1          6  2015-07-25   4364        500     1      0            0   \n",
       "7      1          5  2015-07-24   3706        459     1      0            0   \n",
       "8      1          4  2015-07-23   3769        503     1      0            0   \n",
       "9      1          3  2015-07-22   3464        463     1      0            0   \n",
       "\n",
       "   SchoolHoliday StoreType Assortment  CompetitionDistance  \\\n",
       "0              1         c          a               1270.0   \n",
       "1              1         c          a               1270.0   \n",
       "2              1         c          a               1270.0   \n",
       "3              1         c          a               1270.0   \n",
       "4              1         c          a               1270.0   \n",
       "5              0         c          a               1270.0   \n",
       "6              0         c          a               1270.0   \n",
       "7              0         c          a               1270.0   \n",
       "8              0         c          a               1270.0   \n",
       "9              0         c          a               1270.0   \n",
       "\n",
       "   CompetitionOpenSinceMonth  CompetitionOpenSinceYear  Promo2  \\\n",
       "0                        9.0                    2008.0       0   \n",
       "1                        9.0                    2008.0       0   \n",
       "2                        9.0                    2008.0       0   \n",
       "3                        9.0                    2008.0       0   \n",
       "4                        9.0                    2008.0       0   \n",
       "5                        9.0                    2008.0       0   \n",
       "6                        9.0                    2008.0       0   \n",
       "7                        9.0                    2008.0       0   \n",
       "8                        9.0                    2008.0       0   \n",
       "9                        9.0                    2008.0       0   \n",
       "\n",
       "   Promo2SinceWeek  Promo2SinceYear PromoInterval  \n",
       "0              NaN              NaN           NaN  \n",
       "1              NaN              NaN           NaN  \n",
       "2              NaN              NaN           NaN  \n",
       "3              NaN              NaN           NaN  \n",
       "4              NaN              NaN           NaN  \n",
       "5              NaN              NaN           NaN  \n",
       "6              NaN              NaN           NaN  \n",
       "7              NaN              NaN           NaN  \n",
       "8              NaN              NaN           NaN  \n",
       "9              NaN              NaN           NaN  "
      ]
     },
     "execution_count": 16,
     "metadata": {},
     "output_type": "execute_result"
    }
   ],
   "source": [
    "full_train=train.merge(store,on=[\"Store\"],how=\"outer\")\n",
    "full_train.head(10)"
   ]
  },
  {
   "cell_type": "code",
   "execution_count": 17,
   "metadata": {},
   "outputs": [
    {
     "name": "stdout",
     "output_type": "stream",
     "text": [
      "<class 'pandas.core.frame.DataFrame'>\n",
      "Int64Index: 1017209 entries, 0 to 1017208\n",
      "Data columns (total 18 columns):\n",
      " #   Column                     Non-Null Count    Dtype  \n",
      "---  ------                     --------------    -----  \n",
      " 0   Store                      1017209 non-null  int64  \n",
      " 1   DayOfWeek                  1017209 non-null  int64  \n",
      " 2   Date                       1017209 non-null  object \n",
      " 3   Sales                      1017209 non-null  int64  \n",
      " 4   Customers                  1017209 non-null  int64  \n",
      " 5   Open                       1017209 non-null  int64  \n",
      " 6   Promo                      1017209 non-null  int64  \n",
      " 7   StateHoliday               1017209 non-null  object \n",
      " 8   SchoolHoliday              1017209 non-null  int64  \n",
      " 9   StoreType                  1017209 non-null  object \n",
      " 10  Assortment                 1017209 non-null  object \n",
      " 11  CompetitionDistance        1014567 non-null  float64\n",
      " 12  CompetitionOpenSinceMonth  693861 non-null   float64\n",
      " 13  CompetitionOpenSinceYear   693861 non-null   float64\n",
      " 14  Promo2                     1017209 non-null  int64  \n",
      " 15  Promo2SinceWeek            509178 non-null   float64\n",
      " 16  Promo2SinceYear            509178 non-null   float64\n",
      " 17  PromoInterval              509178 non-null   object \n",
      "dtypes: float64(5), int64(8), object(5)\n",
      "memory usage: 147.5+ MB\n"
     ]
    }
   ],
   "source": [
    "full_train.info()"
   ]
  },
  {
   "cell_type": "markdown",
   "metadata": {},
   "source": [
    "Merge store data and test data"
   ]
  },
  {
   "cell_type": "code",
   "execution_count": 18,
   "metadata": {},
   "outputs": [
    {
     "data": {
      "text/html": [
       "<div>\n",
       "<style scoped>\n",
       "    .dataframe tbody tr th:only-of-type {\n",
       "        vertical-align: middle;\n",
       "    }\n",
       "\n",
       "    .dataframe tbody tr th {\n",
       "        vertical-align: top;\n",
       "    }\n",
       "\n",
       "    .dataframe thead th {\n",
       "        text-align: right;\n",
       "    }\n",
       "</style>\n",
       "<table border=\"1\" class=\"dataframe\">\n",
       "  <thead>\n",
       "    <tr style=\"text-align: right;\">\n",
       "      <th></th>\n",
       "      <th>Id</th>\n",
       "      <th>Store</th>\n",
       "      <th>DayOfWeek</th>\n",
       "      <th>Date</th>\n",
       "      <th>Open</th>\n",
       "      <th>Promo</th>\n",
       "      <th>StateHoliday</th>\n",
       "      <th>SchoolHoliday</th>\n",
       "      <th>StoreType</th>\n",
       "      <th>Assortment</th>\n",
       "      <th>CompetitionDistance</th>\n",
       "      <th>CompetitionOpenSinceMonth</th>\n",
       "      <th>CompetitionOpenSinceYear</th>\n",
       "      <th>Promo2</th>\n",
       "      <th>Promo2SinceWeek</th>\n",
       "      <th>Promo2SinceYear</th>\n",
       "      <th>PromoInterval</th>\n",
       "    </tr>\n",
       "  </thead>\n",
       "  <tbody>\n",
       "    <tr>\n",
       "      <th>0</th>\n",
       "      <td>1.0</td>\n",
       "      <td>1</td>\n",
       "      <td>4.0</td>\n",
       "      <td>2015-09-17</td>\n",
       "      <td>1.0</td>\n",
       "      <td>1.0</td>\n",
       "      <td>0</td>\n",
       "      <td>0.0</td>\n",
       "      <td>c</td>\n",
       "      <td>a</td>\n",
       "      <td>1270.0</td>\n",
       "      <td>9.0</td>\n",
       "      <td>2008.0</td>\n",
       "      <td>0</td>\n",
       "      <td>NaN</td>\n",
       "      <td>NaN</td>\n",
       "      <td>NaN</td>\n",
       "    </tr>\n",
       "    <tr>\n",
       "      <th>1</th>\n",
       "      <td>857.0</td>\n",
       "      <td>1</td>\n",
       "      <td>3.0</td>\n",
       "      <td>2015-09-16</td>\n",
       "      <td>1.0</td>\n",
       "      <td>1.0</td>\n",
       "      <td>0</td>\n",
       "      <td>0.0</td>\n",
       "      <td>c</td>\n",
       "      <td>a</td>\n",
       "      <td>1270.0</td>\n",
       "      <td>9.0</td>\n",
       "      <td>2008.0</td>\n",
       "      <td>0</td>\n",
       "      <td>NaN</td>\n",
       "      <td>NaN</td>\n",
       "      <td>NaN</td>\n",
       "    </tr>\n",
       "    <tr>\n",
       "      <th>2</th>\n",
       "      <td>1713.0</td>\n",
       "      <td>1</td>\n",
       "      <td>2.0</td>\n",
       "      <td>2015-09-15</td>\n",
       "      <td>1.0</td>\n",
       "      <td>1.0</td>\n",
       "      <td>0</td>\n",
       "      <td>0.0</td>\n",
       "      <td>c</td>\n",
       "      <td>a</td>\n",
       "      <td>1270.0</td>\n",
       "      <td>9.0</td>\n",
       "      <td>2008.0</td>\n",
       "      <td>0</td>\n",
       "      <td>NaN</td>\n",
       "      <td>NaN</td>\n",
       "      <td>NaN</td>\n",
       "    </tr>\n",
       "    <tr>\n",
       "      <th>3</th>\n",
       "      <td>2569.0</td>\n",
       "      <td>1</td>\n",
       "      <td>1.0</td>\n",
       "      <td>2015-09-14</td>\n",
       "      <td>1.0</td>\n",
       "      <td>1.0</td>\n",
       "      <td>0</td>\n",
       "      <td>0.0</td>\n",
       "      <td>c</td>\n",
       "      <td>a</td>\n",
       "      <td>1270.0</td>\n",
       "      <td>9.0</td>\n",
       "      <td>2008.0</td>\n",
       "      <td>0</td>\n",
       "      <td>NaN</td>\n",
       "      <td>NaN</td>\n",
       "      <td>NaN</td>\n",
       "    </tr>\n",
       "    <tr>\n",
       "      <th>4</th>\n",
       "      <td>3425.0</td>\n",
       "      <td>1</td>\n",
       "      <td>7.0</td>\n",
       "      <td>2015-09-13</td>\n",
       "      <td>0.0</td>\n",
       "      <td>0.0</td>\n",
       "      <td>0</td>\n",
       "      <td>0.0</td>\n",
       "      <td>c</td>\n",
       "      <td>a</td>\n",
       "      <td>1270.0</td>\n",
       "      <td>9.0</td>\n",
       "      <td>2008.0</td>\n",
       "      <td>0</td>\n",
       "      <td>NaN</td>\n",
       "      <td>NaN</td>\n",
       "      <td>NaN</td>\n",
       "    </tr>\n",
       "  </tbody>\n",
       "</table>\n",
       "</div>"
      ],
      "text/plain": [
       "       Id  Store  DayOfWeek        Date  Open  Promo StateHoliday  \\\n",
       "0     1.0      1        4.0  2015-09-17   1.0    1.0            0   \n",
       "1   857.0      1        3.0  2015-09-16   1.0    1.0            0   \n",
       "2  1713.0      1        2.0  2015-09-15   1.0    1.0            0   \n",
       "3  2569.0      1        1.0  2015-09-14   1.0    1.0            0   \n",
       "4  3425.0      1        7.0  2015-09-13   0.0    0.0            0   \n",
       "\n",
       "   SchoolHoliday StoreType Assortment  CompetitionDistance  \\\n",
       "0            0.0         c          a               1270.0   \n",
       "1            0.0         c          a               1270.0   \n",
       "2            0.0         c          a               1270.0   \n",
       "3            0.0         c          a               1270.0   \n",
       "4            0.0         c          a               1270.0   \n",
       "\n",
       "   CompetitionOpenSinceMonth  CompetitionOpenSinceYear  Promo2  \\\n",
       "0                        9.0                    2008.0       0   \n",
       "1                        9.0                    2008.0       0   \n",
       "2                        9.0                    2008.0       0   \n",
       "3                        9.0                    2008.0       0   \n",
       "4                        9.0                    2008.0       0   \n",
       "\n",
       "   Promo2SinceWeek  Promo2SinceYear PromoInterval  \n",
       "0              NaN              NaN           NaN  \n",
       "1              NaN              NaN           NaN  \n",
       "2              NaN              NaN           NaN  \n",
       "3              NaN              NaN           NaN  \n",
       "4              NaN              NaN           NaN  "
      ]
     },
     "execution_count": 18,
     "metadata": {},
     "output_type": "execute_result"
    }
   ],
   "source": [
    "full_test=test.merge(store,on=[\"Store\"],how=\"outer\")\n",
    "full_test.head()"
   ]
  },
  {
   "cell_type": "code",
   "execution_count": 19,
   "metadata": {
    "scrolled": true
   },
   "outputs": [
    {
     "name": "stdout",
     "output_type": "stream",
     "text": [
      "<class 'pandas.core.frame.DataFrame'>\n",
      "Int64Index: 41347 entries, 0 to 41346\n",
      "Data columns (total 17 columns):\n",
      " #   Column                     Non-Null Count  Dtype  \n",
      "---  ------                     --------------  -----  \n",
      " 0   Id                         41088 non-null  float64\n",
      " 1   Store                      41347 non-null  int64  \n",
      " 2   DayOfWeek                  41088 non-null  float64\n",
      " 3   Date                       41088 non-null  object \n",
      " 4   Open                       41077 non-null  float64\n",
      " 5   Promo                      41088 non-null  float64\n",
      " 6   StateHoliday               41088 non-null  object \n",
      " 7   SchoolHoliday              41088 non-null  float64\n",
      " 8   StoreType                  41347 non-null  object \n",
      " 9   Assortment                 41347 non-null  object \n",
      " 10  CompetitionDistance        41250 non-null  float64\n",
      " 11  CompetitionOpenSinceMonth  26094 non-null  float64\n",
      " 12  CompetitionOpenSinceYear   26094 non-null  float64\n",
      " 13  Promo2                     41347 non-null  int64  \n",
      " 14  Promo2SinceWeek            23930 non-null  float64\n",
      " 15  Promo2SinceYear            23930 non-null  float64\n",
      " 16  PromoInterval              23930 non-null  object \n",
      "dtypes: float64(10), int64(2), object(5)\n",
      "memory usage: 5.7+ MB\n"
     ]
    }
   ],
   "source": [
    "full_test.info()"
   ]
  },
  {
   "cell_type": "code",
   "execution_count": 20,
   "metadata": {},
   "outputs": [
    {
     "name": "stdout",
     "output_type": "stream",
     "text": [
      " There are 1017209 rows and 18 columns\n"
     ]
    }
   ],
   "source": [
    "df_shape(full_train)"
   ]
  },
  {
   "cell_type": "code",
   "execution_count": 21,
   "metadata": {},
   "outputs": [
    {
     "name": "stdout",
     "output_type": "stream",
     "text": [
      " There are 41347 rows and 17 columns\n"
     ]
    }
   ],
   "source": [
    "df_shape(full_test)"
   ]
  },
  {
   "cell_type": "markdown",
   "metadata": {},
   "source": [
    "Impute missing values.\n",
    "\n",
    "The train set has missing values.under CompetitionOpenSinceMonth, CompetitionOpenSinceYear, Promo2SinceWeek, Promo2SinceYear and PromoInterval. These values will be replaced by 0 and we will assume the variable is not applicable.\n",
    "\n",
    "The test set has missing values for several values.Values without an Id will be dropped\n",
    "\n"
   ]
  },
  {
   "cell_type": "code",
   "execution_count": 22,
   "metadata": {},
   "outputs": [
    {
     "data": {
      "text/html": [
       "<div>\n",
       "<style scoped>\n",
       "    .dataframe tbody tr th:only-of-type {\n",
       "        vertical-align: middle;\n",
       "    }\n",
       "\n",
       "    .dataframe tbody tr th {\n",
       "        vertical-align: top;\n",
       "    }\n",
       "\n",
       "    .dataframe thead th {\n",
       "        text-align: right;\n",
       "    }\n",
       "</style>\n",
       "<table border=\"1\" class=\"dataframe\">\n",
       "  <thead>\n",
       "    <tr style=\"text-align: right;\">\n",
       "      <th></th>\n",
       "      <th>Id</th>\n",
       "      <th>Store</th>\n",
       "      <th>DayOfWeek</th>\n",
       "      <th>Date</th>\n",
       "      <th>Open</th>\n",
       "      <th>Promo</th>\n",
       "      <th>StateHoliday</th>\n",
       "      <th>SchoolHoliday</th>\n",
       "      <th>StoreType</th>\n",
       "      <th>Assortment</th>\n",
       "      <th>CompetitionDistance</th>\n",
       "      <th>CompetitionOpenSinceMonth</th>\n",
       "      <th>CompetitionOpenSinceYear</th>\n",
       "      <th>Promo2</th>\n",
       "      <th>Promo2SinceWeek</th>\n",
       "      <th>Promo2SinceYear</th>\n",
       "      <th>PromoInterval</th>\n",
       "    </tr>\n",
       "  </thead>\n",
       "  <tbody>\n",
       "    <tr>\n",
       "      <th>41088</th>\n",
       "      <td>NaN</td>\n",
       "      <td>2</td>\n",
       "      <td>NaN</td>\n",
       "      <td>NaN</td>\n",
       "      <td>NaN</td>\n",
       "      <td>NaN</td>\n",
       "      <td>NaN</td>\n",
       "      <td>NaN</td>\n",
       "      <td>a</td>\n",
       "      <td>a</td>\n",
       "      <td>570.0</td>\n",
       "      <td>11.0</td>\n",
       "      <td>2007.0</td>\n",
       "      <td>1</td>\n",
       "      <td>13.0</td>\n",
       "      <td>2010.0</td>\n",
       "      <td>Jan,Apr,Jul,Oct</td>\n",
       "    </tr>\n",
       "    <tr>\n",
       "      <th>41089</th>\n",
       "      <td>NaN</td>\n",
       "      <td>4</td>\n",
       "      <td>NaN</td>\n",
       "      <td>NaN</td>\n",
       "      <td>NaN</td>\n",
       "      <td>NaN</td>\n",
       "      <td>NaN</td>\n",
       "      <td>NaN</td>\n",
       "      <td>c</td>\n",
       "      <td>c</td>\n",
       "      <td>620.0</td>\n",
       "      <td>9.0</td>\n",
       "      <td>2009.0</td>\n",
       "      <td>0</td>\n",
       "      <td>NaN</td>\n",
       "      <td>NaN</td>\n",
       "      <td>NaN</td>\n",
       "    </tr>\n",
       "    <tr>\n",
       "      <th>41090</th>\n",
       "      <td>NaN</td>\n",
       "      <td>5</td>\n",
       "      <td>NaN</td>\n",
       "      <td>NaN</td>\n",
       "      <td>NaN</td>\n",
       "      <td>NaN</td>\n",
       "      <td>NaN</td>\n",
       "      <td>NaN</td>\n",
       "      <td>a</td>\n",
       "      <td>a</td>\n",
       "      <td>29910.0</td>\n",
       "      <td>4.0</td>\n",
       "      <td>2015.0</td>\n",
       "      <td>0</td>\n",
       "      <td>NaN</td>\n",
       "      <td>NaN</td>\n",
       "      <td>NaN</td>\n",
       "    </tr>\n",
       "    <tr>\n",
       "      <th>41091</th>\n",
       "      <td>NaN</td>\n",
       "      <td>6</td>\n",
       "      <td>NaN</td>\n",
       "      <td>NaN</td>\n",
       "      <td>NaN</td>\n",
       "      <td>NaN</td>\n",
       "      <td>NaN</td>\n",
       "      <td>NaN</td>\n",
       "      <td>a</td>\n",
       "      <td>a</td>\n",
       "      <td>310.0</td>\n",
       "      <td>12.0</td>\n",
       "      <td>2013.0</td>\n",
       "      <td>0</td>\n",
       "      <td>NaN</td>\n",
       "      <td>NaN</td>\n",
       "      <td>NaN</td>\n",
       "    </tr>\n",
       "    <tr>\n",
       "      <th>41092</th>\n",
       "      <td>NaN</td>\n",
       "      <td>17</td>\n",
       "      <td>NaN</td>\n",
       "      <td>NaN</td>\n",
       "      <td>NaN</td>\n",
       "      <td>NaN</td>\n",
       "      <td>NaN</td>\n",
       "      <td>NaN</td>\n",
       "      <td>a</td>\n",
       "      <td>a</td>\n",
       "      <td>50.0</td>\n",
       "      <td>12.0</td>\n",
       "      <td>2005.0</td>\n",
       "      <td>1</td>\n",
       "      <td>26.0</td>\n",
       "      <td>2010.0</td>\n",
       "      <td>Jan,Apr,Jul,Oct</td>\n",
       "    </tr>\n",
       "    <tr>\n",
       "      <th>...</th>\n",
       "      <td>...</td>\n",
       "      <td>...</td>\n",
       "      <td>...</td>\n",
       "      <td>...</td>\n",
       "      <td>...</td>\n",
       "      <td>...</td>\n",
       "      <td>...</td>\n",
       "      <td>...</td>\n",
       "      <td>...</td>\n",
       "      <td>...</td>\n",
       "      <td>...</td>\n",
       "      <td>...</td>\n",
       "      <td>...</td>\n",
       "      <td>...</td>\n",
       "      <td>...</td>\n",
       "      <td>...</td>\n",
       "      <td>...</td>\n",
       "    </tr>\n",
       "    <tr>\n",
       "      <th>41342</th>\n",
       "      <td>NaN</td>\n",
       "      <td>1093</td>\n",
       "      <td>NaN</td>\n",
       "      <td>NaN</td>\n",
       "      <td>NaN</td>\n",
       "      <td>NaN</td>\n",
       "      <td>NaN</td>\n",
       "      <td>NaN</td>\n",
       "      <td>c</td>\n",
       "      <td>c</td>\n",
       "      <td>10450.0</td>\n",
       "      <td>6.0</td>\n",
       "      <td>2009.0</td>\n",
       "      <td>0</td>\n",
       "      <td>NaN</td>\n",
       "      <td>NaN</td>\n",
       "      <td>NaN</td>\n",
       "    </tr>\n",
       "    <tr>\n",
       "      <th>41343</th>\n",
       "      <td>NaN</td>\n",
       "      <td>1095</td>\n",
       "      <td>NaN</td>\n",
       "      <td>NaN</td>\n",
       "      <td>NaN</td>\n",
       "      <td>NaN</td>\n",
       "      <td>NaN</td>\n",
       "      <td>NaN</td>\n",
       "      <td>a</td>\n",
       "      <td>a</td>\n",
       "      <td>690.0</td>\n",
       "      <td>6.0</td>\n",
       "      <td>2007.0</td>\n",
       "      <td>1</td>\n",
       "      <td>14.0</td>\n",
       "      <td>2011.0</td>\n",
       "      <td>Jan,Apr,Jul,Oct</td>\n",
       "    </tr>\n",
       "    <tr>\n",
       "      <th>41344</th>\n",
       "      <td>NaN</td>\n",
       "      <td>1098</td>\n",
       "      <td>NaN</td>\n",
       "      <td>NaN</td>\n",
       "      <td>NaN</td>\n",
       "      <td>NaN</td>\n",
       "      <td>NaN</td>\n",
       "      <td>NaN</td>\n",
       "      <td>a</td>\n",
       "      <td>a</td>\n",
       "      <td>1830.0</td>\n",
       "      <td>11.0</td>\n",
       "      <td>2004.0</td>\n",
       "      <td>0</td>\n",
       "      <td>NaN</td>\n",
       "      <td>NaN</td>\n",
       "      <td>NaN</td>\n",
       "    </tr>\n",
       "    <tr>\n",
       "      <th>41345</th>\n",
       "      <td>NaN</td>\n",
       "      <td>1108</td>\n",
       "      <td>NaN</td>\n",
       "      <td>NaN</td>\n",
       "      <td>NaN</td>\n",
       "      <td>NaN</td>\n",
       "      <td>NaN</td>\n",
       "      <td>NaN</td>\n",
       "      <td>a</td>\n",
       "      <td>a</td>\n",
       "      <td>540.0</td>\n",
       "      <td>4.0</td>\n",
       "      <td>2004.0</td>\n",
       "      <td>0</td>\n",
       "      <td>NaN</td>\n",
       "      <td>NaN</td>\n",
       "      <td>NaN</td>\n",
       "    </tr>\n",
       "    <tr>\n",
       "      <th>41346</th>\n",
       "      <td>NaN</td>\n",
       "      <td>1110</td>\n",
       "      <td>NaN</td>\n",
       "      <td>NaN</td>\n",
       "      <td>NaN</td>\n",
       "      <td>NaN</td>\n",
       "      <td>NaN</td>\n",
       "      <td>NaN</td>\n",
       "      <td>c</td>\n",
       "      <td>c</td>\n",
       "      <td>900.0</td>\n",
       "      <td>9.0</td>\n",
       "      <td>2010.0</td>\n",
       "      <td>0</td>\n",
       "      <td>NaN</td>\n",
       "      <td>NaN</td>\n",
       "      <td>NaN</td>\n",
       "    </tr>\n",
       "  </tbody>\n",
       "</table>\n",
       "<p>259 rows × 17 columns</p>\n",
       "</div>"
      ],
      "text/plain": [
       "       Id  Store  DayOfWeek Date  Open  Promo StateHoliday  SchoolHoliday  \\\n",
       "41088 NaN      2        NaN  NaN   NaN    NaN          NaN            NaN   \n",
       "41089 NaN      4        NaN  NaN   NaN    NaN          NaN            NaN   \n",
       "41090 NaN      5        NaN  NaN   NaN    NaN          NaN            NaN   \n",
       "41091 NaN      6        NaN  NaN   NaN    NaN          NaN            NaN   \n",
       "41092 NaN     17        NaN  NaN   NaN    NaN          NaN            NaN   \n",
       "...    ..    ...        ...  ...   ...    ...          ...            ...   \n",
       "41342 NaN   1093        NaN  NaN   NaN    NaN          NaN            NaN   \n",
       "41343 NaN   1095        NaN  NaN   NaN    NaN          NaN            NaN   \n",
       "41344 NaN   1098        NaN  NaN   NaN    NaN          NaN            NaN   \n",
       "41345 NaN   1108        NaN  NaN   NaN    NaN          NaN            NaN   \n",
       "41346 NaN   1110        NaN  NaN   NaN    NaN          NaN            NaN   \n",
       "\n",
       "      StoreType Assortment  CompetitionDistance  CompetitionOpenSinceMonth  \\\n",
       "41088         a          a                570.0                       11.0   \n",
       "41089         c          c                620.0                        9.0   \n",
       "41090         a          a              29910.0                        4.0   \n",
       "41091         a          a                310.0                       12.0   \n",
       "41092         a          a                 50.0                       12.0   \n",
       "...         ...        ...                  ...                        ...   \n",
       "41342         c          c              10450.0                        6.0   \n",
       "41343         a          a                690.0                        6.0   \n",
       "41344         a          a               1830.0                       11.0   \n",
       "41345         a          a                540.0                        4.0   \n",
       "41346         c          c                900.0                        9.0   \n",
       "\n",
       "       CompetitionOpenSinceYear  Promo2  Promo2SinceWeek  Promo2SinceYear  \\\n",
       "41088                    2007.0       1             13.0           2010.0   \n",
       "41089                    2009.0       0              NaN              NaN   \n",
       "41090                    2015.0       0              NaN              NaN   \n",
       "41091                    2013.0       0              NaN              NaN   \n",
       "41092                    2005.0       1             26.0           2010.0   \n",
       "...                         ...     ...              ...              ...   \n",
       "41342                    2009.0       0              NaN              NaN   \n",
       "41343                    2007.0       1             14.0           2011.0   \n",
       "41344                    2004.0       0              NaN              NaN   \n",
       "41345                    2004.0       0              NaN              NaN   \n",
       "41346                    2010.0       0              NaN              NaN   \n",
       "\n",
       "         PromoInterval  \n",
       "41088  Jan,Apr,Jul,Oct  \n",
       "41089              NaN  \n",
       "41090              NaN  \n",
       "41091              NaN  \n",
       "41092  Jan,Apr,Jul,Oct  \n",
       "...                ...  \n",
       "41342              NaN  \n",
       "41343  Jan,Apr,Jul,Oct  \n",
       "41344              NaN  \n",
       "41345              NaN  \n",
       "41346              NaN  \n",
       "\n",
       "[259 rows x 17 columns]"
      ]
     },
     "execution_count": 22,
     "metadata": {},
     "output_type": "execute_result"
    }
   ],
   "source": [
    "#values without Id in train data\n",
    "full_test[full_test['Id'].isnull()]"
   ]
  },
  {
   "cell_type": "code",
   "execution_count": 23,
   "metadata": {},
   "outputs": [],
   "source": [
    "#drop values without id\n",
    "full_test = full_test.dropna(subset=['Id']).reset_index(drop=True)"
   ]
  },
  {
   "cell_type": "code",
   "execution_count": 24,
   "metadata": {},
   "outputs": [
    {
     "name": "stdout",
     "output_type": "stream",
     "text": [
      "<class 'pandas.core.frame.DataFrame'>\n",
      "RangeIndex: 41088 entries, 0 to 41087\n",
      "Data columns (total 17 columns):\n",
      " #   Column                     Non-Null Count  Dtype  \n",
      "---  ------                     --------------  -----  \n",
      " 0   Id                         41088 non-null  float64\n",
      " 1   Store                      41088 non-null  int64  \n",
      " 2   DayOfWeek                  41088 non-null  float64\n",
      " 3   Date                       41088 non-null  object \n",
      " 4   Open                       41077 non-null  float64\n",
      " 5   Promo                      41088 non-null  float64\n",
      " 6   StateHoliday               41088 non-null  object \n",
      " 7   SchoolHoliday              41088 non-null  float64\n",
      " 8   StoreType                  41088 non-null  object \n",
      " 9   Assortment                 41088 non-null  object \n",
      " 10  CompetitionDistance        40992 non-null  float64\n",
      " 11  CompetitionOpenSinceMonth  25872 non-null  float64\n",
      " 12  CompetitionOpenSinceYear   25872 non-null  float64\n",
      " 13  Promo2                     41088 non-null  int64  \n",
      " 14  Promo2SinceWeek            23856 non-null  float64\n",
      " 15  Promo2SinceYear            23856 non-null  float64\n",
      " 16  PromoInterval              23856 non-null  object \n",
      "dtypes: float64(10), int64(2), object(5)\n",
      "memory usage: 5.3+ MB\n"
     ]
    }
   ],
   "source": [
    "full_test.info()"
   ]
  },
  {
   "cell_type": "markdown",
   "metadata": {},
   "source": [
    "The values remaining with null values are \"Open\",\n",
    "\n",
    "The values are missing for one particular store with Id 622 from the period 5th September-17th September 2015. There was no holiday during these days.The values will be imputed with one, where there was a promo going on and the rest will be dropped.\n",
    "\n",
    "Missing values for CompetitionDistance, CompetitionSinceMonth, CompetitionSinceYear, Promo2SinceWeek, PromoSinceYear and PromoInterval will be imputed with 0"
   ]
  },
  {
   "cell_type": "code",
   "execution_count": 25,
   "metadata": {
    "scrolled": true
   },
   "outputs": [
    {
     "data": {
      "text/html": [
       "<div>\n",
       "<style scoped>\n",
       "    .dataframe tbody tr th:only-of-type {\n",
       "        vertical-align: middle;\n",
       "    }\n",
       "\n",
       "    .dataframe tbody tr th {\n",
       "        vertical-align: top;\n",
       "    }\n",
       "\n",
       "    .dataframe thead th {\n",
       "        text-align: right;\n",
       "    }\n",
       "</style>\n",
       "<table border=\"1\" class=\"dataframe\">\n",
       "  <thead>\n",
       "    <tr style=\"text-align: right;\">\n",
       "      <th></th>\n",
       "      <th>Id</th>\n",
       "      <th>Store</th>\n",
       "      <th>DayOfWeek</th>\n",
       "      <th>Date</th>\n",
       "      <th>Open</th>\n",
       "      <th>Promo</th>\n",
       "      <th>StateHoliday</th>\n",
       "      <th>SchoolHoliday</th>\n",
       "      <th>StoreType</th>\n",
       "      <th>Assortment</th>\n",
       "      <th>CompetitionDistance</th>\n",
       "      <th>CompetitionOpenSinceMonth</th>\n",
       "      <th>CompetitionOpenSinceYear</th>\n",
       "      <th>Promo2</th>\n",
       "      <th>Promo2SinceWeek</th>\n",
       "      <th>Promo2SinceYear</th>\n",
       "      <th>PromoInterval</th>\n",
       "    </tr>\n",
       "  </thead>\n",
       "  <tbody>\n",
       "    <tr>\n",
       "      <th>22992</th>\n",
       "      <td>480.0</td>\n",
       "      <td>622</td>\n",
       "      <td>4.0</td>\n",
       "      <td>2015-09-17</td>\n",
       "      <td>NaN</td>\n",
       "      <td>1.0</td>\n",
       "      <td>0</td>\n",
       "      <td>0.0</td>\n",
       "      <td>a</td>\n",
       "      <td>c</td>\n",
       "      <td>NaN</td>\n",
       "      <td>NaN</td>\n",
       "      <td>NaN</td>\n",
       "      <td>0</td>\n",
       "      <td>NaN</td>\n",
       "      <td>NaN</td>\n",
       "      <td>NaN</td>\n",
       "    </tr>\n",
       "    <tr>\n",
       "      <th>22993</th>\n",
       "      <td>1336.0</td>\n",
       "      <td>622</td>\n",
       "      <td>3.0</td>\n",
       "      <td>2015-09-16</td>\n",
       "      <td>NaN</td>\n",
       "      <td>1.0</td>\n",
       "      <td>0</td>\n",
       "      <td>0.0</td>\n",
       "      <td>a</td>\n",
       "      <td>c</td>\n",
       "      <td>NaN</td>\n",
       "      <td>NaN</td>\n",
       "      <td>NaN</td>\n",
       "      <td>0</td>\n",
       "      <td>NaN</td>\n",
       "      <td>NaN</td>\n",
       "      <td>NaN</td>\n",
       "    </tr>\n",
       "    <tr>\n",
       "      <th>22994</th>\n",
       "      <td>2192.0</td>\n",
       "      <td>622</td>\n",
       "      <td>2.0</td>\n",
       "      <td>2015-09-15</td>\n",
       "      <td>NaN</td>\n",
       "      <td>1.0</td>\n",
       "      <td>0</td>\n",
       "      <td>0.0</td>\n",
       "      <td>a</td>\n",
       "      <td>c</td>\n",
       "      <td>NaN</td>\n",
       "      <td>NaN</td>\n",
       "      <td>NaN</td>\n",
       "      <td>0</td>\n",
       "      <td>NaN</td>\n",
       "      <td>NaN</td>\n",
       "      <td>NaN</td>\n",
       "    </tr>\n",
       "    <tr>\n",
       "      <th>22995</th>\n",
       "      <td>3048.0</td>\n",
       "      <td>622</td>\n",
       "      <td>1.0</td>\n",
       "      <td>2015-09-14</td>\n",
       "      <td>NaN</td>\n",
       "      <td>1.0</td>\n",
       "      <td>0</td>\n",
       "      <td>0.0</td>\n",
       "      <td>a</td>\n",
       "      <td>c</td>\n",
       "      <td>NaN</td>\n",
       "      <td>NaN</td>\n",
       "      <td>NaN</td>\n",
       "      <td>0</td>\n",
       "      <td>NaN</td>\n",
       "      <td>NaN</td>\n",
       "      <td>NaN</td>\n",
       "    </tr>\n",
       "    <tr>\n",
       "      <th>22997</th>\n",
       "      <td>4760.0</td>\n",
       "      <td>622</td>\n",
       "      <td>6.0</td>\n",
       "      <td>2015-09-12</td>\n",
       "      <td>NaN</td>\n",
       "      <td>0.0</td>\n",
       "      <td>0</td>\n",
       "      <td>0.0</td>\n",
       "      <td>a</td>\n",
       "      <td>c</td>\n",
       "      <td>NaN</td>\n",
       "      <td>NaN</td>\n",
       "      <td>NaN</td>\n",
       "      <td>0</td>\n",
       "      <td>NaN</td>\n",
       "      <td>NaN</td>\n",
       "      <td>NaN</td>\n",
       "    </tr>\n",
       "    <tr>\n",
       "      <th>22998</th>\n",
       "      <td>5616.0</td>\n",
       "      <td>622</td>\n",
       "      <td>5.0</td>\n",
       "      <td>2015-09-11</td>\n",
       "      <td>NaN</td>\n",
       "      <td>0.0</td>\n",
       "      <td>0</td>\n",
       "      <td>0.0</td>\n",
       "      <td>a</td>\n",
       "      <td>c</td>\n",
       "      <td>NaN</td>\n",
       "      <td>NaN</td>\n",
       "      <td>NaN</td>\n",
       "      <td>0</td>\n",
       "      <td>NaN</td>\n",
       "      <td>NaN</td>\n",
       "      <td>NaN</td>\n",
       "    </tr>\n",
       "    <tr>\n",
       "      <th>22999</th>\n",
       "      <td>6472.0</td>\n",
       "      <td>622</td>\n",
       "      <td>4.0</td>\n",
       "      <td>2015-09-10</td>\n",
       "      <td>NaN</td>\n",
       "      <td>0.0</td>\n",
       "      <td>0</td>\n",
       "      <td>0.0</td>\n",
       "      <td>a</td>\n",
       "      <td>c</td>\n",
       "      <td>NaN</td>\n",
       "      <td>NaN</td>\n",
       "      <td>NaN</td>\n",
       "      <td>0</td>\n",
       "      <td>NaN</td>\n",
       "      <td>NaN</td>\n",
       "      <td>NaN</td>\n",
       "    </tr>\n",
       "    <tr>\n",
       "      <th>23000</th>\n",
       "      <td>7328.0</td>\n",
       "      <td>622</td>\n",
       "      <td>3.0</td>\n",
       "      <td>2015-09-09</td>\n",
       "      <td>NaN</td>\n",
       "      <td>0.0</td>\n",
       "      <td>0</td>\n",
       "      <td>0.0</td>\n",
       "      <td>a</td>\n",
       "      <td>c</td>\n",
       "      <td>NaN</td>\n",
       "      <td>NaN</td>\n",
       "      <td>NaN</td>\n",
       "      <td>0</td>\n",
       "      <td>NaN</td>\n",
       "      <td>NaN</td>\n",
       "      <td>NaN</td>\n",
       "    </tr>\n",
       "    <tr>\n",
       "      <th>23001</th>\n",
       "      <td>8184.0</td>\n",
       "      <td>622</td>\n",
       "      <td>2.0</td>\n",
       "      <td>2015-09-08</td>\n",
       "      <td>NaN</td>\n",
       "      <td>0.0</td>\n",
       "      <td>0</td>\n",
       "      <td>0.0</td>\n",
       "      <td>a</td>\n",
       "      <td>c</td>\n",
       "      <td>NaN</td>\n",
       "      <td>NaN</td>\n",
       "      <td>NaN</td>\n",
       "      <td>0</td>\n",
       "      <td>NaN</td>\n",
       "      <td>NaN</td>\n",
       "      <td>NaN</td>\n",
       "    </tr>\n",
       "    <tr>\n",
       "      <th>23002</th>\n",
       "      <td>9040.0</td>\n",
       "      <td>622</td>\n",
       "      <td>1.0</td>\n",
       "      <td>2015-09-07</td>\n",
       "      <td>NaN</td>\n",
       "      <td>0.0</td>\n",
       "      <td>0</td>\n",
       "      <td>0.0</td>\n",
       "      <td>a</td>\n",
       "      <td>c</td>\n",
       "      <td>NaN</td>\n",
       "      <td>NaN</td>\n",
       "      <td>NaN</td>\n",
       "      <td>0</td>\n",
       "      <td>NaN</td>\n",
       "      <td>NaN</td>\n",
       "      <td>NaN</td>\n",
       "    </tr>\n",
       "    <tr>\n",
       "      <th>23004</th>\n",
       "      <td>10752.0</td>\n",
       "      <td>622</td>\n",
       "      <td>6.0</td>\n",
       "      <td>2015-09-05</td>\n",
       "      <td>NaN</td>\n",
       "      <td>0.0</td>\n",
       "      <td>0</td>\n",
       "      <td>0.0</td>\n",
       "      <td>a</td>\n",
       "      <td>c</td>\n",
       "      <td>NaN</td>\n",
       "      <td>NaN</td>\n",
       "      <td>NaN</td>\n",
       "      <td>0</td>\n",
       "      <td>NaN</td>\n",
       "      <td>NaN</td>\n",
       "      <td>NaN</td>\n",
       "    </tr>\n",
       "  </tbody>\n",
       "</table>\n",
       "</div>"
      ],
      "text/plain": [
       "            Id  Store  DayOfWeek        Date  Open  Promo StateHoliday  \\\n",
       "22992    480.0    622        4.0  2015-09-17   NaN    1.0            0   \n",
       "22993   1336.0    622        3.0  2015-09-16   NaN    1.0            0   \n",
       "22994   2192.0    622        2.0  2015-09-15   NaN    1.0            0   \n",
       "22995   3048.0    622        1.0  2015-09-14   NaN    1.0            0   \n",
       "22997   4760.0    622        6.0  2015-09-12   NaN    0.0            0   \n",
       "22998   5616.0    622        5.0  2015-09-11   NaN    0.0            0   \n",
       "22999   6472.0    622        4.0  2015-09-10   NaN    0.0            0   \n",
       "23000   7328.0    622        3.0  2015-09-09   NaN    0.0            0   \n",
       "23001   8184.0    622        2.0  2015-09-08   NaN    0.0            0   \n",
       "23002   9040.0    622        1.0  2015-09-07   NaN    0.0            0   \n",
       "23004  10752.0    622        6.0  2015-09-05   NaN    0.0            0   \n",
       "\n",
       "       SchoolHoliday StoreType Assortment  CompetitionDistance  \\\n",
       "22992            0.0         a          c                  NaN   \n",
       "22993            0.0         a          c                  NaN   \n",
       "22994            0.0         a          c                  NaN   \n",
       "22995            0.0         a          c                  NaN   \n",
       "22997            0.0         a          c                  NaN   \n",
       "22998            0.0         a          c                  NaN   \n",
       "22999            0.0         a          c                  NaN   \n",
       "23000            0.0         a          c                  NaN   \n",
       "23001            0.0         a          c                  NaN   \n",
       "23002            0.0         a          c                  NaN   \n",
       "23004            0.0         a          c                  NaN   \n",
       "\n",
       "       CompetitionOpenSinceMonth  CompetitionOpenSinceYear  Promo2  \\\n",
       "22992                        NaN                       NaN       0   \n",
       "22993                        NaN                       NaN       0   \n",
       "22994                        NaN                       NaN       0   \n",
       "22995                        NaN                       NaN       0   \n",
       "22997                        NaN                       NaN       0   \n",
       "22998                        NaN                       NaN       0   \n",
       "22999                        NaN                       NaN       0   \n",
       "23000                        NaN                       NaN       0   \n",
       "23001                        NaN                       NaN       0   \n",
       "23002                        NaN                       NaN       0   \n",
       "23004                        NaN                       NaN       0   \n",
       "\n",
       "       Promo2SinceWeek  Promo2SinceYear PromoInterval  \n",
       "22992              NaN              NaN           NaN  \n",
       "22993              NaN              NaN           NaN  \n",
       "22994              NaN              NaN           NaN  \n",
       "22995              NaN              NaN           NaN  \n",
       "22997              NaN              NaN           NaN  \n",
       "22998              NaN              NaN           NaN  \n",
       "22999              NaN              NaN           NaN  \n",
       "23000              NaN              NaN           NaN  \n",
       "23001              NaN              NaN           NaN  \n",
       "23002              NaN              NaN           NaN  \n",
       "23004              NaN              NaN           NaN  "
      ]
     },
     "execution_count": 25,
     "metadata": {},
     "output_type": "execute_result"
    }
   ],
   "source": [
    "full_test[full_test['Open'].isnull()]"
   ]
  },
  {
   "cell_type": "code",
   "execution_count": 26,
   "metadata": {},
   "outputs": [],
   "source": [
    "full_test = full_test.drop(full_test[(full_test['Open'].isnull() == True) & (full_test['Promo'] == 0.0)].index)\n",
    "full_test['Open'] = full_test['Open'].fillna(1)"
   ]
  },
  {
   "cell_type": "code",
   "execution_count": 27,
   "metadata": {},
   "outputs": [
    {
     "name": "stdout",
     "output_type": "stream",
     "text": [
      "<class 'pandas.core.frame.DataFrame'>\n",
      "Int64Index: 41081 entries, 0 to 41087\n",
      "Data columns (total 17 columns):\n",
      " #   Column                     Non-Null Count  Dtype  \n",
      "---  ------                     --------------  -----  \n",
      " 0   Id                         41081 non-null  float64\n",
      " 1   Store                      41081 non-null  int64  \n",
      " 2   DayOfWeek                  41081 non-null  float64\n",
      " 3   Date                       41081 non-null  object \n",
      " 4   Open                       41081 non-null  float64\n",
      " 5   Promo                      41081 non-null  float64\n",
      " 6   StateHoliday               41081 non-null  object \n",
      " 7   SchoolHoliday              41081 non-null  float64\n",
      " 8   StoreType                  41081 non-null  object \n",
      " 9   Assortment                 41081 non-null  object \n",
      " 10  CompetitionDistance        40992 non-null  float64\n",
      " 11  CompetitionOpenSinceMonth  25872 non-null  float64\n",
      " 12  CompetitionOpenSinceYear   25872 non-null  float64\n",
      " 13  Promo2                     41081 non-null  int64  \n",
      " 14  Promo2SinceWeek            23856 non-null  float64\n",
      " 15  Promo2SinceYear            23856 non-null  float64\n",
      " 16  PromoInterval              23856 non-null  object \n",
      "dtypes: float64(10), int64(2), object(5)\n",
      "memory usage: 5.6+ MB\n"
     ]
    }
   ],
   "source": [
    "full_test.info()"
   ]
  },
  {
   "cell_type": "code",
   "execution_count": 28,
   "metadata": {},
   "outputs": [],
   "source": [
    "#replace the rest of the null variables with zero\n",
    "full_test=full_test.fillna(0)"
   ]
  },
  {
   "cell_type": "code",
   "execution_count": 29,
   "metadata": {},
   "outputs": [
    {
     "name": "stdout",
     "output_type": "stream",
     "text": [
      "<class 'pandas.core.frame.DataFrame'>\n",
      "Int64Index: 41081 entries, 0 to 41087\n",
      "Data columns (total 17 columns):\n",
      " #   Column                     Non-Null Count  Dtype  \n",
      "---  ------                     --------------  -----  \n",
      " 0   Id                         41081 non-null  float64\n",
      " 1   Store                      41081 non-null  int64  \n",
      " 2   DayOfWeek                  41081 non-null  float64\n",
      " 3   Date                       41081 non-null  object \n",
      " 4   Open                       41081 non-null  float64\n",
      " 5   Promo                      41081 non-null  float64\n",
      " 6   StateHoliday               41081 non-null  object \n",
      " 7   SchoolHoliday              41081 non-null  float64\n",
      " 8   StoreType                  41081 non-null  object \n",
      " 9   Assortment                 41081 non-null  object \n",
      " 10  CompetitionDistance        41081 non-null  float64\n",
      " 11  CompetitionOpenSinceMonth  41081 non-null  float64\n",
      " 12  CompetitionOpenSinceYear   41081 non-null  float64\n",
      " 13  Promo2                     41081 non-null  int64  \n",
      " 14  Promo2SinceWeek            41081 non-null  float64\n",
      " 15  Promo2SinceYear            41081 non-null  float64\n",
      " 16  PromoInterval              41081 non-null  object \n",
      "dtypes: float64(10), int64(2), object(5)\n",
      "memory usage: 5.6+ MB\n"
     ]
    }
   ],
   "source": [
    "full_test.info()"
   ]
  },
  {
   "cell_type": "code",
   "execution_count": 30,
   "metadata": {},
   "outputs": [],
   "source": [
    "#replace missiing values in train with 0\n",
    "full_train=full_train.fillna(0)"
   ]
  },
  {
   "cell_type": "code",
   "execution_count": 31,
   "metadata": {},
   "outputs": [
    {
     "name": "stdout",
     "output_type": "stream",
     "text": [
      "<class 'pandas.core.frame.DataFrame'>\n",
      "Int64Index: 1017209 entries, 0 to 1017208\n",
      "Data columns (total 18 columns):\n",
      " #   Column                     Non-Null Count    Dtype  \n",
      "---  ------                     --------------    -----  \n",
      " 0   Store                      1017209 non-null  int64  \n",
      " 1   DayOfWeek                  1017209 non-null  int64  \n",
      " 2   Date                       1017209 non-null  object \n",
      " 3   Sales                      1017209 non-null  int64  \n",
      " 4   Customers                  1017209 non-null  int64  \n",
      " 5   Open                       1017209 non-null  int64  \n",
      " 6   Promo                      1017209 non-null  int64  \n",
      " 7   StateHoliday               1017209 non-null  object \n",
      " 8   SchoolHoliday              1017209 non-null  int64  \n",
      " 9   StoreType                  1017209 non-null  object \n",
      " 10  Assortment                 1017209 non-null  object \n",
      " 11  CompetitionDistance        1017209 non-null  float64\n",
      " 12  CompetitionOpenSinceMonth  1017209 non-null  float64\n",
      " 13  CompetitionOpenSinceYear   1017209 non-null  float64\n",
      " 14  Promo2                     1017209 non-null  int64  \n",
      " 15  Promo2SinceWeek            1017209 non-null  float64\n",
      " 16  Promo2SinceYear            1017209 non-null  float64\n",
      " 17  PromoInterval              1017209 non-null  object \n",
      "dtypes: float64(5), int64(8), object(5)\n",
      "memory usage: 147.5+ MB\n"
     ]
    }
   ],
   "source": [
    "full_train.info()"
   ]
  },
  {
   "cell_type": "code",
   "execution_count": 32,
   "metadata": {},
   "outputs": [],
   "source": [
    "#define function to clean and impute missing values\n",
    "#def clean(df):\n",
    "    "
   ]
  },
  {
   "cell_type": "markdown",
   "metadata": {},
   "source": [
    "Check the distribution of train and test datasets.\n",
    "\n",
    "The histograms below show that the train and test set variables have similar distribution therefore the prediction can be done on the test dataset."
   ]
  },
  {
   "cell_type": "code",
   "execution_count": 33,
   "metadata": {},
   "outputs": [
    {
     "data": {
      "text/plain": [
       "array([[<matplotlib.axes._subplots.AxesSubplot object at 0x000001DA426CB988>,\n",
       "        <matplotlib.axes._subplots.AxesSubplot object at 0x000001DA427D7288>,\n",
       "        <matplotlib.axes._subplots.AxesSubplot object at 0x000001DA4280E948>,\n",
       "        <matplotlib.axes._subplots.AxesSubplot object at 0x000001DA42849A48>],\n",
       "       [<matplotlib.axes._subplots.AxesSubplot object at 0x000001DA42882B88>,\n",
       "        <matplotlib.axes._subplots.AxesSubplot object at 0x000001DA428BBC88>,\n",
       "        <matplotlib.axes._subplots.AxesSubplot object at 0x000001DA428F3D48>,\n",
       "        <matplotlib.axes._subplots.AxesSubplot object at 0x000001DA4292AE88>],\n",
       "       [<matplotlib.axes._subplots.AxesSubplot object at 0x000001DA42936A88>,\n",
       "        <matplotlib.axes._subplots.AxesSubplot object at 0x000001DA4296DC48>,\n",
       "        <matplotlib.axes._subplots.AxesSubplot object at 0x000001DA429DB208>,\n",
       "        <matplotlib.axes._subplots.AxesSubplot object at 0x000001DA42A13288>],\n",
       "       [<matplotlib.axes._subplots.AxesSubplot object at 0x000001DA42A4D388>,\n",
       "        <matplotlib.axes._subplots.AxesSubplot object at 0x000001DA42A854C8>,\n",
       "        <matplotlib.axes._subplots.AxesSubplot object at 0x000001DA4424C6C8>,\n",
       "        <matplotlib.axes._subplots.AxesSubplot object at 0x000001DA44286888>]],\n",
       "      dtype=object)"
      ]
     },
     "execution_count": 33,
     "metadata": {},
     "output_type": "execute_result"
    },
    {
     "data": {
      "image/png": "[encoded data removed]",
      "text/plain": [
       "<Figure size 1440x720 with 16 Axes>"
      ]
     },
     "metadata": {
      "needs_background": "light"
     },
     "output_type": "display_data"
    }
   ],
   "source": [
    "#Distribution of train set\n",
    "full_train.hist(figsize=(20,10))"
   ]
  },
  {
   "cell_type": "code",
   "execution_count": 34,
   "metadata": {},
   "outputs": [
    {
     "data": {
      "text/plain": [
       "array([[<matplotlib.axes._subplots.AxesSubplot object at 0x000001DA42731688>,\n",
       "        <matplotlib.axes._subplots.AxesSubplot object at 0x000001DA51316788>,\n",
       "        <matplotlib.axes._subplots.AxesSubplot object at 0x000001DA5133FF88>],\n",
       "       [<matplotlib.axes._subplots.AxesSubplot object at 0x000001DA44721988>,\n",
       "        <matplotlib.axes._subplots.AxesSubplot object at 0x000001DA447593C8>,\n",
       "        <matplotlib.axes._subplots.AxesSubplot object at 0x000001DA4478ED88>],\n",
       "       [<matplotlib.axes._subplots.AxesSubplot object at 0x000001DA447C9748>,\n",
       "        <matplotlib.axes._subplots.AxesSubplot object at 0x000001DA44804188>,\n",
       "        <matplotlib.axes._subplots.AxesSubplot object at 0x000001DA4480AC88>],\n",
       "       [<matplotlib.axes._subplots.AxesSubplot object at 0x000001DA44845B48>,\n",
       "        <matplotlib.axes._subplots.AxesSubplot object at 0x000001DA448B10C8>,\n",
       "        <matplotlib.axes._subplots.AxesSubplot object at 0x000001DA50CFD148>]],\n",
       "      dtype=object)"
      ]
     },
     "execution_count": 34,
     "metadata": {},
     "output_type": "execute_result"
    },
    {
     "data": {
      "image/png": "[encoded data removed]",
      "text/plain": [
       "<Figure size 1440x720 with 12 Axes>"
      ]
     },
     "metadata": {
      "needs_background": "light"
     },
     "output_type": "display_data"
    }
   ],
   "source": [
    "#Distribution of test set\n",
    "full_test.hist(figsize=(20,10))"
   ]
  },
  {
   "cell_type": "markdown",
   "metadata": {},
   "source": [
    "Plot of sales v/s state holidays."
   ]
  },
  {
   "cell_type": "code",
   "execution_count": 35,
   "metadata": {},
   "outputs": [
    {
     "data": {
      "text/plain": [
       "0    855087\n",
       "0    131072\n",
       "a     20260\n",
       "b      6690\n",
       "c      4100\n",
       "Name: StateHoliday, dtype: int64"
      ]
     },
     "execution_count": 35,
     "metadata": {},
     "output_type": "execute_result"
    }
   ],
   "source": [
    "full_train.StateHoliday.value_counts()"
   ]
  },
  {
   "cell_type": "code",
   "execution_count": 36,
   "metadata": {},
   "outputs": [
    {
     "data": {
      "text/plain": [
       "0    835488\n",
       "1    181721\n",
       "Name: SchoolHoliday, dtype: int64"
      ]
     },
     "execution_count": 36,
     "metadata": {},
     "output_type": "execute_result"
    }
   ],
   "source": [
    "full_train.SchoolHoliday.value_counts()"
   ]
  },
  {
   "cell_type": "code",
   "execution_count": 37,
   "metadata": {},
   "outputs": [
    {
     "data": {
      "text/html": [
       "<div>\n",
       "<style scoped>\n",
       "    .dataframe tbody tr th:only-of-type {\n",
       "        vertical-align: middle;\n",
       "    }\n",
       "\n",
       "    .dataframe tbody tr th {\n",
       "        vertical-align: top;\n",
       "    }\n",
       "\n",
       "    .dataframe thead th {\n",
       "        text-align: right;\n",
       "    }\n",
       "</style>\n",
       "<table border=\"1\" class=\"dataframe\">\n",
       "  <thead>\n",
       "    <tr style=\"text-align: right;\">\n",
       "      <th></th>\n",
       "      <th>WeekOfYear</th>\n",
       "      <th>Average Sales</th>\n",
       "    </tr>\n",
       "  </thead>\n",
       "  <tbody>\n",
       "    <tr>\n",
       "      <th>0</th>\n",
       "      <td>1</td>\n",
       "      <td>4339.044625</td>\n",
       "    </tr>\n",
       "    <tr>\n",
       "      <th>1</th>\n",
       "      <td>2</td>\n",
       "      <td>6354.031219</td>\n",
       "    </tr>\n",
       "    <tr>\n",
       "      <th>2</th>\n",
       "      <td>3</td>\n",
       "      <td>5111.601025</td>\n",
       "    </tr>\n",
       "    <tr>\n",
       "      <th>3</th>\n",
       "      <td>4</td>\n",
       "      <td>5595.613496</td>\n",
       "    </tr>\n",
       "    <tr>\n",
       "      <th>4</th>\n",
       "      <td>5</td>\n",
       "      <td>5463.895836</td>\n",
       "    </tr>\n",
       "  </tbody>\n",
       "</table>\n",
       "</div>"
      ],
      "text/plain": [
       "   WeekOfYear  Average Sales\n",
       "0           1    4339.044625\n",
       "1           2    6354.031219\n",
       "2           3    5111.601025\n",
       "3           4    5595.613496\n",
       "4           5    5463.895836"
      ]
     },
     "execution_count": 37,
     "metadata": {},
     "output_type": "execute_result"
    }
   ],
   "source": [
    "#get average sales per week\n",
    "average_sales = pd.DataFrame(date_type(full_train).groupby('WeekOfYear')[\"Sales\"].mean()).rename(columns={'Sales':'Average Sales'}).reset_index()\n",
    "average_sales.head()"
   ]
  },
  {
   "cell_type": "code",
   "execution_count": 38,
   "metadata": {},
   "outputs": [],
   "source": [
    "state_holidays=pd.DataFrame(date_type(full_train).groupby('WeekOfYear')[\"StateHoliday\"].unique()).rename(columns={'StateHoliday':'Holiday'}).reset_index()"
   ]
  },
  {
   "cell_type": "code",
   "execution_count": 51,
   "metadata": {},
   "outputs": [],
   "source": [
    "def holiday(arr):\n",
    "    return np.count_nonzero(arr==0)    "
   ]
  },
  {
   "cell_type": "code",
   "execution_count": 52,
   "metadata": {},
   "outputs": [
    {
     "data": {
      "text/html": [
       "<div>\n",
       "<style scoped>\n",
       "    .dataframe tbody tr th:only-of-type {\n",
       "        vertical-align: middle;\n",
       "    }\n",
       "\n",
       "    .dataframe tbody tr th {\n",
       "        vertical-align: top;\n",
       "    }\n",
       "\n",
       "    .dataframe thead th {\n",
       "        text-align: right;\n",
       "    }\n",
       "</style>\n",
       "<table border=\"1\" class=\"dataframe\">\n",
       "  <thead>\n",
       "    <tr style=\"text-align: right;\">\n",
       "      <th></th>\n",
       "      <th>WeekOfYear</th>\n",
       "      <th>Holiday</th>\n",
       "    </tr>\n",
       "  </thead>\n",
       "  <tbody>\n",
       "    <tr>\n",
       "      <th>0</th>\n",
       "      <td>1</td>\n",
       "      <td>1</td>\n",
       "    </tr>\n",
       "    <tr>\n",
       "      <th>1</th>\n",
       "      <td>2</td>\n",
       "      <td>1</td>\n",
       "    </tr>\n",
       "    <tr>\n",
       "      <th>2</th>\n",
       "      <td>3</td>\n",
       "      <td>0</td>\n",
       "    </tr>\n",
       "    <tr>\n",
       "      <th>3</th>\n",
       "      <td>4</td>\n",
       "      <td>0</td>\n",
       "    </tr>\n",
       "    <tr>\n",
       "      <th>4</th>\n",
       "      <td>5</td>\n",
       "      <td>0</td>\n",
       "    </tr>\n",
       "  </tbody>\n",
       "</table>\n",
       "</div>"
      ],
      "text/plain": [
       "   WeekOfYear  Holiday\n",
       "0           1        1\n",
       "1           2        1\n",
       "2           3        0\n",
       "3           4        0\n",
       "4           5        0"
      ]
     },
     "execution_count": 52,
     "metadata": {},
     "output_type": "execute_result"
    }
   ],
   "source": [
    "state_holidays['Holiday']=state_holidays.Holiday.apply(holiday)\n",
    "state_holidays.head()"
   ]
  },
  {
   "cell_type": "code",
   "execution_count": 53,
   "metadata": {},
   "outputs": [
    {
     "data": {
      "text/html": [
       "<div>\n",
       "<style scoped>\n",
       "    .dataframe tbody tr th:only-of-type {\n",
       "        vertical-align: middle;\n",
       "    }\n",
       "\n",
       "    .dataframe tbody tr th {\n",
       "        vertical-align: top;\n",
       "    }\n",
       "\n",
       "    .dataframe thead th {\n",
       "        text-align: right;\n",
       "    }\n",
       "</style>\n",
       "<table border=\"1\" class=\"dataframe\">\n",
       "  <thead>\n",
       "    <tr style=\"text-align: right;\">\n",
       "      <th></th>\n",
       "      <th>WeekOfYear</th>\n",
       "      <th>Average Sales</th>\n",
       "      <th>Holiday</th>\n",
       "    </tr>\n",
       "  </thead>\n",
       "  <tbody>\n",
       "    <tr>\n",
       "      <th>0</th>\n",
       "      <td>1</td>\n",
       "      <td>4339.044625</td>\n",
       "      <td>1</td>\n",
       "    </tr>\n",
       "    <tr>\n",
       "      <th>1</th>\n",
       "      <td>2</td>\n",
       "      <td>6354.031219</td>\n",
       "      <td>1</td>\n",
       "    </tr>\n",
       "    <tr>\n",
       "      <th>2</th>\n",
       "      <td>3</td>\n",
       "      <td>5111.601025</td>\n",
       "      <td>0</td>\n",
       "    </tr>\n",
       "    <tr>\n",
       "      <th>3</th>\n",
       "      <td>4</td>\n",
       "      <td>5595.613496</td>\n",
       "      <td>0</td>\n",
       "    </tr>\n",
       "    <tr>\n",
       "      <th>4</th>\n",
       "      <td>5</td>\n",
       "      <td>5463.895836</td>\n",
       "      <td>0</td>\n",
       "    </tr>\n",
       "  </tbody>\n",
       "</table>\n",
       "</div>"
      ],
      "text/plain": [
       "   WeekOfYear  Average Sales  Holiday\n",
       "0           1    4339.044625        1\n",
       "1           2    6354.031219        1\n",
       "2           3    5111.601025        0\n",
       "3           4    5595.613496        0\n",
       "4           5    5463.895836        0"
      ]
     },
     "execution_count": 53,
     "metadata": {},
     "output_type": "execute_result"
    }
   ],
   "source": [
    "sales_hol=average_sales.merge(state_holidays,on=[\"WeekOfYear\"],how=\"outer\")\n",
    "sales_hol.head()"
   ]
  },
  {
   "cell_type": "markdown",
   "metadata": {},
   "source": [
    "Sales increase whenever there is a holiday"
   ]
  },
  {
   "cell_type": "code",
   "execution_count": 54,
   "metadata": {},
   "outputs": [
    {
     "data": {
      "text/plain": [
       "<matplotlib.axes._subplots.AxesSubplot at 0x1da30f96f88>"
      ]
     },
     "execution_count": 54,
     "metadata": {},
     "output_type": "execute_result"
    },
    {
     "data": {
      "image/png": "[encoded data removed]",
      "text/plain": [
       "<Figure size 432x288 with 1 Axes>"
      ]
     },
     "metadata": {},
     "output_type": "display_data"
    }
   ],
   "source": [
    "sns.set()\n",
    "sns.lineplot(x=\"WeekOfYear\", y=\"Average Sales\", hue=\"Holiday\", markers=True, data=sales_hol)"
   ]
  },
  {
   "cell_type": "markdown",
   "metadata": {},
   "source": [
    "Seasonal (Christmas, Easter etc) purchase behaviours,\n",
    "Sales increase sharply at the end of the year, around Christmas time"
   ]
  },
  {
   "cell_type": "code",
   "execution_count": 55,
   "metadata": {},
   "outputs": [
    {
     "data": {
      "text/plain": [
       "Text(0.5, 0, 'Week Of Year')"
      ]
     },
     "execution_count": 55,
     "metadata": {},
     "output_type": "execute_result"
    },
    {
     "data": {
      "image/png": "[encoded data removed]",
      "text/plain": [
       "<Figure size 432x288 with 1 Axes>"
      ]
     },
     "metadata": {},
     "output_type": "display_data"
    }
   ],
   "source": [
    "average_sales['Average Sales'].plot.line()\n",
    "\n",
    "plt.title('Trend of Sales over the year')\n",
    "plt.ylabel(\"Sales\", size=12)\n",
    "plt.xlabel('Week Of Year', size=12)"
   ]
  },
  {
   "cell_type": "markdown",
   "metadata": {},
   "source": [
    "The correlation between sales and number of customers is strongly positive, when the number of customers increase, sales increase."
   ]
  },
  {
   "cell_type": "code",
   "execution_count": 56,
   "metadata": {},
   "outputs": [
    {
     "data": {
      "text/html": [
       "<div>\n",
       "<style scoped>\n",
       "    .dataframe tbody tr th:only-of-type {\n",
       "        vertical-align: middle;\n",
       "    }\n",
       "\n",
       "    .dataframe tbody tr th {\n",
       "        vertical-align: top;\n",
       "    }\n",
       "\n",
       "    .dataframe thead th {\n",
       "        text-align: right;\n",
       "    }\n",
       "</style>\n",
       "<table border=\"1\" class=\"dataframe\">\n",
       "  <thead>\n",
       "    <tr style=\"text-align: right;\">\n",
       "      <th></th>\n",
       "      <th>Sales</th>\n",
       "      <th>Customers</th>\n",
       "    </tr>\n",
       "  </thead>\n",
       "  <tbody>\n",
       "    <tr>\n",
       "      <th>Sales</th>\n",
       "      <td>1.000000</td>\n",
       "      <td>0.894711</td>\n",
       "    </tr>\n",
       "    <tr>\n",
       "      <th>Customers</th>\n",
       "      <td>0.894711</td>\n",
       "      <td>1.000000</td>\n",
       "    </tr>\n",
       "  </tbody>\n",
       "</table>\n",
       "</div>"
      ],
      "text/plain": [
       "              Sales  Customers\n",
       "Sales      1.000000   0.894711\n",
       "Customers  0.894711   1.000000"
      ]
     },
     "execution_count": 56,
     "metadata": {},
     "output_type": "execute_result"
    }
   ],
   "source": [
    "full_train[['Sales','Customers']].corr()"
   ]
  },
  {
   "cell_type": "code",
   "execution_count": 57,
   "metadata": {},
   "outputs": [
    {
     "data": {
      "image/png": "[encoded data removed]",
      "text/plain": [
       "<Figure size 432x288 with 2 Axes>"
      ]
     },
     "metadata": {},
     "output_type": "display_data"
    }
   ],
   "source": [
    "ax = sns.heatmap(full_train[['Sales','Customers']].corr(), square=True)\n",
    "plt.setp( ax.xaxis.get_majorticklabels(), rotation=90 )\n",
    "plt.title('Correlation between Customers and sales')\n",
    "plt.tight_layout()\n",
    "plt.show()"
   ]
  },
  {
   "cell_type": "markdown",
   "metadata": {},
   "source": [
    "Analysis of the sales during promotions shows that sales increase when the stores have promos.\n",
    "\n",
    "The number of customers also increases during promos, that measn the stores attract new customers when they run promotions. \n",
    "\n",
    "The sales increase by a greater margin compared to the number of customers, that means existing customers spend more during promotions than they would on average.\n"
   ]
  },
  {
   "cell_type": "code",
   "execution_count": 58,
   "metadata": {},
   "outputs": [
    {
     "data": {
      "text/plain": [
       "<matplotlib.axes._subplots.AxesSubplot at 0x1da51a8bd48>"
      ]
     },
     "execution_count": 58,
     "metadata": {},
     "output_type": "execute_result"
    },
    {
     "data": {
      "image/png": "[encoded data removed]",
      "text/plain": [
       "<Figure size 1440x288 with 2 Axes>"
      ]
     },
     "metadata": {},
     "output_type": "display_data"
    }
   ],
   "source": [
    "fig, (axis1,axis2) = plt.subplots(1,2,figsize=(20,4))\n",
    "\n",
    "axis1.title.set_text('Promo vs.Sales')\n",
    "axis2.title.set_text('Promo vs.Customers')\n",
    "sns.barplot(x='Promo', y='Sales', data=full_train, ax=axis1)\n",
    "sns.barplot(x='Promo', y='Customers', data=full_train, ax=axis2)"
   ]
  },
  {
   "cell_type": "markdown",
   "metadata": {},
   "source": [
    "Store type b has more sales and more customers.\n",
    "\n",
    "All the stores experience more sales and more customers but stores of type a,d and c experience a higher margin for both variables during promos compared to stores of type b. Promos should be deployed more in stores a, d and c."
   ]
  },
  {
   "cell_type": "code",
   "execution_count": 59,
   "metadata": {},
   "outputs": [
    {
     "data": {
      "text/plain": [
       "<matplotlib.axes._subplots.AxesSubplot at 0x1da51b44688>"
      ]
     },
     "execution_count": 59,
     "metadata": {},
     "output_type": "execute_result"
    },
    {
     "data": {
      "image/png": "[encoded data removed]",
      "text/plain": [
       "<Figure size 1440x288 with 2 Axes>"
      ]
     },
     "metadata": {},
     "output_type": "display_data"
    }
   ],
   "source": [
    "fig, (axis1,axis2) = plt.subplots(1,2,figsize=(20,4))\n",
    "\n",
    "axis1.title.set_text('Store Type vs.Sales')\n",
    "axis2.title.set_text('Store Type vs.Customers')\n",
    "sns.barplot(x='StoreType', y='Sales', data=full_train, ax=axis1)\n",
    "sns.barplot(x='StoreType', y='Customers', data=full_train, ax=axis2)"
   ]
  },
  {
   "cell_type": "code",
   "execution_count": 60,
   "metadata": {},
   "outputs": [
    {
     "data": {
      "text/plain": [
       "<matplotlib.axes._subplots.AxesSubplot at 0x1da552344c8>"
      ]
     },
     "execution_count": 60,
     "metadata": {},
     "output_type": "execute_result"
    },
    {
     "data": {
      "image/png": "[encoded data removed]",
      "text/plain": [
       "<Figure size 1440x288 with 2 Axes>"
      ]
     },
     "metadata": {},
     "output_type": "display_data"
    }
   ],
   "source": [
    "fig, (axis1,axis2) = plt.subplots(1,2,figsize=(20,4))\n",
    "\n",
    "axis1.title.set_text('Store Type vs.Sales')\n",
    "axis2.title.set_text('Store Type vs.Customers')\n",
    "sns.barplot(x='StoreType', y='Sales', data=full_train,hue='Promo', ax=axis1)\n",
    "sns.barplot(x='StoreType', y='Customers', data=full_train,hue='Promo', ax=axis2)"
   ]
  },
  {
   "cell_type": "markdown",
   "metadata": {},
   "source": [
    "Trends of customer behavior during store open and closing times"
   ]
  },
  {
   "cell_type": "markdown",
   "metadata": {},
   "source": [
    "All the four types of stores are open on Weekdays and only stores of type b are open on Sunday. Store b makes most of its sales on Sunday and Monday and its least sales on Saturday. The sales for store a reduce on the weekend and are highest on Monday. \n",
    "\n",
    "All the stores experience more sales on Monday than other days of the week. This means the stores make more sales on the day they open after being closed.\n",
    "\n"
   ]
  },
  {
   "cell_type": "code",
   "execution_count": 61,
   "metadata": {},
   "outputs": [
    {
     "data": {
      "text/plain": [
       "<matplotlib.axes._subplots.AxesSubplot at 0x1da5e02ef88>"
      ]
     },
     "execution_count": 61,
     "metadata": {},
     "output_type": "execute_result"
    },
    {
     "data": {
      "image/png": "[encoded data removed]",
      "text/plain": [
       "<Figure size 1080x288 with 1 Axes>"
      ]
     },
     "metadata": {},
     "output_type": "display_data"
    }
   ],
   "source": [
    "fig, (axis1) = plt.subplots(1,1,figsize=(15,4))\n",
    "axis1.title.set_text('Open Time vs.Sales')\n",
    "sns.barplot(x='DayOfWeek', y='Sales',hue='StoreType', data=full_train, ax=axis1)"
   ]
  },
  {
   "cell_type": "markdown",
   "metadata": {},
   "source": [
    "Stores that have an assortment type of b(extra assortment) record higher sales."
   ]
  },
  {
   "cell_type": "code",
   "execution_count": 62,
   "metadata": {
    "scrolled": true
   },
   "outputs": [
    {
     "data": {
      "text/plain": [
       "<matplotlib.axes._subplots.AxesSubplot at 0x1da5e567348>"
      ]
     },
     "execution_count": 62,
     "metadata": {},
     "output_type": "execute_result"
    },
    {
     "data": {
      "image/png": "[encoded data removed]",
      "text/plain": [
       "<Figure size 1080x288 with 1 Axes>"
      ]
     },
     "metadata": {},
     "output_type": "display_data"
    }
   ],
   "source": [
    "fig, (axis1) = plt.subplots(1,1,figsize=(15,4))\n",
    "axis1.title.set_text('Assortment Type vs.Sales')\n",
    "sns.barplot(x='Assortment', y='Sales', data=full_train, ax=axis1)"
   ]
  },
  {
   "cell_type": "markdown",
   "metadata": {},
   "source": [
    "The shorter the distance from the competitor the higher the sales."
   ]
  },
  {
   "cell_type": "code",
   "execution_count": 93,
   "metadata": {},
   "outputs": [
    {
     "data": {
      "text/plain": [
       "<matplotlib.axes._subplots.AxesSubplot at 0x1daa4093c88>"
      ]
     },
     "execution_count": 93,
     "metadata": {},
     "output_type": "execute_result"
    },
    {
     "data": {
      "image/png": "[encoded data removed]",
      "text/plain": [
       "<Figure size 1080x288 with 1 Axes>"
      ]
     },
     "metadata": {},
     "output_type": "display_data"
    }
   ],
   "source": [
    "fig, (axis1) = plt.subplots(1,1,figsize=(15,4))\n",
    "axis1.title.set_text('Competitor Distance vs.Sales')\n",
    "sns.lineplot(x='CompetitionDistance', y='Sales', data=full_train, ax=axis1)"
   ]
  },
  {
   "cell_type": "markdown",
   "metadata": {},
   "source": [
    "Most competitors joined the market in the 2000s, the sales have constantly reduced through this time. At the time when the competition was highest, the total sales also dropped significantly"
   ]
  },
  {
   "cell_type": "code",
   "execution_count": 90,
   "metadata": {},
   "outputs": [
    {
     "data": {
      "text/html": [
       "<div>\n",
       "<style scoped>\n",
       "    .dataframe tbody tr th:only-of-type {\n",
       "        vertical-align: middle;\n",
       "    }\n",
       "\n",
       "    .dataframe tbody tr th {\n",
       "        vertical-align: top;\n",
       "    }\n",
       "\n",
       "    .dataframe thead th {\n",
       "        text-align: right;\n",
       "    }\n",
       "</style>\n",
       "<table border=\"1\" class=\"dataframe\">\n",
       "  <thead>\n",
       "    <tr style=\"text-align: right;\">\n",
       "      <th></th>\n",
       "      <th>Year</th>\n",
       "      <th>Total Sales</th>\n",
       "    </tr>\n",
       "  </thead>\n",
       "  <tbody>\n",
       "    <tr>\n",
       "      <th>0</th>\n",
       "      <td>2013</td>\n",
       "      <td>2302876084</td>\n",
       "    </tr>\n",
       "    <tr>\n",
       "      <th>1</th>\n",
       "      <td>2014</td>\n",
       "      <td>2180804896</td>\n",
       "    </tr>\n",
       "    <tr>\n",
       "      <th>2</th>\n",
       "      <td>2015</td>\n",
       "      <td>1389499643</td>\n",
       "    </tr>\n",
       "  </tbody>\n",
       "</table>\n",
       "</div>"
      ],
      "text/plain": [
       "   Year  Total Sales\n",
       "0  2013   2302876084\n",
       "1  2014   2180804896\n",
       "2  2015   1389499643"
      ]
     },
     "execution_count": 90,
     "metadata": {},
     "output_type": "execute_result"
    }
   ],
   "source": [
    "average_sales_per_year = pd.DataFrame(date_type(full_train).groupby('Year')[\"Sales\"].sum()).rename(columns={'Sales':'Total Sales'}).reset_index()\n",
    "average_sales_per_year.head()"
   ]
  },
  {
   "cell_type": "code",
   "execution_count": 92,
   "metadata": {},
   "outputs": [
    {
     "data": {
      "text/plain": [
       "<matplotlib.axes._subplots.AxesSubplot at 0x1daa421df48>"
      ]
     },
     "execution_count": 92,
     "metadata": {},
     "output_type": "execute_result"
    },
    {
     "data": {
      "image/png": "[encoded data removed]",
      "text/plain": [
       "<Figure size 1440x288 with 2 Axes>"
      ]
     },
     "metadata": {},
     "output_type": "display_data"
    }
   ],
   "source": [
    "fig, (axis1,axis2) = plt.subplots(1,2,figsize=(20,4))\n",
    "\n",
    "axis1.title.set_text('Competition')\n",
    "axis2.title.set_text('Sales')\n",
    "sns.distplot(store['CompetitionOpenSinceYear'][~np.isnan(store['CompetitionOpenSinceYear'])], ax=axis1)\n",
    "sns.barplot(x='Year', y='Total Sales', data=average_sales_per_year, ax=axis2)"
   ]
  },
  {
   "cell_type": "code",
   "execution_count": null,
   "metadata": {},
   "outputs": [],
   "source": []
  }
 ],
 "metadata": {
  "kernelspec": {
   "display_name": "Python 3",
   "language": "python",
   "name": "python3"
  },
  "language_info": {
   "codemirror_mode": {
    "name": "ipython",
    "version": 3
   },
   "file_extension": ".py",
   "mimetype": "text/x-python",
   "name": "python",
   "nbconvert_exporter": "python",
   "pygments_lexer": "ipython3",
   "version": "3.7.4"
  }
 },
 "nbformat": 4,
 "nbformat_minor": 2
}
